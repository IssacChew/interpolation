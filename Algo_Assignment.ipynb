{
  "nbformat": 4,
  "nbformat_minor": 0,
  "metadata": {
    "kernelspec": {
      "display_name": "Python 3",
      "language": "python",
      "name": "python3"
    },
    "language_info": {
      "codemirror_mode": {
        "name": "ipython",
        "version": 3
      },
      "file_extension": ".py",
      "mimetype": "text/x-python",
      "name": "python",
      "nbconvert_exporter": "python",
      "pygments_lexer": "ipython3",
      "version": "3.8.3"
    },
    "colab": {
      "name": "Algo Assignment.ipynb",
      "provenance": [],
      "collapsed_sections": [],
      "include_colab_link": true
    }
  },
  "cells": [
    {
      "cell_type": "markdown",
      "metadata": {
        "id": "view-in-github",
        "colab_type": "text"
      },
      "source": [
        "<a href=\"https://colab.research.google.com/github/IssacChew/interpolation/blob/master/Algo_Assignment.ipynb\" target=\"_parent\"><img src=\"https://colab.research.google.com/assets/colab-badge.svg\" alt=\"Open In Colab\"/></a>"
      ]
    },
    {
      "cell_type": "code",
      "metadata": {
        "id": "krNH5yffVgaN",
        "colab_type": "code",
        "colab": {
          "base_uri": "https://localhost:8080/",
          "height": 363
        },
        "outputId": "58e64309-5bb4-4476-dec3-68efcfb6f946"
      },
      "source": [
        "#To install osmnx\n",
        "#conda config --prepend channels conda-forge\n",
        "#conda create -n ox --strict-channel-priority osmnx\n",
        "#conda activate ox\n",
        "#Other libraries just use pip\n",
        "import osmnx as ox\n",
        "import networkx as nx\n",
        "import matplotlib.pyplot as plt\n",
        "import folium\n",
        "import sys \n",
        "import pandas as pd\n",
        "from geopy import distance\n",
        "import requests\n",
        "from bs4 import BeautifulSoup\n",
        "import pandas as pd\n",
        "import re\n",
        "import numpy as np\n",
        "import plotly.express as px\n",
        "from plotly.offline import plot"
      ],
      "execution_count": null,
      "outputs": [
        {
          "output_type": "error",
          "ename": "ModuleNotFoundError",
          "evalue": "ignored",
          "traceback": [
            "\u001b[0;31m---------------------------------------------------------------------------\u001b[0m",
            "\u001b[0;31mModuleNotFoundError\u001b[0m                       Traceback (most recent call last)",
            "\u001b[0;32m<ipython-input-20-430e9d8746bf>\u001b[0m in \u001b[0;36m<module>\u001b[0;34m()\u001b[0m\n\u001b[1;32m      4\u001b[0m \u001b[0;31m#conda activate ox\u001b[0m\u001b[0;34m\u001b[0m\u001b[0;34m\u001b[0m\u001b[0;34m\u001b[0m\u001b[0m\n\u001b[1;32m      5\u001b[0m \u001b[0;31m#Other libraries just use pip\u001b[0m\u001b[0;34m\u001b[0m\u001b[0;34m\u001b[0m\u001b[0;34m\u001b[0m\u001b[0m\n\u001b[0;32m----> 6\u001b[0;31m \u001b[0;32mimport\u001b[0m \u001b[0mosmnx\u001b[0m \u001b[0;32mas\u001b[0m \u001b[0mox\u001b[0m\u001b[0;34m\u001b[0m\u001b[0;34m\u001b[0m\u001b[0m\n\u001b[0m\u001b[1;32m      7\u001b[0m \u001b[0;32mimport\u001b[0m \u001b[0mnetworkx\u001b[0m \u001b[0;32mas\u001b[0m \u001b[0mnx\u001b[0m\u001b[0;34m\u001b[0m\u001b[0;34m\u001b[0m\u001b[0m\n\u001b[1;32m      8\u001b[0m \u001b[0;32mimport\u001b[0m \u001b[0mmatplotlib\u001b[0m\u001b[0;34m.\u001b[0m\u001b[0mpyplot\u001b[0m \u001b[0;32mas\u001b[0m \u001b[0mplt\u001b[0m\u001b[0;34m\u001b[0m\u001b[0;34m\u001b[0m\u001b[0m\n",
            "\u001b[0;31mModuleNotFoundError\u001b[0m: No module named 'osmnx'",
            "",
            "\u001b[0;31m---------------------------------------------------------------------------\u001b[0;32m\nNOTE: If your import is failing due to a missing package, you can\nmanually install dependencies using either !pip or !apt.\n\nTo view examples of installing some common dependencies, click the\n\"Open Examples\" button below.\n\u001b[0;31m---------------------------------------------------------------------------\u001b[0m\n"
          ]
        }
      ]
    },
    {
      "cell_type": "markdown",
      "metadata": {
        "id": "J_ZMiI0iVgaV",
        "colab_type": "text"
      },
      "source": [
        "# Q1a) Plot Origin(UM) & Destination(Penang War Museum) "
      ]
    },
    {
      "cell_type": "code",
      "metadata": {
        "id": "P5C4lp1HVgaW",
        "colab_type": "code",
        "colab": {
          "base_uri": "https://localhost:8080/",
          "height": 229
        },
        "outputId": "e3efbcb5-2a33-41c2-ee39-d7693886d072"
      },
      "source": [
        "G_KL = ox.graph_from_point((3.123661, 101.612524),dist=10000,dist_type='network',network_type='drive')\n",
        "G_Penang = ox.graph_from_point((5.288201, 100.275435),dist=5000, dist_type='bbox', network_type='drive')\n",
        "m = folium.Map(location=ox.geocode(\"University of Malaya\"))\n",
        "\n",
        "\n",
        "#My Origin - darkpurple\n",
        "origin = {\"UM\":ox.geocode(\"University of Malaya\")}\n",
        "folium.Marker(location=origin[\"UM\"],\n",
        "              icon=folium.Icon(color='darkpurple')).add_to(m)\n",
        "\n",
        "#My Destination - darkpurple\n",
        "dest = {\"Museum\":ox.geocode(\"Penang War Museum\")}\n",
        "folium.Marker(location=dest[\"Museum\"],\n",
        "              icon=folium.Icon(color='darkpurple')).add_to(m)\n"
      ],
      "execution_count": null,
      "outputs": [
        {
          "output_type": "error",
          "ename": "NameError",
          "evalue": "ignored",
          "traceback": [
            "\u001b[0;31m---------------------------------------------------------------------------\u001b[0m",
            "\u001b[0;31mNameError\u001b[0m                                 Traceback (most recent call last)",
            "\u001b[0;32m<ipython-input-3-c4f9a1a8d02c>\u001b[0m in \u001b[0;36m<module>\u001b[0;34m()\u001b[0m\n\u001b[0;32m----> 1\u001b[0;31m \u001b[0mG_KL\u001b[0m \u001b[0;34m=\u001b[0m \u001b[0mox\u001b[0m\u001b[0;34m.\u001b[0m\u001b[0mgraph_from_point\u001b[0m\u001b[0;34m(\u001b[0m\u001b[0;34m(\u001b[0m\u001b[0;36m3.123661\u001b[0m\u001b[0;34m,\u001b[0m \u001b[0;36m101.612524\u001b[0m\u001b[0;34m)\u001b[0m\u001b[0;34m,\u001b[0m\u001b[0mdist\u001b[0m\u001b[0;34m=\u001b[0m\u001b[0;36m10000\u001b[0m\u001b[0;34m,\u001b[0m\u001b[0mdist_type\u001b[0m\u001b[0;34m=\u001b[0m\u001b[0;34m'network'\u001b[0m\u001b[0;34m,\u001b[0m\u001b[0mnetwork_type\u001b[0m\u001b[0;34m=\u001b[0m\u001b[0;34m'drive'\u001b[0m\u001b[0;34m)\u001b[0m\u001b[0;34m\u001b[0m\u001b[0;34m\u001b[0m\u001b[0m\n\u001b[0m\u001b[1;32m      2\u001b[0m \u001b[0mG_Penang\u001b[0m \u001b[0;34m=\u001b[0m \u001b[0mox\u001b[0m\u001b[0;34m.\u001b[0m\u001b[0mgraph_from_point\u001b[0m\u001b[0;34m(\u001b[0m\u001b[0;34m(\u001b[0m\u001b[0;36m5.288201\u001b[0m\u001b[0;34m,\u001b[0m \u001b[0;36m100.275435\u001b[0m\u001b[0;34m)\u001b[0m\u001b[0;34m,\u001b[0m\u001b[0mdist\u001b[0m\u001b[0;34m=\u001b[0m\u001b[0;36m5000\u001b[0m\u001b[0;34m,\u001b[0m \u001b[0mdist_type\u001b[0m\u001b[0;34m=\u001b[0m\u001b[0;34m'bbox'\u001b[0m\u001b[0;34m,\u001b[0m \u001b[0mnetwork_type\u001b[0m\u001b[0;34m=\u001b[0m\u001b[0;34m'drive'\u001b[0m\u001b[0;34m)\u001b[0m\u001b[0;34m\u001b[0m\u001b[0;34m\u001b[0m\u001b[0m\n\u001b[1;32m      3\u001b[0m \u001b[0mm\u001b[0m \u001b[0;34m=\u001b[0m \u001b[0mfolium\u001b[0m\u001b[0;34m.\u001b[0m\u001b[0mMap\u001b[0m\u001b[0;34m(\u001b[0m\u001b[0mlocation\u001b[0m\u001b[0;34m=\u001b[0m\u001b[0mox\u001b[0m\u001b[0;34m.\u001b[0m\u001b[0mgeocode\u001b[0m\u001b[0;34m(\u001b[0m\u001b[0;34m\"University of Malaya\"\u001b[0m\u001b[0;34m)\u001b[0m\u001b[0;34m)\u001b[0m\u001b[0;34m\u001b[0m\u001b[0;34m\u001b[0m\u001b[0m\n\u001b[1;32m      4\u001b[0m \u001b[0;34m\u001b[0m\u001b[0m\n\u001b[1;32m      5\u001b[0m \u001b[0;34m\u001b[0m\u001b[0m\n",
            "\u001b[0;31mNameError\u001b[0m: name 'ox' is not defined"
          ]
        }
      ]
    },
    {
      "cell_type": "markdown",
      "metadata": {
        "id": "RH3J2UOBVgab",
        "colab_type": "text"
      },
      "source": [
        "# Q1b) Plot Stops (Airports, Bus Stops, Grab Pick Up)"
      ]
    },
    {
      "cell_type": "code",
      "metadata": {
        "id": "d5wT66eIVgac",
        "colab_type": "code",
        "colab": {},
        "outputId": "8277c6a1-6e24-4c8d-c62a-a7538b97fa19"
      },
      "source": [
        "#Airport - red\n",
        "airports = {\"Subang Airport\":ox.geocode(\"Subang Airport\"),\"Penang Airport\":ox.geocode(\"Penang Airport\")}\n",
        "for value in airports.values():\n",
        "    folium.Marker(location=value,\n",
        "              icon=folium.Icon(color='red')).add_to(m)\n",
        "G_SJAir = ox.graph_from_point(airports[\"Subang Airport\"],dist=5000, dist_type='bbox', network_type='drive')\n",
        "G = nx.compose(G_SJAir,G_KL)\n",
        "G = nx.compose(G,G_Penang)\n",
        "G.add_edge(ox.get_nearest_node(G,airports[\"Subang Airport\"]),ox.get_nearest_node(G,airports[\"Penang Airport\"]))\n",
        "\n",
        "\n",
        "#Bus - blue\n",
        "bus_stops = {\"KL Sentral\":(3.134089, 101.686696),\"One Utama\": (3.15076, 101.615403),\"TBS\":(3.076056,101.711394),\"Nearest Bus Stop To Museum\":(5.278619, 100.271064)}\n",
        "for value in bus_stops.values():\n",
        "       folium.Marker(location=value,\n",
        "              icon=folium.Icon(color='blue')).add_to(m)\n",
        "\n",
        "#Grab Pick up - green\n",
        "grab_pick_up = {\"UM Sentral\":(3.122332, 101.653279),\"Taxi Subang Airport\":(3.113430, 101.558535),\n",
        "                 \"Penang Airport Taxi Service\":(5.302324, 100.274706)}\n",
        "for value in grab_pick_up.values():\n",
        "    folium.Marker(location=value,\n",
        "              icon=folium.Icon(color='green')).add_to(m)\n",
        "#Show Map\n",
        "m"
      ],
      "execution_count": null,
      "outputs": [
        {
          "output_type": "execute_result",
          "data": {
            "text/html": [
              "<div style=\"width:100%;\"><div style=\"position:relative;width:100%;height:0;padding-bottom:60%;\"><span style=\"color:#565656\">Make this Notebook Trusted to load map: File -> Trust Notebook</span><iframe src=\"about:blank\" style=\"position:absolute;width:100%;height:100%;left:0;top:0;border:none !important;\" data-html=PCFET0NUWVBFIGh0bWw+CjxoZWFkPiAgICAKICAgIDxtZXRhIGh0dHAtZXF1aXY9ImNvbnRlbnQtdHlwZSIgY29udGVudD0idGV4dC9odG1sOyBjaGFyc2V0PVVURi04IiAvPgogICAgCiAgICAgICAgPHNjcmlwdD4KICAgICAgICAgICAgTF9OT19UT1VDSCA9IGZhbHNlOwogICAgICAgICAgICBMX0RJU0FCTEVfM0QgPSBmYWxzZTsKICAgICAgICA8L3NjcmlwdD4KICAgIAogICAgPHNjcmlwdCBzcmM9Imh0dHBzOi8vY2RuLmpzZGVsaXZyLm5ldC9ucG0vbGVhZmxldEAxLjYuMC9kaXN0L2xlYWZsZXQuanMiPjwvc2NyaXB0PgogICAgPHNjcmlwdCBzcmM9Imh0dHBzOi8vY29kZS5qcXVlcnkuY29tL2pxdWVyeS0xLjEyLjQubWluLmpzIj48L3NjcmlwdD4KICAgIDxzY3JpcHQgc3JjPSJodHRwczovL21heGNkbi5ib290c3RyYXBjZG4uY29tL2Jvb3RzdHJhcC8zLjIuMC9qcy9ib290c3RyYXAubWluLmpzIj48L3NjcmlwdD4KICAgIDxzY3JpcHQgc3JjPSJodHRwczovL2NkbmpzLmNsb3VkZmxhcmUuY29tL2FqYXgvbGlicy9MZWFmbGV0LmF3ZXNvbWUtbWFya2Vycy8yLjAuMi9sZWFmbGV0LmF3ZXNvbWUtbWFya2Vycy5qcyI+PC9zY3JpcHQ+CiAgICA8bGluayByZWw9InN0eWxlc2hlZXQiIGhyZWY9Imh0dHBzOi8vY2RuLmpzZGVsaXZyLm5ldC9ucG0vbGVhZmxldEAxLjYuMC9kaXN0L2xlYWZsZXQuY3NzIi8+CiAgICA8bGluayByZWw9InN0eWxlc2hlZXQiIGhyZWY9Imh0dHBzOi8vbWF4Y2RuLmJvb3RzdHJhcGNkbi5jb20vYm9vdHN0cmFwLzMuMi4wL2Nzcy9ib290c3RyYXAubWluLmNzcyIvPgogICAgPGxpbmsgcmVsPSJzdHlsZXNoZWV0IiBocmVmPSJodHRwczovL21heGNkbi5ib290c3RyYXBjZG4uY29tL2Jvb3RzdHJhcC8zLjIuMC9jc3MvYm9vdHN0cmFwLXRoZW1lLm1pbi5jc3MiLz4KICAgIDxsaW5rIHJlbD0ic3R5bGVzaGVldCIgaHJlZj0iaHR0cHM6Ly9tYXhjZG4uYm9vdHN0cmFwY2RuLmNvbS9mb250LWF3ZXNvbWUvNC42LjMvY3NzL2ZvbnQtYXdlc29tZS5taW4uY3NzIi8+CiAgICA8bGluayByZWw9InN0eWxlc2hlZXQiIGhyZWY9Imh0dHBzOi8vY2RuanMuY2xvdWRmbGFyZS5jb20vYWpheC9saWJzL0xlYWZsZXQuYXdlc29tZS1tYXJrZXJzLzIuMC4yL2xlYWZsZXQuYXdlc29tZS1tYXJrZXJzLmNzcyIvPgogICAgPGxpbmsgcmVsPSJzdHlsZXNoZWV0IiBocmVmPSJodHRwczovL3Jhd2Nkbi5naXRoYWNrLmNvbS9weXRob24tdmlzdWFsaXphdGlvbi9mb2xpdW0vbWFzdGVyL2ZvbGl1bS90ZW1wbGF0ZXMvbGVhZmxldC5hd2Vzb21lLnJvdGF0ZS5jc3MiLz4KICAgIDxzdHlsZT5odG1sLCBib2R5IHt3aWR0aDogMTAwJTtoZWlnaHQ6IDEwMCU7bWFyZ2luOiAwO3BhZGRpbmc6IDA7fTwvc3R5bGU+CiAgICA8c3R5bGU+I21hcCB7cG9zaXRpb246YWJzb2x1dGU7dG9wOjA7Ym90dG9tOjA7cmlnaHQ6MDtsZWZ0OjA7fTwvc3R5bGU+CiAgICAKICAgICAgICAgICAgPG1ldGEgbmFtZT0idmlld3BvcnQiIGNvbnRlbnQ9IndpZHRoPWRldmljZS13aWR0aCwKICAgICAgICAgICAgICAgIGluaXRpYWwtc2NhbGU9MS4wLCBtYXhpbXVtLXNjYWxlPTEuMCwgdXNlci1zY2FsYWJsZT1ubyIgLz4KICAgICAgICAgICAgPHN0eWxlPgogICAgICAgICAgICAgICAgI21hcF82OWYwNDM3ZmYzZjk0NmUzOTAzMDRmOTU0NWYxOTc3ZiB7CiAgICAgICAgICAgICAgICAgICAgcG9zaXRpb246IHJlbGF0aXZlOwogICAgICAgICAgICAgICAgICAgIHdpZHRoOiAxMDAuMCU7CiAgICAgICAgICAgICAgICAgICAgaGVpZ2h0OiAxMDAuMCU7CiAgICAgICAgICAgICAgICAgICAgbGVmdDogMC4wJTsKICAgICAgICAgICAgICAgICAgICB0b3A6IDAuMCU7CiAgICAgICAgICAgICAgICB9CiAgICAgICAgICAgIDwvc3R5bGU+CiAgICAgICAgCjwvaGVhZD4KPGJvZHk+ICAgIAogICAgCiAgICAgICAgICAgIDxkaXYgY2xhc3M9ImZvbGl1bS1tYXAiIGlkPSJtYXBfNjlmMDQzN2ZmM2Y5NDZlMzkwMzA0Zjk1NDVmMTk3N2YiID48L2Rpdj4KICAgICAgICAKPC9ib2R5Pgo8c2NyaXB0PiAgICAKICAgIAogICAgICAgICAgICB2YXIgbWFwXzY5ZjA0MzdmZjNmOTQ2ZTM5MDMwNGY5NTQ1ZjE5NzdmID0gTC5tYXAoCiAgICAgICAgICAgICAgICAibWFwXzY5ZjA0MzdmZjNmOTQ2ZTM5MDMwNGY5NTQ1ZjE5NzdmIiwKICAgICAgICAgICAgICAgIHsKICAgICAgICAgICAgICAgICAgICBjZW50ZXI6IFszLjEyMjY3NDA1LCAxMDEuNjUzNTYxMDMzOTM5ODddLAogICAgICAgICAgICAgICAgICAgIGNyczogTC5DUlMuRVBTRzM4NTcsCiAgICAgICAgICAgICAgICAgICAgem9vbTogMTAsCiAgICAgICAgICAgICAgICAgICAgem9vbUNvbnRyb2w6IHRydWUsCiAgICAgICAgICAgICAgICAgICAgcHJlZmVyQ2FudmFzOiBmYWxzZSwKICAgICAgICAgICAgICAgIH0KICAgICAgICAgICAgKTsKCiAgICAgICAgICAgIAoKICAgICAgICAKICAgIAogICAgICAgICAgICB2YXIgdGlsZV9sYXllcl85YmRiNDYwYTg0YjY0YjhhOWQ2MGFiY2Q3NzBhNzhkMCA9IEwudGlsZUxheWVyKAogICAgICAgICAgICAgICAgImh0dHBzOi8ve3N9LnRpbGUub3BlbnN0cmVldG1hcC5vcmcve3p9L3t4fS97eX0ucG5nIiwKICAgICAgICAgICAgICAgIHsiYXR0cmlidXRpb24iOiAiRGF0YSBieSBcdTAwMjZjb3B5OyBcdTAwM2NhIGhyZWY9XCJodHRwOi8vb3BlbnN0cmVldG1hcC5vcmdcIlx1MDAzZU9wZW5TdHJlZXRNYXBcdTAwM2MvYVx1MDAzZSwgdW5kZXIgXHUwMDNjYSBocmVmPVwiaHR0cDovL3d3dy5vcGVuc3RyZWV0bWFwLm9yZy9jb3B5cmlnaHRcIlx1MDAzZU9EYkxcdTAwM2MvYVx1MDAzZS4iLCAiZGV0ZWN0UmV0aW5hIjogZmFsc2UsICJtYXhOYXRpdmVab29tIjogMTgsICJtYXhab29tIjogMTgsICJtaW5ab29tIjogMCwgIm5vV3JhcCI6IGZhbHNlLCAib3BhY2l0eSI6IDEsICJzdWJkb21haW5zIjogImFiYyIsICJ0bXMiOiBmYWxzZX0KICAgICAgICAgICAgKS5hZGRUbyhtYXBfNjlmMDQzN2ZmM2Y5NDZlMzkwMzA0Zjk1NDVmMTk3N2YpOwogICAgICAgIAogICAgCiAgICAgICAgICAgIHZhciBtYXJrZXJfZTNlYmM1ZDk3MDI4NDBiNWI0ZmQwZTM4YzUyOTU4MmUgPSBMLm1hcmtlcigKICAgICAgICAgICAgICAgIFszLjEyMjY3NDA1LCAxMDEuNjUzNTYxMDMzOTM5ODddLAogICAgICAgICAgICAgICAge30KICAgICAgICAgICAgKS5hZGRUbyhtYXBfNjlmMDQzN2ZmM2Y5NDZlMzkwMzA0Zjk1NDVmMTk3N2YpOwogICAgICAgIAogICAgCiAgICAgICAgICAgIHZhciBpY29uXzZiMTUyMjRmMzkwNzQ2ZDk4ZDNmNjVkNmI2NmQ3YjBiID0gTC5Bd2Vzb21lTWFya2Vycy5pY29uKAogICAgICAgICAgICAgICAgeyJleHRyYUNsYXNzZXMiOiAiZmEtcm90YXRlLTAiLCAiaWNvbiI6ICJpbmZvLXNpZ24iLCAiaWNvbkNvbG9yIjogIndoaXRlIiwgIm1hcmtlckNvbG9yIjogImRhcmtwdXJwbGUiLCAicHJlZml4IjogImdseXBoaWNvbiJ9CiAgICAgICAgICAgICk7CiAgICAgICAgICAgIG1hcmtlcl9lM2ViYzVkOTcwMjg0MGI1YjRmZDBlMzhjNTI5NTgyZS5zZXRJY29uKGljb25fNmIxNTIyNGYzOTA3NDZkOThkM2Y2NWQ2YjY2ZDdiMGIpOwogICAgICAgIAogICAgCiAgICAgICAgICAgIHZhciBtYXJrZXJfYTIzOWQyYjhkMDY3NDFkMjliNGE3MDI1N2Y4OGNmYTAgPSBMLm1hcmtlcigKICAgICAgICAgICAgICAgIFs1LjI4MTI0MjEsIDEwMC4yODg5MzExXSwKICAgICAgICAgICAgICAgIHt9CiAgICAgICAgICAgICkuYWRkVG8obWFwXzY5ZjA0MzdmZjNmOTQ2ZTM5MDMwNGY5NTQ1ZjE5NzdmKTsKICAgICAgICAKICAgIAogICAgICAgICAgICB2YXIgaWNvbl82M2UwOGM0NmZiMGU0ZWQ3OTAzZTJhZmRiMWE5MDQ0MiA9IEwuQXdlc29tZU1hcmtlcnMuaWNvbigKICAgICAgICAgICAgICAgIHsiZXh0cmFDbGFzc2VzIjogImZhLXJvdGF0ZS0wIiwgImljb24iOiAiaW5mby1zaWduIiwgImljb25Db2xvciI6ICJ3aGl0ZSIsICJtYXJrZXJDb2xvciI6ICJkYXJrcHVycGxlIiwgInByZWZpeCI6ICJnbHlwaGljb24ifQogICAgICAgICAgICApOwogICAgICAgICAgICBtYXJrZXJfYTIzOWQyYjhkMDY3NDFkMjliNGE3MDI1N2Y4OGNmYTAuc2V0SWNvbihpY29uXzYzZTA4YzQ2ZmIwZTRlZDc5MDNlMmFmZGIxYTkwNDQyKTsKICAgICAgICAKICAgIAogICAgICAgICAgICB2YXIgbWFya2VyXzg3NTM3YTVkMzU2NjRiMWU5YzNkYzZiMjZmZDkzZGVjID0gTC5tYXJrZXIoCiAgICAgICAgICAgICAgICBbMy4xMzE3MTE0NSwgMTAxLjU1MDkyNTY1NDM2NzQ2XSwKICAgICAgICAgICAgICAgIHt9CiAgICAgICAgICAgICkuYWRkVG8obWFwXzY5ZjA0MzdmZjNmOTQ2ZTM5MDMwNGY5NTQ1ZjE5NzdmKTsKICAgICAgICAKICAgIAogICAgICAgICAgICB2YXIgaWNvbl83ZDUzYmZhNTVjMmU0Y2NkODA3NWQwYjY3NDMwMTExNSA9IEwuQXdlc29tZU1hcmtlcnMuaWNvbigKICAgICAgICAgICAgICAgIHsiZXh0cmFDbGFzc2VzIjogImZhLXJvdGF0ZS0wIiwgImljb24iOiAiaW5mby1zaWduIiwgImljb25Db2xvciI6ICJ3aGl0ZSIsICJtYXJrZXJDb2xvciI6ICJyZWQiLCAicHJlZml4IjogImdseXBoaWNvbiJ9CiAgICAgICAgICAgICk7CiAgICAgICAgICAgIG1hcmtlcl84NzUzN2E1ZDM1NjY0YjFlOWMzZGM2YjI2ZmQ5M2RlYy5zZXRJY29uKGljb25fN2Q1M2JmYTU1YzJlNGNjZDgwNzVkMGI2NzQzMDExMTUpOwogICAgICAgIAogICAgCiAgICAgICAgICAgIHZhciBtYXJrZXJfZTg1NmU4MzU2YzVjNDUyZDk1OWViNWQ3ZWI2ODNlNmQgPSBMLm1hcmtlcigKICAgICAgICAgICAgICAgIFs1LjI5NTU2NTYsIDEwMC4yNzExNTAwMTU4ODgwNV0sCiAgICAgICAgICAgICAgICB7fQogICAgICAgICAgICApLmFkZFRvKG1hcF82OWYwNDM3ZmYzZjk0NmUzOTAzMDRmOTU0NWYxOTc3Zik7CiAgICAgICAgCiAgICAKICAgICAgICAgICAgdmFyIGljb25fYjliY2UyMWMwYjhjNDQ3ODlkMjlkNjUyOTI4OTk4ZjQgPSBMLkF3ZXNvbWVNYXJrZXJzLmljb24oCiAgICAgICAgICAgICAgICB7ImV4dHJhQ2xhc3NlcyI6ICJmYS1yb3RhdGUtMCIsICJpY29uIjogImluZm8tc2lnbiIsICJpY29uQ29sb3IiOiAid2hpdGUiLCAibWFya2VyQ29sb3IiOiAicmVkIiwgInByZWZpeCI6ICJnbHlwaGljb24ifQogICAgICAgICAgICApOwogICAgICAgICAgICBtYXJrZXJfZTg1NmU4MzU2YzVjNDUyZDk1OWViNWQ3ZWI2ODNlNmQuc2V0SWNvbihpY29uX2I5YmNlMjFjMGI4YzQ0Nzg5ZDI5ZDY1MjkyODk5OGY0KTsKICAgICAgICAKICAgIAogICAgICAgICAgICB2YXIgbWFya2VyX2I1MDY4YzRlNzk3NjQxNWNhOTYyMDRjMzZkYTgxZTk3ID0gTC5tYXJrZXIoCiAgICAgICAgICAgICAgICBbMy4xMzQwODksIDEwMS42ODY2OTZdLAogICAgICAgICAgICAgICAge30KICAgICAgICAgICAgKS5hZGRUbyhtYXBfNjlmMDQzN2ZmM2Y5NDZlMzkwMzA0Zjk1NDVmMTk3N2YpOwogICAgICAgIAogICAgCiAgICAgICAgICAgIHZhciBpY29uXzE0MTA1NGY1ODhmOTQ1OTFiMTA5YzcxNTYwYzkwNTdhID0gTC5Bd2Vzb21lTWFya2Vycy5pY29uKAogICAgICAgICAgICAgICAgeyJleHRyYUNsYXNzZXMiOiAiZmEtcm90YXRlLTAiLCAiaWNvbiI6ICJpbmZvLXNpZ24iLCAiaWNvbkNvbG9yIjogIndoaXRlIiwgIm1hcmtlckNvbG9yIjogImJsdWUiLCAicHJlZml4IjogImdseXBoaWNvbiJ9CiAgICAgICAgICAgICk7CiAgICAgICAgICAgIG1hcmtlcl9iNTA2OGM0ZTc5NzY0MTVjYTk2MjA0YzM2ZGE4MWU5Ny5zZXRJY29uKGljb25fMTQxMDU0ZjU4OGY5NDU5MWIxMDljNzE1NjBjOTA1N2EpOwogICAgICAgIAogICAgCiAgICAgICAgICAgIHZhciBtYXJrZXJfYjgyOWQ5ZDYyZWJkNGM4ZGI2MWViNWU5NjAxMzM3YzcgPSBMLm1hcmtlcigKICAgICAgICAgICAgICAgIFszLjE1MDc2LCAxMDEuNjE1NDAzXSwKICAgICAgICAgICAgICAgIHt9CiAgICAgICAgICAgICkuYWRkVG8obWFwXzY5ZjA0MzdmZjNmOTQ2ZTM5MDMwNGY5NTQ1ZjE5NzdmKTsKICAgICAgICAKICAgIAogICAgICAgICAgICB2YXIgaWNvbl9kYmZmY2MxYjNhZmE0YjUxOWM2MTY1MDZkMjg0Y2YxYiA9IEwuQXdlc29tZU1hcmtlcnMuaWNvbigKICAgICAgICAgICAgICAgIHsiZXh0cmFDbGFzc2VzIjogImZhLXJvdGF0ZS0wIiwgImljb24iOiAiaW5mby1zaWduIiwgImljb25Db2xvciI6ICJ3aGl0ZSIsICJtYXJrZXJDb2xvciI6ICJibHVlIiwgInByZWZpeCI6ICJnbHlwaGljb24ifQogICAgICAgICAgICApOwogICAgICAgICAgICBtYXJrZXJfYjgyOWQ5ZDYyZWJkNGM4ZGI2MWViNWU5NjAxMzM3Yzcuc2V0SWNvbihpY29uX2RiZmZjYzFiM2FmYTRiNTE5YzYxNjUwNmQyODRjZjFiKTsKICAgICAgICAKICAgIAogICAgICAgICAgICB2YXIgbWFya2VyXzM1MTVhMmM1MTE5ZjQ5N2M4NmJlYzJlOWNiZmFjOTliID0gTC5tYXJrZXIoCiAgICAgICAgICAgICAgICBbMy4wNzYwNTYsIDEwMS43MTEzOTRdLAogICAgICAgICAgICAgICAge30KICAgICAgICAgICAgKS5hZGRUbyhtYXBfNjlmMDQzN2ZmM2Y5NDZlMzkwMzA0Zjk1NDVmMTk3N2YpOwogICAgICAgIAogICAgCiAgICAgICAgICAgIHZhciBpY29uX2VhODA0MmUwNzhiNDRiYzdhMzNmZTNjNmI3NjBiMDYxID0gTC5Bd2Vzb21lTWFya2Vycy5pY29uKAogICAgICAgICAgICAgICAgeyJleHRyYUNsYXNzZXMiOiAiZmEtcm90YXRlLTAiLCAiaWNvbiI6ICJpbmZvLXNpZ24iLCAiaWNvbkNvbG9yIjogIndoaXRlIiwgIm1hcmtlckNvbG9yIjogImJsdWUiLCAicHJlZml4IjogImdseXBoaWNvbiJ9CiAgICAgICAgICAgICk7CiAgICAgICAgICAgIG1hcmtlcl8zNTE1YTJjNTExOWY0OTdjODZiZWMyZTljYmZhYzk5Yi5zZXRJY29uKGljb25fZWE4MDQyZTA3OGI0NGJjN2EzM2ZlM2M2Yjc2MGIwNjEpOwogICAgICAgIAogICAgCiAgICAgICAgICAgIHZhciBtYXJrZXJfMTVjMjQwNDcxMDJmNDFkNTljYzk1MDdiMWVhOThjN2MgPSBMLm1hcmtlcigKICAgICAgICAgICAgICAgIFs1LjI3ODYxOSwgMTAwLjI3MTA2NF0sCiAgICAgICAgICAgICAgICB7fQogICAgICAgICAgICApLmFkZFRvKG1hcF82OWYwNDM3ZmYzZjk0NmUzOTAzMDRmOTU0NWYxOTc3Zik7CiAgICAgICAgCiAgICAKICAgICAgICAgICAgdmFyIGljb25fOWM3YjQ2YWZkNzQ5NDU2ZTliODQ0M2E5ZjI5OTY1ZjkgPSBMLkF3ZXNvbWVNYXJrZXJzLmljb24oCiAgICAgICAgICAgICAgICB7ImV4dHJhQ2xhc3NlcyI6ICJmYS1yb3RhdGUtMCIsICJpY29uIjogImluZm8tc2lnbiIsICJpY29uQ29sb3IiOiAid2hpdGUiLCAibWFya2VyQ29sb3IiOiAiYmx1ZSIsICJwcmVmaXgiOiAiZ2x5cGhpY29uIn0KICAgICAgICAgICAgKTsKICAgICAgICAgICAgbWFya2VyXzE1YzI0MDQ3MTAyZjQxZDU5Y2M5NTA3YjFlYTk4YzdjLnNldEljb24oaWNvbl85YzdiNDZhZmQ3NDk0NTZlOWI4NDQzYTlmMjk5NjVmOSk7CiAgICAgICAgCiAgICAKICAgICAgICAgICAgdmFyIG1hcmtlcl9lYjZhMjk1MTVlZTk0OGY1ODM5YzRiMGFlMGY0M2RjYiA9IEwubWFya2VyKAogICAgICAgICAgICAgICAgWzMuMTIyMzMyLCAxMDEuNjUzMjc5XSwKICAgICAgICAgICAgICAgIHt9CiAgICAgICAgICAgICkuYWRkVG8obWFwXzY5ZjA0MzdmZjNmOTQ2ZTM5MDMwNGY5NTQ1ZjE5NzdmKTsKICAgICAgICAKICAgIAogICAgICAgICAgICB2YXIgaWNvbl9jNzcwOGYwODM1ZGQ0YmM1Yjc5MjA2MTY5NTlhMGYzNyA9IEwuQXdlc29tZU1hcmtlcnMuaWNvbigKICAgICAgICAgICAgICAgIHsiZXh0cmFDbGFzc2VzIjogImZhLXJvdGF0ZS0wIiwgImljb24iOiAiaW5mby1zaWduIiwgImljb25Db2xvciI6ICJ3aGl0ZSIsICJtYXJrZXJDb2xvciI6ICJncmVlbiIsICJwcmVmaXgiOiAiZ2x5cGhpY29uIn0KICAgICAgICAgICAgKTsKICAgICAgICAgICAgbWFya2VyX2ViNmEyOTUxNWVlOTQ4ZjU4MzljNGIwYWUwZjQzZGNiLnNldEljb24oaWNvbl9jNzcwOGYwODM1ZGQ0YmM1Yjc5MjA2MTY5NTlhMGYzNyk7CiAgICAgICAgCiAgICAKICAgICAgICAgICAgdmFyIG1hcmtlcl9hMzNhOGM5N2RkMTc0OTE3YWU0OTAwNjRkZjRmMzNmZCA9IEwubWFya2VyKAogICAgICAgICAgICAgICAgWzMuMTEzNDMsIDEwMS41NTg1MzVdLAogICAgICAgICAgICAgICAge30KICAgICAgICAgICAgKS5hZGRUbyhtYXBfNjlmMDQzN2ZmM2Y5NDZlMzkwMzA0Zjk1NDVmMTk3N2YpOwogICAgICAgIAogICAgCiAgICAgICAgICAgIHZhciBpY29uXzQ0YmMxZmIxOWMyMzRhYWJhZjBjYTZiNjZiY2MwYmJhID0gTC5Bd2Vzb21lTWFya2Vycy5pY29uKAogICAgICAgICAgICAgICAgeyJleHRyYUNsYXNzZXMiOiAiZmEtcm90YXRlLTAiLCAiaWNvbiI6ICJpbmZvLXNpZ24iLCAiaWNvbkNvbG9yIjogIndoaXRlIiwgIm1hcmtlckNvbG9yIjogImdyZWVuIiwgInByZWZpeCI6ICJnbHlwaGljb24ifQogICAgICAgICAgICApOwogICAgICAgICAgICBtYXJrZXJfYTMzYThjOTdkZDE3NDkxN2FlNDkwMDY0ZGY0ZjMzZmQuc2V0SWNvbihpY29uXzQ0YmMxZmIxOWMyMzRhYWJhZjBjYTZiNjZiY2MwYmJhKTsKICAgICAgICAKICAgIAogICAgICAgICAgICB2YXIgbWFya2VyXzVjNWEyYmRiZjk0ODQ5YzFiNTViNWQ0NjUxZmQ0NGZmID0gTC5tYXJrZXIoCiAgICAgICAgICAgICAgICBbNS4zMDIzMjQsIDEwMC4yNzQ3MDZdLAogICAgICAgICAgICAgICAge30KICAgICAgICAgICAgKS5hZGRUbyhtYXBfNjlmMDQzN2ZmM2Y5NDZlMzkwMzA0Zjk1NDVmMTk3N2YpOwogICAgICAgIAogICAgCiAgICAgICAgICAgIHZhciBpY29uX2YwNWY2MjBiMzRiMTQzYmNhNzcxMjNkYmVlNzJjNWUxID0gTC5Bd2Vzb21lTWFya2Vycy5pY29uKAogICAgICAgICAgICAgICAgeyJleHRyYUNsYXNzZXMiOiAiZmEtcm90YXRlLTAiLCAiaWNvbiI6ICJpbmZvLXNpZ24iLCAiaWNvbkNvbG9yIjogIndoaXRlIiwgIm1hcmtlckNvbG9yIjogImdyZWVuIiwgInByZWZpeCI6ICJnbHlwaGljb24ifQogICAgICAgICAgICApOwogICAgICAgICAgICBtYXJrZXJfNWM1YTJiZGJmOTQ4NDljMWI1NWI1ZDQ2NTFmZDQ0ZmYuc2V0SWNvbihpY29uX2YwNWY2MjBiMzRiMTQzYmNhNzcxMjNkYmVlNzJjNWUxKTsKICAgICAgICAKPC9zY3JpcHQ+ onload=\"this.contentDocument.open();this.contentDocument.write(atob(this.getAttribute('data-html')));this.contentDocument.close();\" allowfullscreen webkitallowfullscreen mozallowfullscreen></iframe></div></div>"
            ],
            "text/plain": [
              "<folium.folium.Map at 0x1905b9d2100>"
            ]
          },
          "metadata": {
            "tags": []
          },
          "execution_count": 3
        }
      ]
    },
    {
      "cell_type": "markdown",
      "metadata": {
        "id": "KzanObaKVgai",
        "colab_type": "text"
      },
      "source": [
        "# Q1c) Options of Routes\n",
        "## From UM to Kek Lok Si Temple\n",
        "#### Option 1: UM Grab to Subang Airport ->  Flight to Penang Airport -> Taxi To Penang War Museum\n",
        "#### Option 2: UM Grab to Subang Airport ->  Flight to Penang Airport -> Bus To Bus Stop  near Penang War Museum -> Walk \n",
        "#### Option 3: UM Grab to TBS - > Bus to Subang Airport ->  Flight to Penang Airport -> Taxi To Penang War Museum\n",
        "#### Option 4: UM Grab to KL Sentral -> Bus to Subang Airport ->  Flight to Penang Airport -> Bus To Penang War Museum\n",
        "#### Option 5: UM Grab to One Utama -> Bus to Subang Airport -> Flight to Penang Airport -> Taxi To Penang War Museum"
      ]
    },
    {
      "cell_type": "markdown",
      "metadata": {
        "id": "qWN92Uf5Vgaj",
        "colab_type": "text"
      },
      "source": [
        "# Q2) Calculate the distances between Stops"
      ]
    },
    {
      "cell_type": "code",
      "metadata": {
        "id": "bJLDIhGuVgak",
        "colab_type": "code",
        "colab": {},
        "outputId": "ad06d115-1b6d-4adf-f4d4-9ac2d9893304"
      },
      "source": [
        "stops = {**origin,**airports,**bus_stops, **grab_pick_up,**dest}\n",
        "penang = [\"Penang Airport Taxi Service\",\"Penang Airport\",\"Museum\",\"Nearest Bus Stop To Museum\"]\n",
        "distances_matrix = pd.DataFrame([[distance.distance(geocode1, geocode2).km \n",
        "                                  if (place1 in penang and place2 in penang) or (place1 not in penang and place2 not in penang) else 0\n",
        "                                  for place1,geocode1 in stops.items()]  \n",
        "                   for place2,geocode2 in stops.items()], columns=stops.keys(), index=stops.keys() )\n",
        "distances_matrix.loc[\"Subang Airport\",\"Penang Airport\"] = distances_matrix.loc[\"Penang Airport\",\"Subang Airport\"] \\\n",
        "= distance.distance(airports[\"Subang Airport\"], airports[\"Penang Airport\"]).km \n",
        "paths = { place: [0,[]] for place in stops.keys()}\n",
        "paths[\"UM\"][1].append(\"UM\")\n",
        "distances_matrix\n"
      ],
      "execution_count": null,
      "outputs": [
        {
          "output_type": "execute_result",
          "data": {
            "text/html": [
              "<div>\n",
              "<style scoped>\n",
              "    .dataframe tbody tr th:only-of-type {\n",
              "        vertical-align: middle;\n",
              "    }\n",
              "\n",
              "    .dataframe tbody tr th {\n",
              "        vertical-align: top;\n",
              "    }\n",
              "\n",
              "    .dataframe thead th {\n",
              "        text-align: right;\n",
              "    }\n",
              "</style>\n",
              "<table border=\"1\" class=\"dataframe\">\n",
              "  <thead>\n",
              "    <tr style=\"text-align: right;\">\n",
              "      <th></th>\n",
              "      <th>UM</th>\n",
              "      <th>Subang Airport</th>\n",
              "      <th>Penang Airport</th>\n",
              "      <th>KL Sentral</th>\n",
              "      <th>One Utama</th>\n",
              "      <th>TBS</th>\n",
              "      <th>Nearest Bus Stop To Museum</th>\n",
              "      <th>UM Sentral</th>\n",
              "      <th>Taxi Subang Airport</th>\n",
              "      <th>Penang Airport Taxi Service</th>\n",
              "      <th>Museum</th>\n",
              "    </tr>\n",
              "  </thead>\n",
              "  <tbody>\n",
              "    <tr>\n",
              "      <th>UM</th>\n",
              "      <td>0.000000</td>\n",
              "      <td>11.452104</td>\n",
              "      <td>0.000000</td>\n",
              "      <td>3.893395</td>\n",
              "      <td>5.256881</td>\n",
              "      <td>8.240130</td>\n",
              "      <td>0.000000</td>\n",
              "      <td>0.049126</td>\n",
              "      <td>10.612039</td>\n",
              "      <td>0.000000</td>\n",
              "      <td>0.000000</td>\n",
              "    </tr>\n",
              "    <tr>\n",
              "      <th>Subang Airport</th>\n",
              "      <td>11.452104</td>\n",
              "      <td>0.000000</td>\n",
              "      <td>278.279654</td>\n",
              "      <td>15.093738</td>\n",
              "      <td>7.469990</td>\n",
              "      <td>18.869055</td>\n",
              "      <td>0.000000</td>\n",
              "      <td>11.424248</td>\n",
              "      <td>2.191334</td>\n",
              "      <td>0.000000</td>\n",
              "      <td>0.000000</td>\n",
              "    </tr>\n",
              "    <tr>\n",
              "      <th>Penang Airport</th>\n",
              "      <td>0.000000</td>\n",
              "      <td>278.279654</td>\n",
              "      <td>0.000000</td>\n",
              "      <td>0.000000</td>\n",
              "      <td>0.000000</td>\n",
              "      <td>0.000000</td>\n",
              "      <td>1.874042</td>\n",
              "      <td>0.000000</td>\n",
              "      <td>0.000000</td>\n",
              "      <td>0.844944</td>\n",
              "      <td>2.528591</td>\n",
              "    </tr>\n",
              "    <tr>\n",
              "      <th>KL Sentral</th>\n",
              "      <td>3.893395</td>\n",
              "      <td>15.093738</td>\n",
              "      <td>0.000000</td>\n",
              "      <td>0.000000</td>\n",
              "      <td>8.136039</td>\n",
              "      <td>6.979739</td>\n",
              "      <td>0.000000</td>\n",
              "      <td>3.935397</td>\n",
              "      <td>14.427761</td>\n",
              "      <td>0.000000</td>\n",
              "      <td>0.000000</td>\n",
              "    </tr>\n",
              "    <tr>\n",
              "      <th>One Utama</th>\n",
              "      <td>5.256881</td>\n",
              "      <td>7.469990</td>\n",
              "      <td>0.000000</td>\n",
              "      <td>8.136039</td>\n",
              "      <td>0.000000</td>\n",
              "      <td>13.493932</td>\n",
              "      <td>0.000000</td>\n",
              "      <td>5.254162</td>\n",
              "      <td>7.549559</td>\n",
              "      <td>0.000000</td>\n",
              "      <td>0.000000</td>\n",
              "    </tr>\n",
              "    <tr>\n",
              "      <th>TBS</th>\n",
              "      <td>8.240130</td>\n",
              "      <td>18.869055</td>\n",
              "      <td>0.000000</td>\n",
              "      <td>6.979739</td>\n",
              "      <td>13.493932</td>\n",
              "      <td>0.000000</td>\n",
              "      <td>0.000000</td>\n",
              "      <td>8.241074</td>\n",
              "      <td>17.486900</td>\n",
              "      <td>0.000000</td>\n",
              "      <td>0.000000</td>\n",
              "    </tr>\n",
              "    <tr>\n",
              "      <th>Nearest Bus Stop To Museum</th>\n",
              "      <td>0.000000</td>\n",
              "      <td>0.000000</td>\n",
              "      <td>1.874042</td>\n",
              "      <td>0.000000</td>\n",
              "      <td>0.000000</td>\n",
              "      <td>0.000000</td>\n",
              "      <td>0.000000</td>\n",
              "      <td>0.000000</td>\n",
              "      <td>0.000000</td>\n",
              "      <td>2.652292</td>\n",
              "      <td>2.001703</td>\n",
              "    </tr>\n",
              "    <tr>\n",
              "      <th>UM Sentral</th>\n",
              "      <td>0.049126</td>\n",
              "      <td>11.424248</td>\n",
              "      <td>0.000000</td>\n",
              "      <td>3.935397</td>\n",
              "      <td>5.254162</td>\n",
              "      <td>8.241074</td>\n",
              "      <td>0.000000</td>\n",
              "      <td>0.000000</td>\n",
              "      <td>10.577250</td>\n",
              "      <td>0.000000</td>\n",
              "      <td>0.000000</td>\n",
              "    </tr>\n",
              "    <tr>\n",
              "      <th>Taxi Subang Airport</th>\n",
              "      <td>10.612039</td>\n",
              "      <td>2.191334</td>\n",
              "      <td>0.000000</td>\n",
              "      <td>14.427761</td>\n",
              "      <td>7.549559</td>\n",
              "      <td>17.486900</td>\n",
              "      <td>0.000000</td>\n",
              "      <td>10.577250</td>\n",
              "      <td>0.000000</td>\n",
              "      <td>0.000000</td>\n",
              "      <td>0.000000</td>\n",
              "    </tr>\n",
              "    <tr>\n",
              "      <th>Penang Airport Taxi Service</th>\n",
              "      <td>0.000000</td>\n",
              "      <td>0.000000</td>\n",
              "      <td>0.844944</td>\n",
              "      <td>0.000000</td>\n",
              "      <td>0.000000</td>\n",
              "      <td>0.000000</td>\n",
              "      <td>2.652292</td>\n",
              "      <td>0.000000</td>\n",
              "      <td>0.000000</td>\n",
              "      <td>0.000000</td>\n",
              "      <td>2.814500</td>\n",
              "    </tr>\n",
              "    <tr>\n",
              "      <th>Museum</th>\n",
              "      <td>0.000000</td>\n",
              "      <td>0.000000</td>\n",
              "      <td>2.528591</td>\n",
              "      <td>0.000000</td>\n",
              "      <td>0.000000</td>\n",
              "      <td>0.000000</td>\n",
              "      <td>2.001703</td>\n",
              "      <td>0.000000</td>\n",
              "      <td>0.000000</td>\n",
              "      <td>2.814500</td>\n",
              "      <td>0.000000</td>\n",
              "    </tr>\n",
              "  </tbody>\n",
              "</table>\n",
              "</div>"
            ],
            "text/plain": [
              "                                    UM  Subang Airport  Penang Airport  \\\n",
              "UM                            0.000000       11.452104        0.000000   \n",
              "Subang Airport               11.452104        0.000000      278.279654   \n",
              "Penang Airport                0.000000      278.279654        0.000000   \n",
              "KL Sentral                    3.893395       15.093738        0.000000   \n",
              "One Utama                     5.256881        7.469990        0.000000   \n",
              "TBS                           8.240130       18.869055        0.000000   \n",
              "Nearest Bus Stop To Museum    0.000000        0.000000        1.874042   \n",
              "UM Sentral                    0.049126       11.424248        0.000000   \n",
              "Taxi Subang Airport          10.612039        2.191334        0.000000   \n",
              "Penang Airport Taxi Service   0.000000        0.000000        0.844944   \n",
              "Museum                        0.000000        0.000000        2.528591   \n",
              "\n",
              "                             KL Sentral  One Utama        TBS  \\\n",
              "UM                             3.893395   5.256881   8.240130   \n",
              "Subang Airport                15.093738   7.469990  18.869055   \n",
              "Penang Airport                 0.000000   0.000000   0.000000   \n",
              "KL Sentral                     0.000000   8.136039   6.979739   \n",
              "One Utama                      8.136039   0.000000  13.493932   \n",
              "TBS                            6.979739  13.493932   0.000000   \n",
              "Nearest Bus Stop To Museum     0.000000   0.000000   0.000000   \n",
              "UM Sentral                     3.935397   5.254162   8.241074   \n",
              "Taxi Subang Airport           14.427761   7.549559  17.486900   \n",
              "Penang Airport Taxi Service    0.000000   0.000000   0.000000   \n",
              "Museum                         0.000000   0.000000   0.000000   \n",
              "\n",
              "                             Nearest Bus Stop To Museum  UM Sentral  \\\n",
              "UM                                             0.000000    0.049126   \n",
              "Subang Airport                                 0.000000   11.424248   \n",
              "Penang Airport                                 1.874042    0.000000   \n",
              "KL Sentral                                     0.000000    3.935397   \n",
              "One Utama                                      0.000000    5.254162   \n",
              "TBS                                            0.000000    8.241074   \n",
              "Nearest Bus Stop To Museum                     0.000000    0.000000   \n",
              "UM Sentral                                     0.000000    0.000000   \n",
              "Taxi Subang Airport                            0.000000   10.577250   \n",
              "Penang Airport Taxi Service                    2.652292    0.000000   \n",
              "Museum                                         2.001703    0.000000   \n",
              "\n",
              "                             Taxi Subang Airport  Penang Airport Taxi Service  \\\n",
              "UM                                     10.612039                     0.000000   \n",
              "Subang Airport                          2.191334                     0.000000   \n",
              "Penang Airport                          0.000000                     0.844944   \n",
              "KL Sentral                             14.427761                     0.000000   \n",
              "One Utama                               7.549559                     0.000000   \n",
              "TBS                                    17.486900                     0.000000   \n",
              "Nearest Bus Stop To Museum              0.000000                     2.652292   \n",
              "UM Sentral                             10.577250                     0.000000   \n",
              "Taxi Subang Airport                     0.000000                     0.000000   \n",
              "Penang Airport Taxi Service             0.000000                     0.000000   \n",
              "Museum                                  0.000000                     2.814500   \n",
              "\n",
              "                               Museum  \n",
              "UM                           0.000000  \n",
              "Subang Airport               0.000000  \n",
              "Penang Airport               2.528591  \n",
              "KL Sentral                   0.000000  \n",
              "One Utama                    0.000000  \n",
              "TBS                          0.000000  \n",
              "Nearest Bus Stop To Museum   2.001703  \n",
              "UM Sentral                   0.000000  \n",
              "Taxi Subang Airport          0.000000  \n",
              "Penang Airport Taxi Service  2.814500  \n",
              "Museum                       0.000000  "
            ]
          },
          "metadata": {
            "tags": []
          },
          "execution_count": 4
        }
      ]
    },
    {
      "cell_type": "markdown",
      "metadata": {
        "id": "Twk_sStAVgan",
        "colab_type": "text"
      },
      "source": [
        "# Q3) Identify Shortest Path using Dijkstra Algorithm "
      ]
    },
    {
      "cell_type": "code",
      "metadata": {
        "id": "wu4_eyC4Vgao",
        "colab_type": "code",
        "colab": {},
        "outputId": "27e9f8c5-f616-4d3b-e072-b384cd13e7f9"
      },
      "source": [
        "class Graph(): \n",
        "   \n",
        "    def __init__(self, vertices): \n",
        "        self.V = vertices \n",
        "        self.graph = pd.DataFrame([[0 for column in range(vertices)] for _ in range(vertices)])\n",
        "        self.paths = { str(i): [0,[]] for i in range(vertices)}\n",
        "   \n",
        "    def minDistance(self, paths, sptSet): \n",
        "        min = sys.maxsize \n",
        "        for place in paths.keys(): \n",
        "            if paths[place][0] < min and sptSet[place] == False: \n",
        "                min = paths[place][0]\n",
        "                min_place = place \n",
        "   \n",
        "        return min_place \n",
        "   \n",
        "    def dijkstra(self, src): \n",
        "   \n",
        "        for i in paths.keys():\n",
        "            paths[i][0] = sys.maxsize\n",
        "        paths[src][0] = 0\n",
        "        sptSet = {place:False for place in paths.keys()}\n",
        "   \n",
        "        for _ in range(self.V): \n",
        "   \n",
        "            min_place = self.minDistance(paths, sptSet) \n",
        "   \n",
        "            sptSet[min_place] = True\n",
        "   \n",
        "            for place in paths.keys(): \n",
        "                if self.graph.loc[min_place,place] > 0 and sptSet[place] == False and \\\n",
        "            paths[place][0] > paths[min_place][0] + self.graph.loc[min_place,place]: \n",
        "                     paths[place][0] = paths[min_place][0] + self.graph.loc[min_place,place] \n",
        "                     paths[place][1] = paths[min_place][1] + [place]\n",
        "   \n",
        "        print(paths) \n",
        "\n",
        "# Driver program \n",
        "g = Graph(len(stops)) \n",
        "g.graph = distances_matrix\n",
        "g.paths = paths\n",
        "g.dijkstra(\"UM\") "
      ],
      "execution_count": null,
      "outputs": [
        {
          "output_type": "stream",
          "text": [
            "{'UM': [0, ['UM']], 'Subang Airport': [11.452103554600093, ['UM', 'Subang Airport']], 'Penang Airport': [289.73175730845236, ['UM', 'Subang Airport', 'Penang Airport']], 'KL Sentral': [3.893394904485259, ['UM', 'KL Sentral']], 'One Utama': [5.256881255967034, ['UM', 'One Utama']], 'TBS': [8.240130385259599, ['UM', 'TBS']], 'Nearest Bus Stop To Museum': [291.6057993677916, ['UM', 'Subang Airport', 'Penang Airport', 'Nearest Bus Stop To Museum']], 'UM Sentral': [0.04912615914221051, ['UM', 'UM Sentral']], 'Taxi Subang Airport': [10.612038786503513, ['UM', 'Taxi Subang Airport']], 'Penang Airport Taxi Service': [290.57670145429074, ['UM', 'Subang Airport', 'Penang Airport', 'Penang Airport Taxi Service']], 'Museum': [292.26034814154235, ['UM', 'Subang Airport', 'Penang Airport', 'Museum']]}\n"
          ],
          "name": "stdout"
        }
      ]
    },
    {
      "cell_type": "markdown",
      "metadata": {
        "id": "9gOljaDJVgat",
        "colab_type": "text"
      },
      "source": [
        "# Q4) Plot Shortest Route"
      ]
    },
    {
      "cell_type": "code",
      "metadata": {
        "id": "fpmFdS-5Vgau",
        "colab_type": "code",
        "colab": {},
        "outputId": "2f3772d8-2062-41de-9dc1-d10b117924f0"
      },
      "source": [
        "#G_KL.add_edge(ox.get_nearest_node(G_Penang,airports[1]),ox.get_nearest_node(G_KL,airports[0]))\n",
        "#G = nx.compose(G_KL,G_Penang)\n",
        "#Shortest Path\n",
        "                         \n",
        "for place in zip(g.paths[\"Museum\"][1],g.paths[\"Museum\"][1][1:]):\n",
        "    print(place)\n",
        "    if place is not None:\n",
        "        try:\n",
        "            route = nx.shortest_path(G, \n",
        "                                 ox.get_nearest_node(G,stops[place[0]]),\n",
        "                                 ox.get_nearest_node(G,stops[place[1]]),\n",
        "                                 weight='length')\n",
        "            ox.plot_route_folium(G, route, route_color='green',route_map=m)\n",
        "        except:\n",
        "            continue\n",
        "route = [ox.get_nearest_node(G,stops[\"Subang Airport\"]),ox.get_nearest_node(G,stops[\"Penang Airport\"])]\n",
        "ox.plot_route_folium(G, route, route_color='green',route_map=m)\n",
        "\n",
        "#Show Map\n",
        "m"
      ],
      "execution_count": null,
      "outputs": [
        {
          "output_type": "stream",
          "text": [
            "('UM', 'Subang Airport')\n",
            "('Subang Airport', 'Penang Airport')\n",
            "('Penang Airport', 'Museum')\n"
          ],
          "name": "stdout"
        },
        {
          "output_type": "execute_result",
          "data": {
            "text/html": [
              "<div style=\"width:100%;\"><div style=\"position:relative;width:100%;height:0;padding-bottom:60%;\"><span style=\"color:#565656\">Make this Notebook Trusted to load map: File -> Trust Notebook</span><iframe src=\"about:blank\" style=\"position:absolute;width:100%;height:100%;left:0;top:0;border:none !important;\" data-html=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 onload=\"this.contentDocument.open();this.contentDocument.write(atob(this.getAttribute('data-html')));this.contentDocument.close();\" allowfullscreen webkitallowfullscreen mozallowfullscreen></iframe></div></div>"
            ],
            "text/plain": [
              "<folium.folium.Map at 0x1905b9d2100>"
            ]
          },
          "metadata": {
            "tags": []
          },
          "execution_count": 6
        }
      ]
    },
    {
      "cell_type": "markdown",
      "metadata": {
        "id": "LikrRw8WVga1",
        "colab_type": "text"
      },
      "source": [
        "# Q5- Scrap an article\n"
      ]
    },
    {
      "cell_type": "code",
      "metadata": {
        "id": "-jMNoUTAVga2",
        "colab_type": "code",
        "colab": {}
      },
      "source": [
        "def buildWordsFrequency(url):\n",
        "    \"\"\"\n",
        "    params: url\n",
        "    return: DataFrame(Column= [\"Frequency\"], Index=[\"Word\"])\n",
        "    \"\"\"\n",
        "    page = requests.get(url)\n",
        "    soup = BeautifulSoup(page.content, 'html.parser')\n",
        "    body = [words.getText().lower().split() for words in soup.find_all(['h1', 'h2','h3','h4','h5','h6',\"p\"])]\n",
        "    #words = [ re.sub(\"^[^a-z]+|[^a-z]+$\",\"\",word) for sentence in body for word in sentence]\n",
        "    words = [ re.sub(\"[^a-z]+\",\"\",word) for sentence in body for word in sentence]\n",
        "    words = pd.DataFrame(words,columns=[\"Word\"])\n",
        "    words['Word'].replace('', np.nan, inplace=True)\n",
        "    words.dropna(subset=['Word'], inplace=True)\n",
        "    words['Frequency'] = words.groupby(['Word'])['Word'].transform('count')\n",
        "    words.drop_duplicates(subset=[\"Word\"],inplace=True)\n",
        "    words.set_index('Word', inplace=True)\n",
        "    words.sort_values(\"Frequency\",ascending=False, inplace=True)\n",
        "    return words \n",
        "\n",
        "grab_url = \"https://www.tripadvisor.com.my/ShowTopic-g298570-i7008-k12946278-Grab_Uber-Kuala_Lumpur_Wilayah_Persekutuan.html\"\n",
        "taxi_url = \"https://www.tripadvisor.com.my/ShowTopic-g298570-i7008-k5961236-How_s_taxi_service_in_KL-Kuala_Lumpur_Wilayah_Persekutuan.html\"\n",
        "bus_url = \"https://www.tripadvisor.com.my/ShowTopic-g293951-i7006-k7552812-Malaysia_Express_Bus_Review_Continuous_Updates-Malaysia.html\"\n",
        "airline_url = \"https://www.airlinequality.com/airline-reviews/malaysia-airlines/\"\n",
        "words = {\"Grab\": buildWordsFrequency(grab_url), \"Taxi\":buildWordsFrequency(taxi_url), \"Bus\": buildWordsFrequency(bus_url),\"Airline\": buildWordsFrequency(airline_url)}"
      ],
      "execution_count": null,
      "outputs": []
    },
    {
      "cell_type": "code",
      "metadata": {
        "id": "gRfYgwrZVga5",
        "colab_type": "code",
        "colab": {},
        "outputId": "ef516f10-2f1e-4f6f-d5eb-d749a4811fbd"
      },
      "source": [
        "#Scrap Stop Words\n",
        "URL = 'https://www.ranks.nl/stopwords'\n",
        "page = requests.get(URL,verify=False)\n",
        "soup = BeautifulSoup(page.content, 'html.parser')\n",
        "row = soup.find('tr')\n",
        "cols = row.find_all('td')\n",
        "cols = [re.split(\"<[^<>]*>\",str(ele)) for ele in cols]\n",
        "stop_words = [ stop_word.lower() for stop_words in cols for stop_word in stop_words if stop_word]"
      ],
      "execution_count": null,
      "outputs": [
        {
          "output_type": "stream",
          "text": [
            "C:\\Users\\BrandonTan\\anaconda3\\envs\\ox\\lib\\site-packages\\urllib3\\connectionpool.py:979: InsecureRequestWarning:\n",
            "\n",
            "Unverified HTTPS request is being made to host 'www.ranks.nl'. Adding certificate verification is strongly advised. See: https://urllib3.readthedocs.io/en/latest/advanced-usage.html#ssl-warnings\n",
            "\n"
          ],
          "name": "stderr"
        }
      ]
    },
    {
      "cell_type": "markdown",
      "metadata": {
        "id": "MwxIzU3pVga8",
        "colab_type": "text"
      },
      "source": [
        "# Tries"
      ]
    },
    {
      "cell_type": "code",
      "metadata": {
        "id": "VBSc-51GVga9",
        "colab_type": "code",
        "colab": {}
      },
      "source": [
        "class TrieNode: \n",
        "        # Trie node class \n",
        "        def __init__(self): \n",
        "            self.children = [None]*30\n",
        "\n",
        "            # isEndOfWord is True if node represent the end of the word \n",
        "            self.isEndOfWord = False"
      ],
      "execution_count": null,
      "outputs": []
    },
    {
      "cell_type": "code",
      "metadata": {
        "id": "UTw4dchrVgbC",
        "colab_type": "code",
        "colab": {}
      },
      "source": [
        "class Trie: \n",
        "\n",
        "    # Trie data structure class \n",
        "    def __init__(self): \n",
        "        self.root = self.getNode() \n",
        "  \n",
        "    def getNode(self): \n",
        "      \n",
        "        # Returns new trie node (initialized to NULLs) \n",
        "        return TrieNode() \n",
        "  \n",
        "    def _charToIndex(self,ch): \n",
        "          \n",
        "        # private helper function \n",
        "        # Converts key current character into index \n",
        "        # use only 'a' through 'z' and lower case \n",
        "      \n",
        "        if ch==\"'\":\n",
        "            return 26\n",
        "        elif ch == '-':\n",
        "            return 27\n",
        "        elif ch == \"*\":\n",
        "            return 28\n",
        "        elif ch == \"—\":\n",
        "            return 29\n",
        "        return ord(ch)-ord('a') \n",
        "  \n",
        "  \n",
        "    def insert(self,key): \n",
        "    \n",
        "        \n",
        "        # If not present, inserts key into trie \n",
        "        # If the key is prefix of trie node,  \n",
        "        # just marks leaf node \n",
        "        pCrawl = self.root \n",
        "        length = len(key) \n",
        "        for level in range(length): \n",
        "            index = self._charToIndex(key[level]) \n",
        "           \n",
        "            # if current character is not present \n",
        "            if not pCrawl.children[index]: \n",
        "                pCrawl.children[index] = self.getNode() \n",
        "            pCrawl = pCrawl.children[index] \n",
        "  \n",
        "        # mark last node as leaf \n",
        "        pCrawl.isEndOfWord = True\n",
        "  \n",
        "    def search(self, key): \n",
        "          \n",
        "        # Search key in the trie \n",
        "        # Returns true if key presents  \n",
        "        # in trie, else false \n",
        "        pCrawl = self.root \n",
        "        length = len(key) \n",
        "        for level in range(length): \n",
        "            index = self._charToIndex(key[level]) \n",
        "            \n",
        "            if not pCrawl.children[index]: \n",
        "                return False\n",
        "            pCrawl = pCrawl.children[index] \n",
        "  \n",
        "        return pCrawl != None and pCrawl.isEndOfWord \n",
        "\n"
      ],
      "execution_count": null,
      "outputs": []
    },
    {
      "cell_type": "code",
      "metadata": {
        "id": "kD8jDujOVgbF",
        "colab_type": "code",
        "colab": {}
      },
      "source": [
        "#Trie String Matcher - Stop Words\n",
        "stop_words_trie = Trie()\n",
        "for word in stop_words:\n",
        "    stop_words_trie.insert(word)\n",
        "for transport in words.keys():\n",
        "    words[transport][\"isStopWord\"] = np.vectorize(stop_words_trie.search)(words[transport].index)"
      ],
      "execution_count": null,
      "outputs": []
    },
    {
      "cell_type": "markdown",
      "metadata": {
        "id": "-fbxovO3VgbK",
        "colab_type": "text"
      },
      "source": [
        "# Q6 - Ployly - Histogram of words"
      ]
    },
    {
      "cell_type": "code",
      "metadata": {
        "id": "1ORI33P-VgbK",
        "colab_type": "code",
        "colab": {
          "base_uri": "https://localhost:8080/",
          "height": 212
        },
        "outputId": "0693bee9-764d-4c5a-f178-83b5a0382a1d"
      },
      "source": [
        "for transport in words.keys():\n",
        "    fig = px.bar(words[transport], x=words[transport].index, y='Frequency',color=\"isStopWord\")\n",
        "    fig.update_layout(title_text=transport)\n",
        "    fig.show()"
      ],
      "execution_count": null,
      "outputs": [
        {
          "output_type": "error",
          "ename": "NameError",
          "evalue": "ignored",
          "traceback": [
            "\u001b[0;31m---------------------------------------------------------------------------\u001b[0m",
            "\u001b[0;31mNameError\u001b[0m                                 Traceback (most recent call last)",
            "\u001b[0;32m<ipython-input-6-cb787e7bab6d>\u001b[0m in \u001b[0;36m<module>\u001b[0;34m()\u001b[0m\n\u001b[0;32m----> 1\u001b[0;31m \u001b[0;32mfor\u001b[0m \u001b[0mtransport\u001b[0m \u001b[0;32min\u001b[0m \u001b[0mwords\u001b[0m\u001b[0;34m.\u001b[0m\u001b[0mkeys\u001b[0m\u001b[0;34m(\u001b[0m\u001b[0;34m)\u001b[0m\u001b[0;34m:\u001b[0m\u001b[0;34m\u001b[0m\u001b[0;34m\u001b[0m\u001b[0m\n\u001b[0m\u001b[1;32m      2\u001b[0m     \u001b[0mfig\u001b[0m \u001b[0;34m=\u001b[0m \u001b[0mpx\u001b[0m\u001b[0;34m.\u001b[0m\u001b[0mbar\u001b[0m\u001b[0;34m(\u001b[0m\u001b[0mwords\u001b[0m\u001b[0;34m[\u001b[0m\u001b[0mtransport\u001b[0m\u001b[0;34m]\u001b[0m\u001b[0;34m,\u001b[0m \u001b[0mx\u001b[0m\u001b[0;34m=\u001b[0m\u001b[0mwords\u001b[0m\u001b[0;34m[\u001b[0m\u001b[0mtransport\u001b[0m\u001b[0;34m]\u001b[0m\u001b[0;34m.\u001b[0m\u001b[0mindex\u001b[0m\u001b[0;34m,\u001b[0m \u001b[0my\u001b[0m\u001b[0;34m=\u001b[0m\u001b[0;34m'Frequency'\u001b[0m\u001b[0;34m,\u001b[0m\u001b[0mcolor\u001b[0m\u001b[0;34m=\u001b[0m\u001b[0;34m\"isStopWord\"\u001b[0m\u001b[0;34m)\u001b[0m\u001b[0;34m\u001b[0m\u001b[0;34m\u001b[0m\u001b[0m\n\u001b[1;32m      3\u001b[0m     \u001b[0mfig\u001b[0m\u001b[0;34m.\u001b[0m\u001b[0mupdate_layout\u001b[0m\u001b[0;34m(\u001b[0m\u001b[0mtitle_text\u001b[0m\u001b[0;34m=\u001b[0m\u001b[0mtransport\u001b[0m\u001b[0;34m)\u001b[0m\u001b[0;34m\u001b[0m\u001b[0;34m\u001b[0m\u001b[0m\n\u001b[1;32m      4\u001b[0m     \u001b[0mfig\u001b[0m\u001b[0;34m.\u001b[0m\u001b[0mshow\u001b[0m\u001b[0;34m(\u001b[0m\u001b[0;34m)\u001b[0m\u001b[0;34m\u001b[0m\u001b[0;34m\u001b[0m\u001b[0m\n",
            "\u001b[0;31mNameError\u001b[0m: name 'words' is not defined"
          ]
        }
      ]
    },
    {
      "cell_type": "markdown",
      "metadata": {
        "id": "msj8zDRMVgbV",
        "colab_type": "text"
      },
      "source": [
        "# Q7 - Trie String Matcher - Positive & Negative"
      ]
    },
    {
      "cell_type": "code",
      "metadata": {
        "id": "FvybSb7GVgbW",
        "colab_type": "code",
        "colab": {}
      },
      "source": [
        "def build_trie(file):\n",
        "    words = np.genfromtxt(file, delimiter=',',dtype=str, encoding=\"utf-8\",autostrip=True)\n",
        "    trie = Trie()\n",
        "    words = np.char.lower(words)\n",
        "    for word in words:\n",
        "        if(len(word.split(\" \"))==1):\n",
        "            if re.search(\"[^a-z'-]+\",word)==None:\n",
        "                trie.insert(word)  \n",
        "    return trie\n",
        "def search_wrapper(posTrie,negTrie,value):\n",
        "    if posTrie.search(value) == True:\n",
        "        return \"Positive\"\n",
        "    elif negTrie.search(value) == True:\n",
        "        return \"Negative\"\n",
        "    else:\n",
        "        return \"Neutral\"\n",
        "    \n",
        "pos_words_trie = build_trie(r'C:\\Users\\BrandonTan\\Downloads\\SEM 4\\Algorithm & Design\\Positive Words.csv')\n",
        "neg_words_trie = build_trie(r'C:\\Users\\BrandonTan\\Downloads\\SEM 4\\Algorithm & Design\\Negative Words.csv')\n",
        "pos_neg_words={}\n",
        "for transport in words.keys():\n",
        "    words_transport = words[transport]\n",
        "    words_transport[\"Sentiment\"] = np.vectorize(search_wrapper)(pos_words_trie,neg_words_trie,words_transport.index)\n",
        "    pos_neg_words.update({transport:words_transport[(words_transport[\"Sentiment\"]!=\"Neutral\") & (words_transport[\"isStopWord\"]==False)]})\n",
        "   "
      ],
      "execution_count": null,
      "outputs": []
    },
    {
      "cell_type": "markdown",
      "metadata": {
        "id": "rW0POdDvVgbZ",
        "colab_type": "text"
      },
      "source": [
        "# Q8 - Ployly - Histogram of Positive & Negative Words"
      ]
    },
    {
      "cell_type": "code",
      "metadata": {
        "id": "aPgVyzddVgba",
        "colab_type": "code",
        "colab": {},
        "outputId": "d964729f-7833-439c-c89e-05c6fbee48fc"
      },
      "source": [
        "for transport in words.keys():\n",
        "    pos_neg_words_transport = pos_neg_words[transport]\n",
        "    fig = px.bar(pos_neg_words_transport, x=pos_neg_words_transport.index, y='Frequency',color=\"Sentiment\")\n",
        "    fig.update_layout(title_text=transport)\n",
        "    fig.show()"
      ],
      "execution_count": null,
      "outputs": [
        {
          "output_type": "display_data",
          "data": {
            "application/vnd.plotly.v1+json": {
              "config": {
                "plotlyServerURL": "https://plot.ly"
              },
              "data": [
                {
                  "alignmentgroup": "True",
                  "hovertemplate": "Sentiment=Positive<br>Word=%{x}<br>Frequency=%{y}<extra></extra>",
                  "legendgroup": "Positive",
                  "marker": {
                    "color": "#636efa"
                  },
                  "name": "Positive",
                  "offsetgroup": "Positive",
                  "orientation": "v",
                  "showlegend": true,
                  "textposition": "auto",
                  "type": "bar",
                  "x": [
                    "safe",
                    "good",
                    "time",
                    "like",
                    "idea",
                    "great",
                    "worth",
                    "just",
                    "better",
                    "affordable",
                    "cheers",
                    "yes",
                    "service",
                    "will",
                    "change",
                    "accommodating",
                    "please",
                    "interested",
                    "order",
                    "help",
                    "easy",
                    "experience",
                    "well",
                    "absolutely",
                    "fantastic",
                    "aware",
                    "style",
                    "reason",
                    "free"
                  ],
                  "xaxis": "x",
                  "y": [
                    4,
                    3,
                    3,
                    3,
                    2,
                    2,
                    2,
                    2,
                    2,
                    2,
                    2,
                    1,
                    1,
                    1,
                    1,
                    1,
                    1,
                    1,
                    1,
                    1,
                    1,
                    1,
                    1,
                    1,
                    1,
                    1,
                    1,
                    1,
                    1
                  ],
                  "yaxis": "y"
                },
                {
                  "alignmentgroup": "True",
                  "hovertemplate": "Sentiment=Negative<br>Word=%{x}<br>Frequency=%{y}<extra></extra>",
                  "legendgroup": "Negative",
                  "marker": {
                    "color": "#EF553B"
                  },
                  "name": "Negative",
                  "offsetgroup": "Negative",
                  "orientation": "v",
                  "showlegend": true,
                  "textposition": "auto",
                  "type": "bar",
                  "x": [
                    "cheap",
                    "expensive",
                    "problem",
                    "trouble",
                    "crowded",
                    "bad"
                  ],
                  "xaxis": "x",
                  "y": [
                    2,
                    1,
                    1,
                    1,
                    1,
                    1
                  ],
                  "yaxis": "y"
                }
              ],
              "layout": {
                "barmode": "relative",
                "legend": {
                  "title": {
                    "text": "Sentiment"
                  },
                  "tracegroupgap": 0
                },
                "margin": {
                  "t": 60
                },
                "template": {
                  "data": {
                    "bar": [
                      {
                        "error_x": {
                          "color": "#2a3f5f"
                        },
                        "error_y": {
                          "color": "#2a3f5f"
                        },
                        "marker": {
                          "line": {
                            "color": "#E5ECF6",
                            "width": 0.5
                          }
                        },
                        "type": "bar"
                      }
                    ],
                    "barpolar": [
                      {
                        "marker": {
                          "line": {
                            "color": "#E5ECF6",
                            "width": 0.5
                          }
                        },
                        "type": "barpolar"
                      }
                    ],
                    "carpet": [
                      {
                        "aaxis": {
                          "endlinecolor": "#2a3f5f",
                          "gridcolor": "white",
                          "linecolor": "white",
                          "minorgridcolor": "white",
                          "startlinecolor": "#2a3f5f"
                        },
                        "baxis": {
                          "endlinecolor": "#2a3f5f",
                          "gridcolor": "white",
                          "linecolor": "white",
                          "minorgridcolor": "white",
                          "startlinecolor": "#2a3f5f"
                        },
                        "type": "carpet"
                      }
                    ],
                    "choropleth": [
                      {
                        "colorbar": {
                          "outlinewidth": 0,
                          "ticks": ""
                        },
                        "type": "choropleth"
                      }
                    ],
                    "contour": [
                      {
                        "colorbar": {
                          "outlinewidth": 0,
                          "ticks": ""
                        },
                        "colorscale": [
                          [
                            0,
                            "#0d0887"
                          ],
                          [
                            0.1111111111111111,
                            "#46039f"
                          ],
                          [
                            0.2222222222222222,
                            "#7201a8"
                          ],
                          [
                            0.3333333333333333,
                            "#9c179e"
                          ],
                          [
                            0.4444444444444444,
                            "#bd3786"
                          ],
                          [
                            0.5555555555555556,
                            "#d8576b"
                          ],
                          [
                            0.6666666666666666,
                            "#ed7953"
                          ],
                          [
                            0.7777777777777778,
                            "#fb9f3a"
                          ],
                          [
                            0.8888888888888888,
                            "#fdca26"
                          ],
                          [
                            1,
                            "#f0f921"
                          ]
                        ],
                        "type": "contour"
                      }
                    ],
                    "contourcarpet": [
                      {
                        "colorbar": {
                          "outlinewidth": 0,
                          "ticks": ""
                        },
                        "type": "contourcarpet"
                      }
                    ],
                    "heatmap": [
                      {
                        "colorbar": {
                          "outlinewidth": 0,
                          "ticks": ""
                        },
                        "colorscale": [
                          [
                            0,
                            "#0d0887"
                          ],
                          [
                            0.1111111111111111,
                            "#46039f"
                          ],
                          [
                            0.2222222222222222,
                            "#7201a8"
                          ],
                          [
                            0.3333333333333333,
                            "#9c179e"
                          ],
                          [
                            0.4444444444444444,
                            "#bd3786"
                          ],
                          [
                            0.5555555555555556,
                            "#d8576b"
                          ],
                          [
                            0.6666666666666666,
                            "#ed7953"
                          ],
                          [
                            0.7777777777777778,
                            "#fb9f3a"
                          ],
                          [
                            0.8888888888888888,
                            "#fdca26"
                          ],
                          [
                            1,
                            "#f0f921"
                          ]
                        ],
                        "type": "heatmap"
                      }
                    ],
                    "heatmapgl": [
                      {
                        "colorbar": {
                          "outlinewidth": 0,
                          "ticks": ""
                        },
                        "colorscale": [
                          [
                            0,
                            "#0d0887"
                          ],
                          [
                            0.1111111111111111,
                            "#46039f"
                          ],
                          [
                            0.2222222222222222,
                            "#7201a8"
                          ],
                          [
                            0.3333333333333333,
                            "#9c179e"
                          ],
                          [
                            0.4444444444444444,
                            "#bd3786"
                          ],
                          [
                            0.5555555555555556,
                            "#d8576b"
                          ],
                          [
                            0.6666666666666666,
                            "#ed7953"
                          ],
                          [
                            0.7777777777777778,
                            "#fb9f3a"
                          ],
                          [
                            0.8888888888888888,
                            "#fdca26"
                          ],
                          [
                            1,
                            "#f0f921"
                          ]
                        ],
                        "type": "heatmapgl"
                      }
                    ],
                    "histogram": [
                      {
                        "marker": {
                          "colorbar": {
                            "outlinewidth": 0,
                            "ticks": ""
                          }
                        },
                        "type": "histogram"
                      }
                    ],
                    "histogram2d": [
                      {
                        "colorbar": {
                          "outlinewidth": 0,
                          "ticks": ""
                        },
                        "colorscale": [
                          [
                            0,
                            "#0d0887"
                          ],
                          [
                            0.1111111111111111,
                            "#46039f"
                          ],
                          [
                            0.2222222222222222,
                            "#7201a8"
                          ],
                          [
                            0.3333333333333333,
                            "#9c179e"
                          ],
                          [
                            0.4444444444444444,
                            "#bd3786"
                          ],
                          [
                            0.5555555555555556,
                            "#d8576b"
                          ],
                          [
                            0.6666666666666666,
                            "#ed7953"
                          ],
                          [
                            0.7777777777777778,
                            "#fb9f3a"
                          ],
                          [
                            0.8888888888888888,
                            "#fdca26"
                          ],
                          [
                            1,
                            "#f0f921"
                          ]
                        ],
                        "type": "histogram2d"
                      }
                    ],
                    "histogram2dcontour": [
                      {
                        "colorbar": {
                          "outlinewidth": 0,
                          "ticks": ""
                        },
                        "colorscale": [
                          [
                            0,
                            "#0d0887"
                          ],
                          [
                            0.1111111111111111,
                            "#46039f"
                          ],
                          [
                            0.2222222222222222,
                            "#7201a8"
                          ],
                          [
                            0.3333333333333333,
                            "#9c179e"
                          ],
                          [
                            0.4444444444444444,
                            "#bd3786"
                          ],
                          [
                            0.5555555555555556,
                            "#d8576b"
                          ],
                          [
                            0.6666666666666666,
                            "#ed7953"
                          ],
                          [
                            0.7777777777777778,
                            "#fb9f3a"
                          ],
                          [
                            0.8888888888888888,
                            "#fdca26"
                          ],
                          [
                            1,
                            "#f0f921"
                          ]
                        ],
                        "type": "histogram2dcontour"
                      }
                    ],
                    "mesh3d": [
                      {
                        "colorbar": {
                          "outlinewidth": 0,
                          "ticks": ""
                        },
                        "type": "mesh3d"
                      }
                    ],
                    "parcoords": [
                      {
                        "line": {
                          "colorbar": {
                            "outlinewidth": 0,
                            "ticks": ""
                          }
                        },
                        "type": "parcoords"
                      }
                    ],
                    "pie": [
                      {
                        "automargin": true,
                        "type": "pie"
                      }
                    ],
                    "scatter": [
                      {
                        "marker": {
                          "colorbar": {
                            "outlinewidth": 0,
                            "ticks": ""
                          }
                        },
                        "type": "scatter"
                      }
                    ],
                    "scatter3d": [
                      {
                        "line": {
                          "colorbar": {
                            "outlinewidth": 0,
                            "ticks": ""
                          }
                        },
                        "marker": {
                          "colorbar": {
                            "outlinewidth": 0,
                            "ticks": ""
                          }
                        },
                        "type": "scatter3d"
                      }
                    ],
                    "scattercarpet": [
                      {
                        "marker": {
                          "colorbar": {
                            "outlinewidth": 0,
                            "ticks": ""
                          }
                        },
                        "type": "scattercarpet"
                      }
                    ],
                    "scattergeo": [
                      {
                        "marker": {
                          "colorbar": {
                            "outlinewidth": 0,
                            "ticks": ""
                          }
                        },
                        "type": "scattergeo"
                      }
                    ],
                    "scattergl": [
                      {
                        "marker": {
                          "colorbar": {
                            "outlinewidth": 0,
                            "ticks": ""
                          }
                        },
                        "type": "scattergl"
                      }
                    ],
                    "scattermapbox": [
                      {
                        "marker": {
                          "colorbar": {
                            "outlinewidth": 0,
                            "ticks": ""
                          }
                        },
                        "type": "scattermapbox"
                      }
                    ],
                    "scatterpolar": [
                      {
                        "marker": {
                          "colorbar": {
                            "outlinewidth": 0,
                            "ticks": ""
                          }
                        },
                        "type": "scatterpolar"
                      }
                    ],
                    "scatterpolargl": [
                      {
                        "marker": {
                          "colorbar": {
                            "outlinewidth": 0,
                            "ticks": ""
                          }
                        },
                        "type": "scatterpolargl"
                      }
                    ],
                    "scatterternary": [
                      {
                        "marker": {
                          "colorbar": {
                            "outlinewidth": 0,
                            "ticks": ""
                          }
                        },
                        "type": "scatterternary"
                      }
                    ],
                    "surface": [
                      {
                        "colorbar": {
                          "outlinewidth": 0,
                          "ticks": ""
                        },
                        "colorscale": [
                          [
                            0,
                            "#0d0887"
                          ],
                          [
                            0.1111111111111111,
                            "#46039f"
                          ],
                          [
                            0.2222222222222222,
                            "#7201a8"
                          ],
                          [
                            0.3333333333333333,
                            "#9c179e"
                          ],
                          [
                            0.4444444444444444,
                            "#bd3786"
                          ],
                          [
                            0.5555555555555556,
                            "#d8576b"
                          ],
                          [
                            0.6666666666666666,
                            "#ed7953"
                          ],
                          [
                            0.7777777777777778,
                            "#fb9f3a"
                          ],
                          [
                            0.8888888888888888,
                            "#fdca26"
                          ],
                          [
                            1,
                            "#f0f921"
                          ]
                        ],
                        "type": "surface"
                      }
                    ],
                    "table": [
                      {
                        "cells": {
                          "fill": {
                            "color": "#EBF0F8"
                          },
                          "line": {
                            "color": "white"
                          }
                        },
                        "header": {
                          "fill": {
                            "color": "#C8D4E3"
                          },
                          "line": {
                            "color": "white"
                          }
                        },
                        "type": "table"
                      }
                    ]
                  },
                  "layout": {
                    "annotationdefaults": {
                      "arrowcolor": "#2a3f5f",
                      "arrowhead": 0,
                      "arrowwidth": 1
                    },
                    "coloraxis": {
                      "colorbar": {
                        "outlinewidth": 0,
                        "ticks": ""
                      }
                    },
                    "colorscale": {
                      "diverging": [
                        [
                          0,
                          "#8e0152"
                        ],
                        [
                          0.1,
                          "#c51b7d"
                        ],
                        [
                          0.2,
                          "#de77ae"
                        ],
                        [
                          0.3,
                          "#f1b6da"
                        ],
                        [
                          0.4,
                          "#fde0ef"
                        ],
                        [
                          0.5,
                          "#f7f7f7"
                        ],
                        [
                          0.6,
                          "#e6f5d0"
                        ],
                        [
                          0.7,
                          "#b8e186"
                        ],
                        [
                          0.8,
                          "#7fbc41"
                        ],
                        [
                          0.9,
                          "#4d9221"
                        ],
                        [
                          1,
                          "#276419"
                        ]
                      ],
                      "sequential": [
                        [
                          0,
                          "#0d0887"
                        ],
                        [
                          0.1111111111111111,
                          "#46039f"
                        ],
                        [
                          0.2222222222222222,
                          "#7201a8"
                        ],
                        [
                          0.3333333333333333,
                          "#9c179e"
                        ],
                        [
                          0.4444444444444444,
                          "#bd3786"
                        ],
                        [
                          0.5555555555555556,
                          "#d8576b"
                        ],
                        [
                          0.6666666666666666,
                          "#ed7953"
                        ],
                        [
                          0.7777777777777778,
                          "#fb9f3a"
                        ],
                        [
                          0.8888888888888888,
                          "#fdca26"
                        ],
                        [
                          1,
                          "#f0f921"
                        ]
                      ],
                      "sequentialminus": [
                        [
                          0,
                          "#0d0887"
                        ],
                        [
                          0.1111111111111111,
                          "#46039f"
                        ],
                        [
                          0.2222222222222222,
                          "#7201a8"
                        ],
                        [
                          0.3333333333333333,
                          "#9c179e"
                        ],
                        [
                          0.4444444444444444,
                          "#bd3786"
                        ],
                        [
                          0.5555555555555556,
                          "#d8576b"
                        ],
                        [
                          0.6666666666666666,
                          "#ed7953"
                        ],
                        [
                          0.7777777777777778,
                          "#fb9f3a"
                        ],
                        [
                          0.8888888888888888,
                          "#fdca26"
                        ],
                        [
                          1,
                          "#f0f921"
                        ]
                      ]
                    },
                    "colorway": [
                      "#636efa",
                      "#EF553B",
                      "#00cc96",
                      "#ab63fa",
                      "#FFA15A",
                      "#19d3f3",
                      "#FF6692",
                      "#B6E880",
                      "#FF97FF",
                      "#FECB52"
                    ],
                    "font": {
                      "color": "#2a3f5f"
                    },
                    "geo": {
                      "bgcolor": "white",
                      "lakecolor": "white",
                      "landcolor": "#E5ECF6",
                      "showlakes": true,
                      "showland": true,
                      "subunitcolor": "white"
                    },
                    "hoverlabel": {
                      "align": "left"
                    },
                    "hovermode": "closest",
                    "mapbox": {
                      "style": "light"
                    },
                    "paper_bgcolor": "white",
                    "plot_bgcolor": "#E5ECF6",
                    "polar": {
                      "angularaxis": {
                        "gridcolor": "white",
                        "linecolor": "white",
                        "ticks": ""
                      },
                      "bgcolor": "#E5ECF6",
                      "radialaxis": {
                        "gridcolor": "white",
                        "linecolor": "white",
                        "ticks": ""
                      }
                    },
                    "scene": {
                      "xaxis": {
                        "backgroundcolor": "#E5ECF6",
                        "gridcolor": "white",
                        "gridwidth": 2,
                        "linecolor": "white",
                        "showbackground": true,
                        "ticks": "",
                        "zerolinecolor": "white"
                      },
                      "yaxis": {
                        "backgroundcolor": "#E5ECF6",
                        "gridcolor": "white",
                        "gridwidth": 2,
                        "linecolor": "white",
                        "showbackground": true,
                        "ticks": "",
                        "zerolinecolor": "white"
                      },
                      "zaxis": {
                        "backgroundcolor": "#E5ECF6",
                        "gridcolor": "white",
                        "gridwidth": 2,
                        "linecolor": "white",
                        "showbackground": true,
                        "ticks": "",
                        "zerolinecolor": "white"
                      }
                    },
                    "shapedefaults": {
                      "line": {
                        "color": "#2a3f5f"
                      }
                    },
                    "ternary": {
                      "aaxis": {
                        "gridcolor": "white",
                        "linecolor": "white",
                        "ticks": ""
                      },
                      "baxis": {
                        "gridcolor": "white",
                        "linecolor": "white",
                        "ticks": ""
                      },
                      "bgcolor": "#E5ECF6",
                      "caxis": {
                        "gridcolor": "white",
                        "linecolor": "white",
                        "ticks": ""
                      }
                    },
                    "title": {
                      "x": 0.05
                    },
                    "xaxis": {
                      "automargin": true,
                      "gridcolor": "white",
                      "linecolor": "white",
                      "ticks": "",
                      "title": {
                        "standoff": 15
                      },
                      "zerolinecolor": "white",
                      "zerolinewidth": 2
                    },
                    "yaxis": {
                      "automargin": true,
                      "gridcolor": "white",
                      "linecolor": "white",
                      "ticks": "",
                      "title": {
                        "standoff": 15
                      },
                      "zerolinecolor": "white",
                      "zerolinewidth": 2
                    }
                  }
                },
                "title": {
                  "text": "Grab"
                },
                "xaxis": {
                  "anchor": "y",
                  "domain": [
                    0,
                    1
                  ],
                  "title": {
                    "text": "Word"
                  }
                },
                "yaxis": {
                  "anchor": "x",
                  "domain": [
                    0,
                    1
                  ],
                  "title": {
                    "text": "Frequency"
                  }
                }
              }
            },
            "text/html": [
              "<div>\n",
              "        \n",
              "        \n",
              "            <div id=\"ba6c374a-e661-4ebd-b12d-812490ed2649\" class=\"plotly-graph-div\" style=\"height:525px; width:100%;\"></div>\n",
              "            <script type=\"text/javascript\">\n",
              "                require([\"plotly\"], function(Plotly) {\n",
              "                    window.PLOTLYENV=window.PLOTLYENV || {};\n",
              "                    \n",
              "                if (document.getElementById(\"ba6c374a-e661-4ebd-b12d-812490ed2649\")) {\n",
              "                    Plotly.newPlot(\n",
              "                        'ba6c374a-e661-4ebd-b12d-812490ed2649',\n",
              "                        [{\"alignmentgroup\": \"True\", \"hovertemplate\": \"Sentiment=Positive<br>Word=%{x}<br>Frequency=%{y}<extra></extra>\", \"legendgroup\": \"Positive\", \"marker\": {\"color\": \"#636efa\"}, \"name\": \"Positive\", \"offsetgroup\": \"Positive\", \"orientation\": \"v\", \"showlegend\": true, \"textposition\": \"auto\", \"type\": \"bar\", \"x\": [\"safe\", \"good\", \"time\", \"like\", \"idea\", \"great\", \"worth\", \"just\", \"better\", \"affordable\", \"cheers\", \"yes\", \"service\", \"will\", \"change\", \"accommodating\", \"please\", \"interested\", \"order\", \"help\", \"easy\", \"experience\", \"well\", \"absolutely\", \"fantastic\", \"aware\", \"style\", \"reason\", \"free\"], \"xaxis\": \"x\", \"y\": [4, 3, 3, 3, 2, 2, 2, 2, 2, 2, 2, 1, 1, 1, 1, 1, 1, 1, 1, 1, 1, 1, 1, 1, 1, 1, 1, 1, 1], \"yaxis\": \"y\"}, {\"alignmentgroup\": \"True\", \"hovertemplate\": \"Sentiment=Negative<br>Word=%{x}<br>Frequency=%{y}<extra></extra>\", \"legendgroup\": \"Negative\", \"marker\": {\"color\": \"#EF553B\"}, \"name\": \"Negative\", \"offsetgroup\": \"Negative\", \"orientation\": \"v\", \"showlegend\": true, \"textposition\": \"auto\", \"type\": \"bar\", \"x\": [\"cheap\", \"expensive\", \"problem\", \"trouble\", \"crowded\", \"bad\"], \"xaxis\": \"x\", \"y\": [2, 1, 1, 1, 1, 1], \"yaxis\": \"y\"}],\n",
              "                        {\"barmode\": \"relative\", \"legend\": {\"title\": {\"text\": \"Sentiment\"}, \"tracegroupgap\": 0}, \"margin\": {\"t\": 60}, \"template\": {\"data\": {\"bar\": [{\"error_x\": {\"color\": \"#2a3f5f\"}, \"error_y\": {\"color\": \"#2a3f5f\"}, \"marker\": {\"line\": {\"color\": \"#E5ECF6\", \"width\": 0.5}}, \"type\": \"bar\"}], \"barpolar\": [{\"marker\": {\"line\": {\"color\": \"#E5ECF6\", \"width\": 0.5}}, \"type\": \"barpolar\"}], \"carpet\": [{\"aaxis\": {\"endlinecolor\": \"#2a3f5f\", \"gridcolor\": \"white\", \"linecolor\": \"white\", \"minorgridcolor\": \"white\", \"startlinecolor\": \"#2a3f5f\"}, \"baxis\": {\"endlinecolor\": \"#2a3f5f\", \"gridcolor\": \"white\", \"linecolor\": \"white\", \"minorgridcolor\": \"white\", \"startlinecolor\": \"#2a3f5f\"}, \"type\": \"carpet\"}], \"choropleth\": [{\"colorbar\": {\"outlinewidth\": 0, \"ticks\": \"\"}, \"type\": \"choropleth\"}], \"contour\": [{\"colorbar\": {\"outlinewidth\": 0, \"ticks\": \"\"}, \"colorscale\": [[0.0, \"#0d0887\"], [0.1111111111111111, \"#46039f\"], [0.2222222222222222, \"#7201a8\"], [0.3333333333333333, \"#9c179e\"], [0.4444444444444444, \"#bd3786\"], [0.5555555555555556, \"#d8576b\"], [0.6666666666666666, \"#ed7953\"], [0.7777777777777778, \"#fb9f3a\"], [0.8888888888888888, \"#fdca26\"], [1.0, \"#f0f921\"]], \"type\": \"contour\"}], \"contourcarpet\": [{\"colorbar\": {\"outlinewidth\": 0, \"ticks\": \"\"}, \"type\": \"contourcarpet\"}], \"heatmap\": [{\"colorbar\": {\"outlinewidth\": 0, \"ticks\": \"\"}, \"colorscale\": [[0.0, \"#0d0887\"], [0.1111111111111111, \"#46039f\"], [0.2222222222222222, \"#7201a8\"], [0.3333333333333333, \"#9c179e\"], [0.4444444444444444, \"#bd3786\"], [0.5555555555555556, \"#d8576b\"], [0.6666666666666666, \"#ed7953\"], [0.7777777777777778, \"#fb9f3a\"], [0.8888888888888888, \"#fdca26\"], [1.0, \"#f0f921\"]], \"type\": \"heatmap\"}], \"heatmapgl\": [{\"colorbar\": {\"outlinewidth\": 0, \"ticks\": \"\"}, \"colorscale\": [[0.0, \"#0d0887\"], [0.1111111111111111, \"#46039f\"], [0.2222222222222222, \"#7201a8\"], [0.3333333333333333, \"#9c179e\"], [0.4444444444444444, \"#bd3786\"], [0.5555555555555556, \"#d8576b\"], [0.6666666666666666, \"#ed7953\"], [0.7777777777777778, \"#fb9f3a\"], [0.8888888888888888, \"#fdca26\"], [1.0, \"#f0f921\"]], \"type\": \"heatmapgl\"}], \"histogram\": [{\"marker\": {\"colorbar\": {\"outlinewidth\": 0, \"ticks\": \"\"}}, \"type\": \"histogram\"}], \"histogram2d\": [{\"colorbar\": {\"outlinewidth\": 0, \"ticks\": \"\"}, \"colorscale\": [[0.0, \"#0d0887\"], [0.1111111111111111, \"#46039f\"], [0.2222222222222222, \"#7201a8\"], [0.3333333333333333, \"#9c179e\"], [0.4444444444444444, \"#bd3786\"], [0.5555555555555556, \"#d8576b\"], [0.6666666666666666, \"#ed7953\"], [0.7777777777777778, \"#fb9f3a\"], [0.8888888888888888, \"#fdca26\"], [1.0, \"#f0f921\"]], \"type\": \"histogram2d\"}], \"histogram2dcontour\": [{\"colorbar\": {\"outlinewidth\": 0, \"ticks\": \"\"}, \"colorscale\": [[0.0, \"#0d0887\"], [0.1111111111111111, \"#46039f\"], [0.2222222222222222, \"#7201a8\"], [0.3333333333333333, \"#9c179e\"], [0.4444444444444444, \"#bd3786\"], [0.5555555555555556, \"#d8576b\"], [0.6666666666666666, \"#ed7953\"], [0.7777777777777778, \"#fb9f3a\"], [0.8888888888888888, \"#fdca26\"], [1.0, \"#f0f921\"]], \"type\": \"histogram2dcontour\"}], \"mesh3d\": [{\"colorbar\": {\"outlinewidth\": 0, \"ticks\": \"\"}, \"type\": \"mesh3d\"}], \"parcoords\": [{\"line\": {\"colorbar\": {\"outlinewidth\": 0, \"ticks\": \"\"}}, \"type\": \"parcoords\"}], \"pie\": [{\"automargin\": true, \"type\": \"pie\"}], \"scatter\": [{\"marker\": {\"colorbar\": {\"outlinewidth\": 0, \"ticks\": \"\"}}, \"type\": \"scatter\"}], \"scatter3d\": [{\"line\": {\"colorbar\": {\"outlinewidth\": 0, \"ticks\": \"\"}}, \"marker\": {\"colorbar\": {\"outlinewidth\": 0, \"ticks\": \"\"}}, \"type\": \"scatter3d\"}], \"scattercarpet\": [{\"marker\": {\"colorbar\": {\"outlinewidth\": 0, \"ticks\": \"\"}}, \"type\": \"scattercarpet\"}], \"scattergeo\": [{\"marker\": {\"colorbar\": {\"outlinewidth\": 0, \"ticks\": \"\"}}, \"type\": \"scattergeo\"}], \"scattergl\": [{\"marker\": {\"colorbar\": {\"outlinewidth\": 0, \"ticks\": \"\"}}, \"type\": \"scattergl\"}], \"scattermapbox\": [{\"marker\": {\"colorbar\": {\"outlinewidth\": 0, \"ticks\": \"\"}}, \"type\": \"scattermapbox\"}], \"scatterpolar\": [{\"marker\": {\"colorbar\": {\"outlinewidth\": 0, \"ticks\": \"\"}}, \"type\": \"scatterpolar\"}], \"scatterpolargl\": [{\"marker\": {\"colorbar\": {\"outlinewidth\": 0, \"ticks\": \"\"}}, \"type\": \"scatterpolargl\"}], \"scatterternary\": [{\"marker\": {\"colorbar\": {\"outlinewidth\": 0, \"ticks\": \"\"}}, \"type\": \"scatterternary\"}], \"surface\": [{\"colorbar\": {\"outlinewidth\": 0, \"ticks\": \"\"}, \"colorscale\": [[0.0, \"#0d0887\"], [0.1111111111111111, \"#46039f\"], [0.2222222222222222, \"#7201a8\"], [0.3333333333333333, \"#9c179e\"], [0.4444444444444444, \"#bd3786\"], [0.5555555555555556, \"#d8576b\"], [0.6666666666666666, \"#ed7953\"], [0.7777777777777778, \"#fb9f3a\"], [0.8888888888888888, \"#fdca26\"], [1.0, \"#f0f921\"]], \"type\": \"surface\"}], \"table\": [{\"cells\": {\"fill\": {\"color\": \"#EBF0F8\"}, \"line\": {\"color\": \"white\"}}, \"header\": {\"fill\": {\"color\": \"#C8D4E3\"}, \"line\": {\"color\": \"white\"}}, \"type\": \"table\"}]}, \"layout\": {\"annotationdefaults\": {\"arrowcolor\": \"#2a3f5f\", \"arrowhead\": 0, \"arrowwidth\": 1}, \"coloraxis\": {\"colorbar\": {\"outlinewidth\": 0, \"ticks\": \"\"}}, \"colorscale\": {\"diverging\": [[0, \"#8e0152\"], [0.1, \"#c51b7d\"], [0.2, \"#de77ae\"], [0.3, \"#f1b6da\"], [0.4, \"#fde0ef\"], [0.5, \"#f7f7f7\"], [0.6, \"#e6f5d0\"], [0.7, \"#b8e186\"], [0.8, \"#7fbc41\"], [0.9, \"#4d9221\"], [1, \"#276419\"]], \"sequential\": [[0.0, \"#0d0887\"], [0.1111111111111111, \"#46039f\"], [0.2222222222222222, \"#7201a8\"], [0.3333333333333333, \"#9c179e\"], [0.4444444444444444, \"#bd3786\"], [0.5555555555555556, \"#d8576b\"], [0.6666666666666666, \"#ed7953\"], [0.7777777777777778, \"#fb9f3a\"], [0.8888888888888888, \"#fdca26\"], [1.0, \"#f0f921\"]], \"sequentialminus\": [[0.0, \"#0d0887\"], [0.1111111111111111, \"#46039f\"], [0.2222222222222222, \"#7201a8\"], [0.3333333333333333, \"#9c179e\"], [0.4444444444444444, \"#bd3786\"], [0.5555555555555556, \"#d8576b\"], [0.6666666666666666, \"#ed7953\"], [0.7777777777777778, \"#fb9f3a\"], [0.8888888888888888, \"#fdca26\"], [1.0, \"#f0f921\"]]}, \"colorway\": [\"#636efa\", \"#EF553B\", \"#00cc96\", \"#ab63fa\", \"#FFA15A\", \"#19d3f3\", \"#FF6692\", \"#B6E880\", \"#FF97FF\", \"#FECB52\"], \"font\": {\"color\": \"#2a3f5f\"}, \"geo\": {\"bgcolor\": \"white\", \"lakecolor\": \"white\", \"landcolor\": \"#E5ECF6\", \"showlakes\": true, \"showland\": true, \"subunitcolor\": \"white\"}, \"hoverlabel\": {\"align\": \"left\"}, \"hovermode\": \"closest\", \"mapbox\": {\"style\": \"light\"}, \"paper_bgcolor\": \"white\", \"plot_bgcolor\": \"#E5ECF6\", \"polar\": {\"angularaxis\": {\"gridcolor\": \"white\", \"linecolor\": \"white\", \"ticks\": \"\"}, \"bgcolor\": \"#E5ECF6\", \"radialaxis\": {\"gridcolor\": \"white\", \"linecolor\": \"white\", \"ticks\": \"\"}}, \"scene\": {\"xaxis\": {\"backgroundcolor\": \"#E5ECF6\", \"gridcolor\": \"white\", \"gridwidth\": 2, \"linecolor\": \"white\", \"showbackground\": true, \"ticks\": \"\", \"zerolinecolor\": \"white\"}, \"yaxis\": {\"backgroundcolor\": \"#E5ECF6\", \"gridcolor\": \"white\", \"gridwidth\": 2, \"linecolor\": \"white\", \"showbackground\": true, \"ticks\": \"\", \"zerolinecolor\": \"white\"}, \"zaxis\": {\"backgroundcolor\": \"#E5ECF6\", \"gridcolor\": \"white\", \"gridwidth\": 2, \"linecolor\": \"white\", \"showbackground\": true, \"ticks\": \"\", \"zerolinecolor\": \"white\"}}, \"shapedefaults\": {\"line\": {\"color\": \"#2a3f5f\"}}, \"ternary\": {\"aaxis\": {\"gridcolor\": \"white\", \"linecolor\": \"white\", \"ticks\": \"\"}, \"baxis\": {\"gridcolor\": \"white\", \"linecolor\": \"white\", \"ticks\": \"\"}, \"bgcolor\": \"#E5ECF6\", \"caxis\": {\"gridcolor\": \"white\", \"linecolor\": \"white\", \"ticks\": \"\"}}, \"title\": {\"x\": 0.05}, \"xaxis\": {\"automargin\": true, \"gridcolor\": \"white\", \"linecolor\": \"white\", \"ticks\": \"\", \"title\": {\"standoff\": 15}, \"zerolinecolor\": \"white\", \"zerolinewidth\": 2}, \"yaxis\": {\"automargin\": true, \"gridcolor\": \"white\", \"linecolor\": \"white\", \"ticks\": \"\", \"title\": {\"standoff\": 15}, \"zerolinecolor\": \"white\", \"zerolinewidth\": 2}}}, \"title\": {\"text\": \"Grab\"}, \"xaxis\": {\"anchor\": \"y\", \"domain\": [0.0, 1.0], \"title\": {\"text\": \"Word\"}}, \"yaxis\": {\"anchor\": \"x\", \"domain\": [0.0, 1.0], \"title\": {\"text\": \"Frequency\"}}},\n",
              "                        {\"responsive\": true}\n",
              "                    ).then(function(){\n",
              "                            \n",
              "var gd = document.getElementById('ba6c374a-e661-4ebd-b12d-812490ed2649');\n",
              "var x = new MutationObserver(function (mutations, observer) {{\n",
              "        var display = window.getComputedStyle(gd).display;\n",
              "        if (!display || display === 'none') {{\n",
              "            console.log([gd, 'removed!']);\n",
              "            Plotly.purge(gd);\n",
              "            observer.disconnect();\n",
              "        }}\n",
              "}});\n",
              "\n",
              "// Listen for the removal of the full notebook cells\n",
              "var notebookContainer = gd.closest('#notebook-container');\n",
              "if (notebookContainer) {{\n",
              "    x.observe(notebookContainer, {childList: true});\n",
              "}}\n",
              "\n",
              "// Listen for the clearing of the current output cell\n",
              "var outputEl = gd.closest('.output');\n",
              "if (outputEl) {{\n",
              "    x.observe(outputEl, {childList: true});\n",
              "}}\n",
              "\n",
              "                        })\n",
              "                };\n",
              "                });\n",
              "            </script>\n",
              "        </div>"
            ]
          },
          "metadata": {
            "tags": []
          }
        },
        {
          "output_type": "display_data",
          "data": {
            "application/vnd.plotly.v1+json": {
              "config": {
                "plotlyServerURL": "https://plot.ly"
              },
              "data": [
                {
                  "alignmentgroup": "True",
                  "hovertemplate": "Sentiment=Positive<br>Word=%{x}<br>Frequency=%{y}<extra></extra>",
                  "legendgroup": "Positive",
                  "marker": {
                    "color": "#636efa"
                  },
                  "name": "Positive",
                  "offsetgroup": "Positive",
                  "orientation": "v",
                  "showlegend": true,
                  "textposition": "auto",
                  "type": "bar",
                  "x": [
                    "will",
                    "agree",
                    "time",
                    "experience",
                    "new",
                    "please",
                    "service",
                    "reason",
                    "skill",
                    "good",
                    "hope",
                    "well",
                    "open",
                    "willing",
                    "thank",
                    "enjoy",
                    "comfortable",
                    "efficient"
                  ],
                  "xaxis": "x",
                  "y": [
                    10,
                    3,
                    3,
                    2,
                    2,
                    2,
                    2,
                    1,
                    1,
                    1,
                    1,
                    1,
                    1,
                    1,
                    1,
                    1,
                    1,
                    1
                  ],
                  "yaxis": "y"
                },
                {
                  "alignmentgroup": "True",
                  "hovertemplate": "Sentiment=Negative<br>Word=%{x}<br>Frequency=%{y}<extra></extra>",
                  "legendgroup": "Negative",
                  "marker": {
                    "color": "#EF553B"
                  },
                  "name": "Negative",
                  "offsetgroup": "Negative",
                  "orientation": "v",
                  "showlegend": true,
                  "textposition": "auto",
                  "type": "bar",
                  "x": [
                    "cheap",
                    "stuck",
                    "refuse",
                    "expensive",
                    "ripped",
                    "exorbitant",
                    "bad"
                  ],
                  "xaxis": "x",
                  "y": [
                    3,
                    1,
                    1,
                    1,
                    1,
                    1,
                    1
                  ],
                  "yaxis": "y"
                }
              ],
              "layout": {
                "barmode": "relative",
                "legend": {
                  "title": {
                    "text": "Sentiment"
                  },
                  "tracegroupgap": 0
                },
                "margin": {
                  "t": 60
                },
                "template": {
                  "data": {
                    "bar": [
                      {
                        "error_x": {
                          "color": "#2a3f5f"
                        },
                        "error_y": {
                          "color": "#2a3f5f"
                        },
                        "marker": {
                          "line": {
                            "color": "#E5ECF6",
                            "width": 0.5
                          }
                        },
                        "type": "bar"
                      }
                    ],
                    "barpolar": [
                      {
                        "marker": {
                          "line": {
                            "color": "#E5ECF6",
                            "width": 0.5
                          }
                        },
                        "type": "barpolar"
                      }
                    ],
                    "carpet": [
                      {
                        "aaxis": {
                          "endlinecolor": "#2a3f5f",
                          "gridcolor": "white",
                          "linecolor": "white",
                          "minorgridcolor": "white",
                          "startlinecolor": "#2a3f5f"
                        },
                        "baxis": {
                          "endlinecolor": "#2a3f5f",
                          "gridcolor": "white",
                          "linecolor": "white",
                          "minorgridcolor": "white",
                          "startlinecolor": "#2a3f5f"
                        },
                        "type": "carpet"
                      }
                    ],
                    "choropleth": [
                      {
                        "colorbar": {
                          "outlinewidth": 0,
                          "ticks": ""
                        },
                        "type": "choropleth"
                      }
                    ],
                    "contour": [
                      {
                        "colorbar": {
                          "outlinewidth": 0,
                          "ticks": ""
                        },
                        "colorscale": [
                          [
                            0,
                            "#0d0887"
                          ],
                          [
                            0.1111111111111111,
                            "#46039f"
                          ],
                          [
                            0.2222222222222222,
                            "#7201a8"
                          ],
                          [
                            0.3333333333333333,
                            "#9c179e"
                          ],
                          [
                            0.4444444444444444,
                            "#bd3786"
                          ],
                          [
                            0.5555555555555556,
                            "#d8576b"
                          ],
                          [
                            0.6666666666666666,
                            "#ed7953"
                          ],
                          [
                            0.7777777777777778,
                            "#fb9f3a"
                          ],
                          [
                            0.8888888888888888,
                            "#fdca26"
                          ],
                          [
                            1,
                            "#f0f921"
                          ]
                        ],
                        "type": "contour"
                      }
                    ],
                    "contourcarpet": [
                      {
                        "colorbar": {
                          "outlinewidth": 0,
                          "ticks": ""
                        },
                        "type": "contourcarpet"
                      }
                    ],
                    "heatmap": [
                      {
                        "colorbar": {
                          "outlinewidth": 0,
                          "ticks": ""
                        },
                        "colorscale": [
                          [
                            0,
                            "#0d0887"
                          ],
                          [
                            0.1111111111111111,
                            "#46039f"
                          ],
                          [
                            0.2222222222222222,
                            "#7201a8"
                          ],
                          [
                            0.3333333333333333,
                            "#9c179e"
                          ],
                          [
                            0.4444444444444444,
                            "#bd3786"
                          ],
                          [
                            0.5555555555555556,
                            "#d8576b"
                          ],
                          [
                            0.6666666666666666,
                            "#ed7953"
                          ],
                          [
                            0.7777777777777778,
                            "#fb9f3a"
                          ],
                          [
                            0.8888888888888888,
                            "#fdca26"
                          ],
                          [
                            1,
                            "#f0f921"
                          ]
                        ],
                        "type": "heatmap"
                      }
                    ],
                    "heatmapgl": [
                      {
                        "colorbar": {
                          "outlinewidth": 0,
                          "ticks": ""
                        },
                        "colorscale": [
                          [
                            0,
                            "#0d0887"
                          ],
                          [
                            0.1111111111111111,
                            "#46039f"
                          ],
                          [
                            0.2222222222222222,
                            "#7201a8"
                          ],
                          [
                            0.3333333333333333,
                            "#9c179e"
                          ],
                          [
                            0.4444444444444444,
                            "#bd3786"
                          ],
                          [
                            0.5555555555555556,
                            "#d8576b"
                          ],
                          [
                            0.6666666666666666,
                            "#ed7953"
                          ],
                          [
                            0.7777777777777778,
                            "#fb9f3a"
                          ],
                          [
                            0.8888888888888888,
                            "#fdca26"
                          ],
                          [
                            1,
                            "#f0f921"
                          ]
                        ],
                        "type": "heatmapgl"
                      }
                    ],
                    "histogram": [
                      {
                        "marker": {
                          "colorbar": {
                            "outlinewidth": 0,
                            "ticks": ""
                          }
                        },
                        "type": "histogram"
                      }
                    ],
                    "histogram2d": [
                      {
                        "colorbar": {
                          "outlinewidth": 0,
                          "ticks": ""
                        },
                        "colorscale": [
                          [
                            0,
                            "#0d0887"
                          ],
                          [
                            0.1111111111111111,
                            "#46039f"
                          ],
                          [
                            0.2222222222222222,
                            "#7201a8"
                          ],
                          [
                            0.3333333333333333,
                            "#9c179e"
                          ],
                          [
                            0.4444444444444444,
                            "#bd3786"
                          ],
                          [
                            0.5555555555555556,
                            "#d8576b"
                          ],
                          [
                            0.6666666666666666,
                            "#ed7953"
                          ],
                          [
                            0.7777777777777778,
                            "#fb9f3a"
                          ],
                          [
                            0.8888888888888888,
                            "#fdca26"
                          ],
                          [
                            1,
                            "#f0f921"
                          ]
                        ],
                        "type": "histogram2d"
                      }
                    ],
                    "histogram2dcontour": [
                      {
                        "colorbar": {
                          "outlinewidth": 0,
                          "ticks": ""
                        },
                        "colorscale": [
                          [
                            0,
                            "#0d0887"
                          ],
                          [
                            0.1111111111111111,
                            "#46039f"
                          ],
                          [
                            0.2222222222222222,
                            "#7201a8"
                          ],
                          [
                            0.3333333333333333,
                            "#9c179e"
                          ],
                          [
                            0.4444444444444444,
                            "#bd3786"
                          ],
                          [
                            0.5555555555555556,
                            "#d8576b"
                          ],
                          [
                            0.6666666666666666,
                            "#ed7953"
                          ],
                          [
                            0.7777777777777778,
                            "#fb9f3a"
                          ],
                          [
                            0.8888888888888888,
                            "#fdca26"
                          ],
                          [
                            1,
                            "#f0f921"
                          ]
                        ],
                        "type": "histogram2dcontour"
                      }
                    ],
                    "mesh3d": [
                      {
                        "colorbar": {
                          "outlinewidth": 0,
                          "ticks": ""
                        },
                        "type": "mesh3d"
                      }
                    ],
                    "parcoords": [
                      {
                        "line": {
                          "colorbar": {
                            "outlinewidth": 0,
                            "ticks": ""
                          }
                        },
                        "type": "parcoords"
                      }
                    ],
                    "pie": [
                      {
                        "automargin": true,
                        "type": "pie"
                      }
                    ],
                    "scatter": [
                      {
                        "marker": {
                          "colorbar": {
                            "outlinewidth": 0,
                            "ticks": ""
                          }
                        },
                        "type": "scatter"
                      }
                    ],
                    "scatter3d": [
                      {
                        "line": {
                          "colorbar": {
                            "outlinewidth": 0,
                            "ticks": ""
                          }
                        },
                        "marker": {
                          "colorbar": {
                            "outlinewidth": 0,
                            "ticks": ""
                          }
                        },
                        "type": "scatter3d"
                      }
                    ],
                    "scattercarpet": [
                      {
                        "marker": {
                          "colorbar": {
                            "outlinewidth": 0,
                            "ticks": ""
                          }
                        },
                        "type": "scattercarpet"
                      }
                    ],
                    "scattergeo": [
                      {
                        "marker": {
                          "colorbar": {
                            "outlinewidth": 0,
                            "ticks": ""
                          }
                        },
                        "type": "scattergeo"
                      }
                    ],
                    "scattergl": [
                      {
                        "marker": {
                          "colorbar": {
                            "outlinewidth": 0,
                            "ticks": ""
                          }
                        },
                        "type": "scattergl"
                      }
                    ],
                    "scattermapbox": [
                      {
                        "marker": {
                          "colorbar": {
                            "outlinewidth": 0,
                            "ticks": ""
                          }
                        },
                        "type": "scattermapbox"
                      }
                    ],
                    "scatterpolar": [
                      {
                        "marker": {
                          "colorbar": {
                            "outlinewidth": 0,
                            "ticks": ""
                          }
                        },
                        "type": "scatterpolar"
                      }
                    ],
                    "scatterpolargl": [
                      {
                        "marker": {
                          "colorbar": {
                            "outlinewidth": 0,
                            "ticks": ""
                          }
                        },
                        "type": "scatterpolargl"
                      }
                    ],
                    "scatterternary": [
                      {
                        "marker": {
                          "colorbar": {
                            "outlinewidth": 0,
                            "ticks": ""
                          }
                        },
                        "type": "scatterternary"
                      }
                    ],
                    "surface": [
                      {
                        "colorbar": {
                          "outlinewidth": 0,
                          "ticks": ""
                        },
                        "colorscale": [
                          [
                            0,
                            "#0d0887"
                          ],
                          [
                            0.1111111111111111,
                            "#46039f"
                          ],
                          [
                            0.2222222222222222,
                            "#7201a8"
                          ],
                          [
                            0.3333333333333333,
                            "#9c179e"
                          ],
                          [
                            0.4444444444444444,
                            "#bd3786"
                          ],
                          [
                            0.5555555555555556,
                            "#d8576b"
                          ],
                          [
                            0.6666666666666666,
                            "#ed7953"
                          ],
                          [
                            0.7777777777777778,
                            "#fb9f3a"
                          ],
                          [
                            0.8888888888888888,
                            "#fdca26"
                          ],
                          [
                            1,
                            "#f0f921"
                          ]
                        ],
                        "type": "surface"
                      }
                    ],
                    "table": [
                      {
                        "cells": {
                          "fill": {
                            "color": "#EBF0F8"
                          },
                          "line": {
                            "color": "white"
                          }
                        },
                        "header": {
                          "fill": {
                            "color": "#C8D4E3"
                          },
                          "line": {
                            "color": "white"
                          }
                        },
                        "type": "table"
                      }
                    ]
                  },
                  "layout": {
                    "annotationdefaults": {
                      "arrowcolor": "#2a3f5f",
                      "arrowhead": 0,
                      "arrowwidth": 1
                    },
                    "coloraxis": {
                      "colorbar": {
                        "outlinewidth": 0,
                        "ticks": ""
                      }
                    },
                    "colorscale": {
                      "diverging": [
                        [
                          0,
                          "#8e0152"
                        ],
                        [
                          0.1,
                          "#c51b7d"
                        ],
                        [
                          0.2,
                          "#de77ae"
                        ],
                        [
                          0.3,
                          "#f1b6da"
                        ],
                        [
                          0.4,
                          "#fde0ef"
                        ],
                        [
                          0.5,
                          "#f7f7f7"
                        ],
                        [
                          0.6,
                          "#e6f5d0"
                        ],
                        [
                          0.7,
                          "#b8e186"
                        ],
                        [
                          0.8,
                          "#7fbc41"
                        ],
                        [
                          0.9,
                          "#4d9221"
                        ],
                        [
                          1,
                          "#276419"
                        ]
                      ],
                      "sequential": [
                        [
                          0,
                          "#0d0887"
                        ],
                        [
                          0.1111111111111111,
                          "#46039f"
                        ],
                        [
                          0.2222222222222222,
                          "#7201a8"
                        ],
                        [
                          0.3333333333333333,
                          "#9c179e"
                        ],
                        [
                          0.4444444444444444,
                          "#bd3786"
                        ],
                        [
                          0.5555555555555556,
                          "#d8576b"
                        ],
                        [
                          0.6666666666666666,
                          "#ed7953"
                        ],
                        [
                          0.7777777777777778,
                          "#fb9f3a"
                        ],
                        [
                          0.8888888888888888,
                          "#fdca26"
                        ],
                        [
                          1,
                          "#f0f921"
                        ]
                      ],
                      "sequentialminus": [
                        [
                          0,
                          "#0d0887"
                        ],
                        [
                          0.1111111111111111,
                          "#46039f"
                        ],
                        [
                          0.2222222222222222,
                          "#7201a8"
                        ],
                        [
                          0.3333333333333333,
                          "#9c179e"
                        ],
                        [
                          0.4444444444444444,
                          "#bd3786"
                        ],
                        [
                          0.5555555555555556,
                          "#d8576b"
                        ],
                        [
                          0.6666666666666666,
                          "#ed7953"
                        ],
                        [
                          0.7777777777777778,
                          "#fb9f3a"
                        ],
                        [
                          0.8888888888888888,
                          "#fdca26"
                        ],
                        [
                          1,
                          "#f0f921"
                        ]
                      ]
                    },
                    "colorway": [
                      "#636efa",
                      "#EF553B",
                      "#00cc96",
                      "#ab63fa",
                      "#FFA15A",
                      "#19d3f3",
                      "#FF6692",
                      "#B6E880",
                      "#FF97FF",
                      "#FECB52"
                    ],
                    "font": {
                      "color": "#2a3f5f"
                    },
                    "geo": {
                      "bgcolor": "white",
                      "lakecolor": "white",
                      "landcolor": "#E5ECF6",
                      "showlakes": true,
                      "showland": true,
                      "subunitcolor": "white"
                    },
                    "hoverlabel": {
                      "align": "left"
                    },
                    "hovermode": "closest",
                    "mapbox": {
                      "style": "light"
                    },
                    "paper_bgcolor": "white",
                    "plot_bgcolor": "#E5ECF6",
                    "polar": {
                      "angularaxis": {
                        "gridcolor": "white",
                        "linecolor": "white",
                        "ticks": ""
                      },
                      "bgcolor": "#E5ECF6",
                      "radialaxis": {
                        "gridcolor": "white",
                        "linecolor": "white",
                        "ticks": ""
                      }
                    },
                    "scene": {
                      "xaxis": {
                        "backgroundcolor": "#E5ECF6",
                        "gridcolor": "white",
                        "gridwidth": 2,
                        "linecolor": "white",
                        "showbackground": true,
                        "ticks": "",
                        "zerolinecolor": "white"
                      },
                      "yaxis": {
                        "backgroundcolor": "#E5ECF6",
                        "gridcolor": "white",
                        "gridwidth": 2,
                        "linecolor": "white",
                        "showbackground": true,
                        "ticks": "",
                        "zerolinecolor": "white"
                      },
                      "zaxis": {
                        "backgroundcolor": "#E5ECF6",
                        "gridcolor": "white",
                        "gridwidth": 2,
                        "linecolor": "white",
                        "showbackground": true,
                        "ticks": "",
                        "zerolinecolor": "white"
                      }
                    },
                    "shapedefaults": {
                      "line": {
                        "color": "#2a3f5f"
                      }
                    },
                    "ternary": {
                      "aaxis": {
                        "gridcolor": "white",
                        "linecolor": "white",
                        "ticks": ""
                      },
                      "baxis": {
                        "gridcolor": "white",
                        "linecolor": "white",
                        "ticks": ""
                      },
                      "bgcolor": "#E5ECF6",
                      "caxis": {
                        "gridcolor": "white",
                        "linecolor": "white",
                        "ticks": ""
                      }
                    },
                    "title": {
                      "x": 0.05
                    },
                    "xaxis": {
                      "automargin": true,
                      "gridcolor": "white",
                      "linecolor": "white",
                      "ticks": "",
                      "title": {
                        "standoff": 15
                      },
                      "zerolinecolor": "white",
                      "zerolinewidth": 2
                    },
                    "yaxis": {
                      "automargin": true,
                      "gridcolor": "white",
                      "linecolor": "white",
                      "ticks": "",
                      "title": {
                        "standoff": 15
                      },
                      "zerolinecolor": "white",
                      "zerolinewidth": 2
                    }
                  }
                },
                "title": {
                  "text": "Taxi"
                },
                "xaxis": {
                  "anchor": "y",
                  "domain": [
                    0,
                    1
                  ],
                  "title": {
                    "text": "Word"
                  }
                },
                "yaxis": {
                  "anchor": "x",
                  "domain": [
                    0,
                    1
                  ],
                  "title": {
                    "text": "Frequency"
                  }
                }
              }
            },
            "text/html": [
              "<div>\n",
              "        \n",
              "        \n",
              "            <div id=\"285a6ccd-5e90-4e7f-944f-cf8179bdeb47\" class=\"plotly-graph-div\" style=\"height:525px; width:100%;\"></div>\n",
              "            <script type=\"text/javascript\">\n",
              "                require([\"plotly\"], function(Plotly) {\n",
              "                    window.PLOTLYENV=window.PLOTLYENV || {};\n",
              "                    \n",
              "                if (document.getElementById(\"285a6ccd-5e90-4e7f-944f-cf8179bdeb47\")) {\n",
              "                    Plotly.newPlot(\n",
              "                        '285a6ccd-5e90-4e7f-944f-cf8179bdeb47',\n",
              "                        [{\"alignmentgroup\": \"True\", \"hovertemplate\": \"Sentiment=Positive<br>Word=%{x}<br>Frequency=%{y}<extra></extra>\", \"legendgroup\": \"Positive\", \"marker\": {\"color\": \"#636efa\"}, \"name\": \"Positive\", \"offsetgroup\": \"Positive\", \"orientation\": \"v\", \"showlegend\": true, \"textposition\": \"auto\", \"type\": \"bar\", \"x\": [\"will\", \"agree\", \"time\", \"experience\", \"new\", \"please\", \"service\", \"reason\", \"skill\", \"good\", \"hope\", \"well\", \"open\", \"willing\", \"thank\", \"enjoy\", \"comfortable\", \"efficient\"], \"xaxis\": \"x\", \"y\": [10, 3, 3, 2, 2, 2, 2, 1, 1, 1, 1, 1, 1, 1, 1, 1, 1, 1], \"yaxis\": \"y\"}, {\"alignmentgroup\": \"True\", \"hovertemplate\": \"Sentiment=Negative<br>Word=%{x}<br>Frequency=%{y}<extra></extra>\", \"legendgroup\": \"Negative\", \"marker\": {\"color\": \"#EF553B\"}, \"name\": \"Negative\", \"offsetgroup\": \"Negative\", \"orientation\": \"v\", \"showlegend\": true, \"textposition\": \"auto\", \"type\": \"bar\", \"x\": [\"cheap\", \"stuck\", \"refuse\", \"expensive\", \"ripped\", \"exorbitant\", \"bad\"], \"xaxis\": \"x\", \"y\": [3, 1, 1, 1, 1, 1, 1], \"yaxis\": \"y\"}],\n",
              "                        {\"barmode\": \"relative\", \"legend\": {\"title\": {\"text\": \"Sentiment\"}, \"tracegroupgap\": 0}, \"margin\": {\"t\": 60}, \"template\": {\"data\": {\"bar\": [{\"error_x\": {\"color\": \"#2a3f5f\"}, \"error_y\": {\"color\": \"#2a3f5f\"}, \"marker\": {\"line\": {\"color\": \"#E5ECF6\", \"width\": 0.5}}, \"type\": \"bar\"}], \"barpolar\": [{\"marker\": {\"line\": {\"color\": \"#E5ECF6\", \"width\": 0.5}}, \"type\": \"barpolar\"}], \"carpet\": [{\"aaxis\": {\"endlinecolor\": \"#2a3f5f\", \"gridcolor\": \"white\", \"linecolor\": \"white\", \"minorgridcolor\": \"white\", \"startlinecolor\": \"#2a3f5f\"}, \"baxis\": {\"endlinecolor\": \"#2a3f5f\", \"gridcolor\": \"white\", \"linecolor\": \"white\", \"minorgridcolor\": \"white\", \"startlinecolor\": \"#2a3f5f\"}, \"type\": \"carpet\"}], \"choropleth\": [{\"colorbar\": {\"outlinewidth\": 0, \"ticks\": \"\"}, \"type\": \"choropleth\"}], \"contour\": [{\"colorbar\": {\"outlinewidth\": 0, \"ticks\": \"\"}, \"colorscale\": [[0.0, \"#0d0887\"], [0.1111111111111111, \"#46039f\"], [0.2222222222222222, \"#7201a8\"], [0.3333333333333333, \"#9c179e\"], [0.4444444444444444, \"#bd3786\"], [0.5555555555555556, \"#d8576b\"], [0.6666666666666666, \"#ed7953\"], [0.7777777777777778, \"#fb9f3a\"], [0.8888888888888888, \"#fdca26\"], [1.0, \"#f0f921\"]], \"type\": \"contour\"}], \"contourcarpet\": [{\"colorbar\": {\"outlinewidth\": 0, \"ticks\": \"\"}, \"type\": \"contourcarpet\"}], \"heatmap\": [{\"colorbar\": {\"outlinewidth\": 0, \"ticks\": \"\"}, \"colorscale\": [[0.0, \"#0d0887\"], [0.1111111111111111, \"#46039f\"], [0.2222222222222222, \"#7201a8\"], [0.3333333333333333, \"#9c179e\"], [0.4444444444444444, \"#bd3786\"], [0.5555555555555556, \"#d8576b\"], [0.6666666666666666, \"#ed7953\"], [0.7777777777777778, \"#fb9f3a\"], [0.8888888888888888, \"#fdca26\"], [1.0, \"#f0f921\"]], \"type\": \"heatmap\"}], \"heatmapgl\": [{\"colorbar\": {\"outlinewidth\": 0, \"ticks\": \"\"}, \"colorscale\": [[0.0, \"#0d0887\"], [0.1111111111111111, \"#46039f\"], [0.2222222222222222, \"#7201a8\"], [0.3333333333333333, \"#9c179e\"], [0.4444444444444444, \"#bd3786\"], [0.5555555555555556, \"#d8576b\"], [0.6666666666666666, \"#ed7953\"], [0.7777777777777778, \"#fb9f3a\"], [0.8888888888888888, \"#fdca26\"], [1.0, \"#f0f921\"]], \"type\": \"heatmapgl\"}], \"histogram\": [{\"marker\": {\"colorbar\": {\"outlinewidth\": 0, \"ticks\": \"\"}}, \"type\": \"histogram\"}], \"histogram2d\": [{\"colorbar\": {\"outlinewidth\": 0, \"ticks\": \"\"}, \"colorscale\": [[0.0, \"#0d0887\"], [0.1111111111111111, \"#46039f\"], [0.2222222222222222, \"#7201a8\"], [0.3333333333333333, \"#9c179e\"], [0.4444444444444444, \"#bd3786\"], [0.5555555555555556, \"#d8576b\"], [0.6666666666666666, \"#ed7953\"], [0.7777777777777778, \"#fb9f3a\"], [0.8888888888888888, \"#fdca26\"], [1.0, \"#f0f921\"]], \"type\": \"histogram2d\"}], \"histogram2dcontour\": [{\"colorbar\": {\"outlinewidth\": 0, \"ticks\": \"\"}, \"colorscale\": [[0.0, \"#0d0887\"], [0.1111111111111111, \"#46039f\"], [0.2222222222222222, \"#7201a8\"], [0.3333333333333333, \"#9c179e\"], [0.4444444444444444, \"#bd3786\"], [0.5555555555555556, \"#d8576b\"], [0.6666666666666666, \"#ed7953\"], [0.7777777777777778, \"#fb9f3a\"], [0.8888888888888888, \"#fdca26\"], [1.0, \"#f0f921\"]], \"type\": \"histogram2dcontour\"}], \"mesh3d\": [{\"colorbar\": {\"outlinewidth\": 0, \"ticks\": \"\"}, \"type\": \"mesh3d\"}], \"parcoords\": [{\"line\": {\"colorbar\": {\"outlinewidth\": 0, \"ticks\": \"\"}}, \"type\": \"parcoords\"}], \"pie\": [{\"automargin\": true, \"type\": \"pie\"}], \"scatter\": [{\"marker\": {\"colorbar\": {\"outlinewidth\": 0, \"ticks\": \"\"}}, \"type\": \"scatter\"}], \"scatter3d\": [{\"line\": {\"colorbar\": {\"outlinewidth\": 0, \"ticks\": \"\"}}, \"marker\": {\"colorbar\": {\"outlinewidth\": 0, \"ticks\": \"\"}}, \"type\": \"scatter3d\"}], \"scattercarpet\": [{\"marker\": {\"colorbar\": {\"outlinewidth\": 0, \"ticks\": \"\"}}, \"type\": \"scattercarpet\"}], \"scattergeo\": [{\"marker\": {\"colorbar\": {\"outlinewidth\": 0, \"ticks\": \"\"}}, \"type\": \"scattergeo\"}], \"scattergl\": [{\"marker\": {\"colorbar\": {\"outlinewidth\": 0, \"ticks\": \"\"}}, \"type\": \"scattergl\"}], \"scattermapbox\": [{\"marker\": {\"colorbar\": {\"outlinewidth\": 0, \"ticks\": \"\"}}, \"type\": \"scattermapbox\"}], \"scatterpolar\": [{\"marker\": {\"colorbar\": {\"outlinewidth\": 0, \"ticks\": \"\"}}, \"type\": \"scatterpolar\"}], \"scatterpolargl\": [{\"marker\": {\"colorbar\": {\"outlinewidth\": 0, \"ticks\": \"\"}}, \"type\": \"scatterpolargl\"}], \"scatterternary\": [{\"marker\": {\"colorbar\": {\"outlinewidth\": 0, \"ticks\": \"\"}}, \"type\": \"scatterternary\"}], \"surface\": [{\"colorbar\": {\"outlinewidth\": 0, \"ticks\": \"\"}, \"colorscale\": [[0.0, \"#0d0887\"], [0.1111111111111111, \"#46039f\"], [0.2222222222222222, \"#7201a8\"], [0.3333333333333333, \"#9c179e\"], [0.4444444444444444, \"#bd3786\"], [0.5555555555555556, \"#d8576b\"], [0.6666666666666666, \"#ed7953\"], [0.7777777777777778, \"#fb9f3a\"], [0.8888888888888888, \"#fdca26\"], [1.0, \"#f0f921\"]], \"type\": \"surface\"}], \"table\": [{\"cells\": {\"fill\": {\"color\": \"#EBF0F8\"}, \"line\": {\"color\": \"white\"}}, \"header\": {\"fill\": {\"color\": \"#C8D4E3\"}, \"line\": {\"color\": \"white\"}}, \"type\": \"table\"}]}, \"layout\": {\"annotationdefaults\": {\"arrowcolor\": \"#2a3f5f\", \"arrowhead\": 0, \"arrowwidth\": 1}, \"coloraxis\": {\"colorbar\": {\"outlinewidth\": 0, \"ticks\": \"\"}}, \"colorscale\": {\"diverging\": [[0, \"#8e0152\"], [0.1, \"#c51b7d\"], [0.2, \"#de77ae\"], [0.3, \"#f1b6da\"], [0.4, \"#fde0ef\"], [0.5, \"#f7f7f7\"], [0.6, \"#e6f5d0\"], [0.7, \"#b8e186\"], [0.8, \"#7fbc41\"], [0.9, \"#4d9221\"], [1, \"#276419\"]], \"sequential\": [[0.0, \"#0d0887\"], [0.1111111111111111, \"#46039f\"], [0.2222222222222222, \"#7201a8\"], [0.3333333333333333, \"#9c179e\"], [0.4444444444444444, \"#bd3786\"], [0.5555555555555556, \"#d8576b\"], [0.6666666666666666, \"#ed7953\"], [0.7777777777777778, \"#fb9f3a\"], [0.8888888888888888, \"#fdca26\"], [1.0, \"#f0f921\"]], \"sequentialminus\": [[0.0, \"#0d0887\"], [0.1111111111111111, \"#46039f\"], [0.2222222222222222, \"#7201a8\"], [0.3333333333333333, \"#9c179e\"], [0.4444444444444444, \"#bd3786\"], [0.5555555555555556, \"#d8576b\"], [0.6666666666666666, \"#ed7953\"], [0.7777777777777778, \"#fb9f3a\"], [0.8888888888888888, \"#fdca26\"], [1.0, \"#f0f921\"]]}, \"colorway\": [\"#636efa\", \"#EF553B\", \"#00cc96\", \"#ab63fa\", \"#FFA15A\", \"#19d3f3\", \"#FF6692\", \"#B6E880\", \"#FF97FF\", \"#FECB52\"], \"font\": {\"color\": \"#2a3f5f\"}, \"geo\": {\"bgcolor\": \"white\", \"lakecolor\": \"white\", \"landcolor\": \"#E5ECF6\", \"showlakes\": true, \"showland\": true, \"subunitcolor\": \"white\"}, \"hoverlabel\": {\"align\": \"left\"}, \"hovermode\": \"closest\", \"mapbox\": {\"style\": \"light\"}, \"paper_bgcolor\": \"white\", \"plot_bgcolor\": \"#E5ECF6\", \"polar\": {\"angularaxis\": {\"gridcolor\": \"white\", \"linecolor\": \"white\", \"ticks\": \"\"}, \"bgcolor\": \"#E5ECF6\", \"radialaxis\": {\"gridcolor\": \"white\", \"linecolor\": \"white\", \"ticks\": \"\"}}, \"scene\": {\"xaxis\": {\"backgroundcolor\": \"#E5ECF6\", \"gridcolor\": \"white\", \"gridwidth\": 2, \"linecolor\": \"white\", \"showbackground\": true, \"ticks\": \"\", \"zerolinecolor\": \"white\"}, \"yaxis\": {\"backgroundcolor\": \"#E5ECF6\", \"gridcolor\": \"white\", \"gridwidth\": 2, \"linecolor\": \"white\", \"showbackground\": true, \"ticks\": \"\", \"zerolinecolor\": \"white\"}, \"zaxis\": {\"backgroundcolor\": \"#E5ECF6\", \"gridcolor\": \"white\", \"gridwidth\": 2, \"linecolor\": \"white\", \"showbackground\": true, \"ticks\": \"\", \"zerolinecolor\": \"white\"}}, \"shapedefaults\": {\"line\": {\"color\": \"#2a3f5f\"}}, \"ternary\": {\"aaxis\": {\"gridcolor\": \"white\", \"linecolor\": \"white\", \"ticks\": \"\"}, \"baxis\": {\"gridcolor\": \"white\", \"linecolor\": \"white\", \"ticks\": \"\"}, \"bgcolor\": \"#E5ECF6\", \"caxis\": {\"gridcolor\": \"white\", \"linecolor\": \"white\", \"ticks\": \"\"}}, \"title\": {\"x\": 0.05}, \"xaxis\": {\"automargin\": true, \"gridcolor\": \"white\", \"linecolor\": \"white\", \"ticks\": \"\", \"title\": {\"standoff\": 15}, \"zerolinecolor\": \"white\", \"zerolinewidth\": 2}, \"yaxis\": {\"automargin\": true, \"gridcolor\": \"white\", \"linecolor\": \"white\", \"ticks\": \"\", \"title\": {\"standoff\": 15}, \"zerolinecolor\": \"white\", \"zerolinewidth\": 2}}}, \"title\": {\"text\": \"Taxi\"}, \"xaxis\": {\"anchor\": \"y\", \"domain\": [0.0, 1.0], \"title\": {\"text\": \"Word\"}}, \"yaxis\": {\"anchor\": \"x\", \"domain\": [0.0, 1.0], \"title\": {\"text\": \"Frequency\"}}},\n",
              "                        {\"responsive\": true}\n",
              "                    ).then(function(){\n",
              "                            \n",
              "var gd = document.getElementById('285a6ccd-5e90-4e7f-944f-cf8179bdeb47');\n",
              "var x = new MutationObserver(function (mutations, observer) {{\n",
              "        var display = window.getComputedStyle(gd).display;\n",
              "        if (!display || display === 'none') {{\n",
              "            console.log([gd, 'removed!']);\n",
              "            Plotly.purge(gd);\n",
              "            observer.disconnect();\n",
              "        }}\n",
              "}});\n",
              "\n",
              "// Listen for the removal of the full notebook cells\n",
              "var notebookContainer = gd.closest('#notebook-container');\n",
              "if (notebookContainer) {{\n",
              "    x.observe(notebookContainer, {childList: true});\n",
              "}}\n",
              "\n",
              "// Listen for the clearing of the current output cell\n",
              "var outputEl = gd.closest('.output');\n",
              "if (outputEl) {{\n",
              "    x.observe(outputEl, {childList: true});\n",
              "}}\n",
              "\n",
              "                        })\n",
              "                };\n",
              "                });\n",
              "            </script>\n",
              "        </div>"
            ]
          },
          "metadata": {
            "tags": []
          }
        },
        {
          "output_type": "display_data",
          "data": {
            "application/vnd.plotly.v1+json": {
              "config": {
                "plotlyServerURL": "https://plot.ly"
              },
              "data": [
                {
                  "alignmentgroup": "True",
                  "hovertemplate": "Sentiment=Positive<br>Word=%{x}<br>Frequency=%{y}<extra></extra>",
                  "legendgroup": "Positive",
                  "marker": {
                    "color": "#636efa"
                  },
                  "name": "Positive",
                  "offsetgroup": "Positive",
                  "orientation": "v",
                  "showlegend": true,
                  "textposition": "auto",
                  "type": "bar",
                  "x": [
                    "extra",
                    "reason",
                    "experience",
                    "continuous",
                    "new",
                    "time",
                    "please",
                    "space",
                    "aware",
                    "save",
                    "surprised",
                    "learn",
                    "allow",
                    "appreciate",
                    "hope",
                    "like",
                    "awareness",
                    "open",
                    "addition",
                    "useful",
                    "glad",
                    "start",
                    "forgive",
                    "air",
                    "just",
                    "nice",
                    "benefit",
                    "agree",
                    "punctual",
                    "comfortable",
                    "change",
                    "choice",
                    "comfort",
                    "fine",
                    "add"
                  ],
                  "xaxis": "x",
                  "y": [
                    3,
                    3,
                    2,
                    2,
                    2,
                    2,
                    2,
                    2,
                    1,
                    1,
                    1,
                    1,
                    1,
                    1,
                    1,
                    1,
                    1,
                    1,
                    1,
                    1,
                    1,
                    1,
                    1,
                    1,
                    1,
                    1,
                    1,
                    1,
                    1,
                    1,
                    1,
                    1,
                    1,
                    1,
                    1
                  ],
                  "yaxis": "y"
                },
                {
                  "alignmentgroup": "True",
                  "hovertemplate": "Sentiment=Negative<br>Word=%{x}<br>Frequency=%{y}<extra></extra>",
                  "legendgroup": "Negative",
                  "marker": {
                    "color": "#EF553B"
                  },
                  "name": "Negative",
                  "offsetgroup": "Negative",
                  "orientation": "v",
                  "showlegend": true,
                  "textposition": "auto",
                  "type": "bar",
                  "x": [
                    "uncomfortable",
                    "poor",
                    "bad",
                    "sorry",
                    "concern",
                    "difficult",
                    "obese",
                    "grouse",
                    "lies",
                    "chunky",
                    "shocked",
                    "needless",
                    "fear",
                    "unfortunately"
                  ],
                  "xaxis": "x",
                  "y": [
                    2,
                    1,
                    1,
                    1,
                    1,
                    1,
                    1,
                    1,
                    1,
                    1,
                    1,
                    1,
                    1,
                    1
                  ],
                  "yaxis": "y"
                }
              ],
              "layout": {
                "barmode": "relative",
                "legend": {
                  "title": {
                    "text": "Sentiment"
                  },
                  "tracegroupgap": 0
                },
                "margin": {
                  "t": 60
                },
                "template": {
                  "data": {
                    "bar": [
                      {
                        "error_x": {
                          "color": "#2a3f5f"
                        },
                        "error_y": {
                          "color": "#2a3f5f"
                        },
                        "marker": {
                          "line": {
                            "color": "#E5ECF6",
                            "width": 0.5
                          }
                        },
                        "type": "bar"
                      }
                    ],
                    "barpolar": [
                      {
                        "marker": {
                          "line": {
                            "color": "#E5ECF6",
                            "width": 0.5
                          }
                        },
                        "type": "barpolar"
                      }
                    ],
                    "carpet": [
                      {
                        "aaxis": {
                          "endlinecolor": "#2a3f5f",
                          "gridcolor": "white",
                          "linecolor": "white",
                          "minorgridcolor": "white",
                          "startlinecolor": "#2a3f5f"
                        },
                        "baxis": {
                          "endlinecolor": "#2a3f5f",
                          "gridcolor": "white",
                          "linecolor": "white",
                          "minorgridcolor": "white",
                          "startlinecolor": "#2a3f5f"
                        },
                        "type": "carpet"
                      }
                    ],
                    "choropleth": [
                      {
                        "colorbar": {
                          "outlinewidth": 0,
                          "ticks": ""
                        },
                        "type": "choropleth"
                      }
                    ],
                    "contour": [
                      {
                        "colorbar": {
                          "outlinewidth": 0,
                          "ticks": ""
                        },
                        "colorscale": [
                          [
                            0,
                            "#0d0887"
                          ],
                          [
                            0.1111111111111111,
                            "#46039f"
                          ],
                          [
                            0.2222222222222222,
                            "#7201a8"
                          ],
                          [
                            0.3333333333333333,
                            "#9c179e"
                          ],
                          [
                            0.4444444444444444,
                            "#bd3786"
                          ],
                          [
                            0.5555555555555556,
                            "#d8576b"
                          ],
                          [
                            0.6666666666666666,
                            "#ed7953"
                          ],
                          [
                            0.7777777777777778,
                            "#fb9f3a"
                          ],
                          [
                            0.8888888888888888,
                            "#fdca26"
                          ],
                          [
                            1,
                            "#f0f921"
                          ]
                        ],
                        "type": "contour"
                      }
                    ],
                    "contourcarpet": [
                      {
                        "colorbar": {
                          "outlinewidth": 0,
                          "ticks": ""
                        },
                        "type": "contourcarpet"
                      }
                    ],
                    "heatmap": [
                      {
                        "colorbar": {
                          "outlinewidth": 0,
                          "ticks": ""
                        },
                        "colorscale": [
                          [
                            0,
                            "#0d0887"
                          ],
                          [
                            0.1111111111111111,
                            "#46039f"
                          ],
                          [
                            0.2222222222222222,
                            "#7201a8"
                          ],
                          [
                            0.3333333333333333,
                            "#9c179e"
                          ],
                          [
                            0.4444444444444444,
                            "#bd3786"
                          ],
                          [
                            0.5555555555555556,
                            "#d8576b"
                          ],
                          [
                            0.6666666666666666,
                            "#ed7953"
                          ],
                          [
                            0.7777777777777778,
                            "#fb9f3a"
                          ],
                          [
                            0.8888888888888888,
                            "#fdca26"
                          ],
                          [
                            1,
                            "#f0f921"
                          ]
                        ],
                        "type": "heatmap"
                      }
                    ],
                    "heatmapgl": [
                      {
                        "colorbar": {
                          "outlinewidth": 0,
                          "ticks": ""
                        },
                        "colorscale": [
                          [
                            0,
                            "#0d0887"
                          ],
                          [
                            0.1111111111111111,
                            "#46039f"
                          ],
                          [
                            0.2222222222222222,
                            "#7201a8"
                          ],
                          [
                            0.3333333333333333,
                            "#9c179e"
                          ],
                          [
                            0.4444444444444444,
                            "#bd3786"
                          ],
                          [
                            0.5555555555555556,
                            "#d8576b"
                          ],
                          [
                            0.6666666666666666,
                            "#ed7953"
                          ],
                          [
                            0.7777777777777778,
                            "#fb9f3a"
                          ],
                          [
                            0.8888888888888888,
                            "#fdca26"
                          ],
                          [
                            1,
                            "#f0f921"
                          ]
                        ],
                        "type": "heatmapgl"
                      }
                    ],
                    "histogram": [
                      {
                        "marker": {
                          "colorbar": {
                            "outlinewidth": 0,
                            "ticks": ""
                          }
                        },
                        "type": "histogram"
                      }
                    ],
                    "histogram2d": [
                      {
                        "colorbar": {
                          "outlinewidth": 0,
                          "ticks": ""
                        },
                        "colorscale": [
                          [
                            0,
                            "#0d0887"
                          ],
                          [
                            0.1111111111111111,
                            "#46039f"
                          ],
                          [
                            0.2222222222222222,
                            "#7201a8"
                          ],
                          [
                            0.3333333333333333,
                            "#9c179e"
                          ],
                          [
                            0.4444444444444444,
                            "#bd3786"
                          ],
                          [
                            0.5555555555555556,
                            "#d8576b"
                          ],
                          [
                            0.6666666666666666,
                            "#ed7953"
                          ],
                          [
                            0.7777777777777778,
                            "#fb9f3a"
                          ],
                          [
                            0.8888888888888888,
                            "#fdca26"
                          ],
                          [
                            1,
                            "#f0f921"
                          ]
                        ],
                        "type": "histogram2d"
                      }
                    ],
                    "histogram2dcontour": [
                      {
                        "colorbar": {
                          "outlinewidth": 0,
                          "ticks": ""
                        },
                        "colorscale": [
                          [
                            0,
                            "#0d0887"
                          ],
                          [
                            0.1111111111111111,
                            "#46039f"
                          ],
                          [
                            0.2222222222222222,
                            "#7201a8"
                          ],
                          [
                            0.3333333333333333,
                            "#9c179e"
                          ],
                          [
                            0.4444444444444444,
                            "#bd3786"
                          ],
                          [
                            0.5555555555555556,
                            "#d8576b"
                          ],
                          [
                            0.6666666666666666,
                            "#ed7953"
                          ],
                          [
                            0.7777777777777778,
                            "#fb9f3a"
                          ],
                          [
                            0.8888888888888888,
                            "#fdca26"
                          ],
                          [
                            1,
                            "#f0f921"
                          ]
                        ],
                        "type": "histogram2dcontour"
                      }
                    ],
                    "mesh3d": [
                      {
                        "colorbar": {
                          "outlinewidth": 0,
                          "ticks": ""
                        },
                        "type": "mesh3d"
                      }
                    ],
                    "parcoords": [
                      {
                        "line": {
                          "colorbar": {
                            "outlinewidth": 0,
                            "ticks": ""
                          }
                        },
                        "type": "parcoords"
                      }
                    ],
                    "pie": [
                      {
                        "automargin": true,
                        "type": "pie"
                      }
                    ],
                    "scatter": [
                      {
                        "marker": {
                          "colorbar": {
                            "outlinewidth": 0,
                            "ticks": ""
                          }
                        },
                        "type": "scatter"
                      }
                    ],
                    "scatter3d": [
                      {
                        "line": {
                          "colorbar": {
                            "outlinewidth": 0,
                            "ticks": ""
                          }
                        },
                        "marker": {
                          "colorbar": {
                            "outlinewidth": 0,
                            "ticks": ""
                          }
                        },
                        "type": "scatter3d"
                      }
                    ],
                    "scattercarpet": [
                      {
                        "marker": {
                          "colorbar": {
                            "outlinewidth": 0,
                            "ticks": ""
                          }
                        },
                        "type": "scattercarpet"
                      }
                    ],
                    "scattergeo": [
                      {
                        "marker": {
                          "colorbar": {
                            "outlinewidth": 0,
                            "ticks": ""
                          }
                        },
                        "type": "scattergeo"
                      }
                    ],
                    "scattergl": [
                      {
                        "marker": {
                          "colorbar": {
                            "outlinewidth": 0,
                            "ticks": ""
                          }
                        },
                        "type": "scattergl"
                      }
                    ],
                    "scattermapbox": [
                      {
                        "marker": {
                          "colorbar": {
                            "outlinewidth": 0,
                            "ticks": ""
                          }
                        },
                        "type": "scattermapbox"
                      }
                    ],
                    "scatterpolar": [
                      {
                        "marker": {
                          "colorbar": {
                            "outlinewidth": 0,
                            "ticks": ""
                          }
                        },
                        "type": "scatterpolar"
                      }
                    ],
                    "scatterpolargl": [
                      {
                        "marker": {
                          "colorbar": {
                            "outlinewidth": 0,
                            "ticks": ""
                          }
                        },
                        "type": "scatterpolargl"
                      }
                    ],
                    "scatterternary": [
                      {
                        "marker": {
                          "colorbar": {
                            "outlinewidth": 0,
                            "ticks": ""
                          }
                        },
                        "type": "scatterternary"
                      }
                    ],
                    "surface": [
                      {
                        "colorbar": {
                          "outlinewidth": 0,
                          "ticks": ""
                        },
                        "colorscale": [
                          [
                            0,
                            "#0d0887"
                          ],
                          [
                            0.1111111111111111,
                            "#46039f"
                          ],
                          [
                            0.2222222222222222,
                            "#7201a8"
                          ],
                          [
                            0.3333333333333333,
                            "#9c179e"
                          ],
                          [
                            0.4444444444444444,
                            "#bd3786"
                          ],
                          [
                            0.5555555555555556,
                            "#d8576b"
                          ],
                          [
                            0.6666666666666666,
                            "#ed7953"
                          ],
                          [
                            0.7777777777777778,
                            "#fb9f3a"
                          ],
                          [
                            0.8888888888888888,
                            "#fdca26"
                          ],
                          [
                            1,
                            "#f0f921"
                          ]
                        ],
                        "type": "surface"
                      }
                    ],
                    "table": [
                      {
                        "cells": {
                          "fill": {
                            "color": "#EBF0F8"
                          },
                          "line": {
                            "color": "white"
                          }
                        },
                        "header": {
                          "fill": {
                            "color": "#C8D4E3"
                          },
                          "line": {
                            "color": "white"
                          }
                        },
                        "type": "table"
                      }
                    ]
                  },
                  "layout": {
                    "annotationdefaults": {
                      "arrowcolor": "#2a3f5f",
                      "arrowhead": 0,
                      "arrowwidth": 1
                    },
                    "coloraxis": {
                      "colorbar": {
                        "outlinewidth": 0,
                        "ticks": ""
                      }
                    },
                    "colorscale": {
                      "diverging": [
                        [
                          0,
                          "#8e0152"
                        ],
                        [
                          0.1,
                          "#c51b7d"
                        ],
                        [
                          0.2,
                          "#de77ae"
                        ],
                        [
                          0.3,
                          "#f1b6da"
                        ],
                        [
                          0.4,
                          "#fde0ef"
                        ],
                        [
                          0.5,
                          "#f7f7f7"
                        ],
                        [
                          0.6,
                          "#e6f5d0"
                        ],
                        [
                          0.7,
                          "#b8e186"
                        ],
                        [
                          0.8,
                          "#7fbc41"
                        ],
                        [
                          0.9,
                          "#4d9221"
                        ],
                        [
                          1,
                          "#276419"
                        ]
                      ],
                      "sequential": [
                        [
                          0,
                          "#0d0887"
                        ],
                        [
                          0.1111111111111111,
                          "#46039f"
                        ],
                        [
                          0.2222222222222222,
                          "#7201a8"
                        ],
                        [
                          0.3333333333333333,
                          "#9c179e"
                        ],
                        [
                          0.4444444444444444,
                          "#bd3786"
                        ],
                        [
                          0.5555555555555556,
                          "#d8576b"
                        ],
                        [
                          0.6666666666666666,
                          "#ed7953"
                        ],
                        [
                          0.7777777777777778,
                          "#fb9f3a"
                        ],
                        [
                          0.8888888888888888,
                          "#fdca26"
                        ],
                        [
                          1,
                          "#f0f921"
                        ]
                      ],
                      "sequentialminus": [
                        [
                          0,
                          "#0d0887"
                        ],
                        [
                          0.1111111111111111,
                          "#46039f"
                        ],
                        [
                          0.2222222222222222,
                          "#7201a8"
                        ],
                        [
                          0.3333333333333333,
                          "#9c179e"
                        ],
                        [
                          0.4444444444444444,
                          "#bd3786"
                        ],
                        [
                          0.5555555555555556,
                          "#d8576b"
                        ],
                        [
                          0.6666666666666666,
                          "#ed7953"
                        ],
                        [
                          0.7777777777777778,
                          "#fb9f3a"
                        ],
                        [
                          0.8888888888888888,
                          "#fdca26"
                        ],
                        [
                          1,
                          "#f0f921"
                        ]
                      ]
                    },
                    "colorway": [
                      "#636efa",
                      "#EF553B",
                      "#00cc96",
                      "#ab63fa",
                      "#FFA15A",
                      "#19d3f3",
                      "#FF6692",
                      "#B6E880",
                      "#FF97FF",
                      "#FECB52"
                    ],
                    "font": {
                      "color": "#2a3f5f"
                    },
                    "geo": {
                      "bgcolor": "white",
                      "lakecolor": "white",
                      "landcolor": "#E5ECF6",
                      "showlakes": true,
                      "showland": true,
                      "subunitcolor": "white"
                    },
                    "hoverlabel": {
                      "align": "left"
                    },
                    "hovermode": "closest",
                    "mapbox": {
                      "style": "light"
                    },
                    "paper_bgcolor": "white",
                    "plot_bgcolor": "#E5ECF6",
                    "polar": {
                      "angularaxis": {
                        "gridcolor": "white",
                        "linecolor": "white",
                        "ticks": ""
                      },
                      "bgcolor": "#E5ECF6",
                      "radialaxis": {
                        "gridcolor": "white",
                        "linecolor": "white",
                        "ticks": ""
                      }
                    },
                    "scene": {
                      "xaxis": {
                        "backgroundcolor": "#E5ECF6",
                        "gridcolor": "white",
                        "gridwidth": 2,
                        "linecolor": "white",
                        "showbackground": true,
                        "ticks": "",
                        "zerolinecolor": "white"
                      },
                      "yaxis": {
                        "backgroundcolor": "#E5ECF6",
                        "gridcolor": "white",
                        "gridwidth": 2,
                        "linecolor": "white",
                        "showbackground": true,
                        "ticks": "",
                        "zerolinecolor": "white"
                      },
                      "zaxis": {
                        "backgroundcolor": "#E5ECF6",
                        "gridcolor": "white",
                        "gridwidth": 2,
                        "linecolor": "white",
                        "showbackground": true,
                        "ticks": "",
                        "zerolinecolor": "white"
                      }
                    },
                    "shapedefaults": {
                      "line": {
                        "color": "#2a3f5f"
                      }
                    },
                    "ternary": {
                      "aaxis": {
                        "gridcolor": "white",
                        "linecolor": "white",
                        "ticks": ""
                      },
                      "baxis": {
                        "gridcolor": "white",
                        "linecolor": "white",
                        "ticks": ""
                      },
                      "bgcolor": "#E5ECF6",
                      "caxis": {
                        "gridcolor": "white",
                        "linecolor": "white",
                        "ticks": ""
                      }
                    },
                    "title": {
                      "x": 0.05
                    },
                    "xaxis": {
                      "automargin": true,
                      "gridcolor": "white",
                      "linecolor": "white",
                      "ticks": "",
                      "title": {
                        "standoff": 15
                      },
                      "zerolinecolor": "white",
                      "zerolinewidth": 2
                    },
                    "yaxis": {
                      "automargin": true,
                      "gridcolor": "white",
                      "linecolor": "white",
                      "ticks": "",
                      "title": {
                        "standoff": 15
                      },
                      "zerolinecolor": "white",
                      "zerolinewidth": 2
                    }
                  }
                },
                "title": {
                  "text": "Bus"
                },
                "xaxis": {
                  "anchor": "y",
                  "domain": [
                    0,
                    1
                  ],
                  "title": {
                    "text": "Word"
                  }
                },
                "yaxis": {
                  "anchor": "x",
                  "domain": [
                    0,
                    1
                  ],
                  "title": {
                    "text": "Frequency"
                  }
                }
              }
            },
            "text/html": [
              "<div>\n",
              "        \n",
              "        \n",
              "            <div id=\"eba331cf-4165-460d-8e43-92349efd7ae2\" class=\"plotly-graph-div\" style=\"height:525px; width:100%;\"></div>\n",
              "            <script type=\"text/javascript\">\n",
              "                require([\"plotly\"], function(Plotly) {\n",
              "                    window.PLOTLYENV=window.PLOTLYENV || {};\n",
              "                    \n",
              "                if (document.getElementById(\"eba331cf-4165-460d-8e43-92349efd7ae2\")) {\n",
              "                    Plotly.newPlot(\n",
              "                        'eba331cf-4165-460d-8e43-92349efd7ae2',\n",
              "                        [{\"alignmentgroup\": \"True\", \"hovertemplate\": \"Sentiment=Positive<br>Word=%{x}<br>Frequency=%{y}<extra></extra>\", \"legendgroup\": \"Positive\", \"marker\": {\"color\": \"#636efa\"}, \"name\": \"Positive\", \"offsetgroup\": \"Positive\", \"orientation\": \"v\", \"showlegend\": true, \"textposition\": \"auto\", \"type\": \"bar\", \"x\": [\"extra\", \"reason\", \"experience\", \"continuous\", \"new\", \"time\", \"please\", \"space\", \"aware\", \"save\", \"surprised\", \"learn\", \"allow\", \"appreciate\", \"hope\", \"like\", \"awareness\", \"open\", \"addition\", \"useful\", \"glad\", \"start\", \"forgive\", \"air\", \"just\", \"nice\", \"benefit\", \"agree\", \"punctual\", \"comfortable\", \"change\", \"choice\", \"comfort\", \"fine\", \"add\"], \"xaxis\": \"x\", \"y\": [3, 3, 2, 2, 2, 2, 2, 2, 1, 1, 1, 1, 1, 1, 1, 1, 1, 1, 1, 1, 1, 1, 1, 1, 1, 1, 1, 1, 1, 1, 1, 1, 1, 1, 1], \"yaxis\": \"y\"}, {\"alignmentgroup\": \"True\", \"hovertemplate\": \"Sentiment=Negative<br>Word=%{x}<br>Frequency=%{y}<extra></extra>\", \"legendgroup\": \"Negative\", \"marker\": {\"color\": \"#EF553B\"}, \"name\": \"Negative\", \"offsetgroup\": \"Negative\", \"orientation\": \"v\", \"showlegend\": true, \"textposition\": \"auto\", \"type\": \"bar\", \"x\": [\"uncomfortable\", \"poor\", \"bad\", \"sorry\", \"concern\", \"difficult\", \"obese\", \"grouse\", \"lies\", \"chunky\", \"shocked\", \"needless\", \"fear\", \"unfortunately\"], \"xaxis\": \"x\", \"y\": [2, 1, 1, 1, 1, 1, 1, 1, 1, 1, 1, 1, 1, 1], \"yaxis\": \"y\"}],\n",
              "                        {\"barmode\": \"relative\", \"legend\": {\"title\": {\"text\": \"Sentiment\"}, \"tracegroupgap\": 0}, \"margin\": {\"t\": 60}, \"template\": {\"data\": {\"bar\": [{\"error_x\": {\"color\": \"#2a3f5f\"}, \"error_y\": {\"color\": \"#2a3f5f\"}, \"marker\": {\"line\": {\"color\": \"#E5ECF6\", \"width\": 0.5}}, \"type\": \"bar\"}], \"barpolar\": [{\"marker\": {\"line\": {\"color\": \"#E5ECF6\", \"width\": 0.5}}, \"type\": \"barpolar\"}], \"carpet\": [{\"aaxis\": {\"endlinecolor\": \"#2a3f5f\", \"gridcolor\": \"white\", \"linecolor\": \"white\", \"minorgridcolor\": \"white\", \"startlinecolor\": \"#2a3f5f\"}, \"baxis\": {\"endlinecolor\": \"#2a3f5f\", \"gridcolor\": \"white\", \"linecolor\": \"white\", \"minorgridcolor\": \"white\", \"startlinecolor\": \"#2a3f5f\"}, \"type\": \"carpet\"}], \"choropleth\": [{\"colorbar\": {\"outlinewidth\": 0, \"ticks\": \"\"}, \"type\": \"choropleth\"}], \"contour\": [{\"colorbar\": {\"outlinewidth\": 0, \"ticks\": \"\"}, \"colorscale\": [[0.0, \"#0d0887\"], [0.1111111111111111, \"#46039f\"], [0.2222222222222222, \"#7201a8\"], [0.3333333333333333, \"#9c179e\"], [0.4444444444444444, \"#bd3786\"], [0.5555555555555556, \"#d8576b\"], [0.6666666666666666, \"#ed7953\"], [0.7777777777777778, \"#fb9f3a\"], [0.8888888888888888, \"#fdca26\"], [1.0, \"#f0f921\"]], \"type\": \"contour\"}], \"contourcarpet\": [{\"colorbar\": {\"outlinewidth\": 0, \"ticks\": \"\"}, \"type\": \"contourcarpet\"}], \"heatmap\": [{\"colorbar\": {\"outlinewidth\": 0, \"ticks\": \"\"}, \"colorscale\": [[0.0, \"#0d0887\"], [0.1111111111111111, \"#46039f\"], [0.2222222222222222, \"#7201a8\"], [0.3333333333333333, \"#9c179e\"], [0.4444444444444444, \"#bd3786\"], [0.5555555555555556, \"#d8576b\"], [0.6666666666666666, \"#ed7953\"], [0.7777777777777778, \"#fb9f3a\"], [0.8888888888888888, \"#fdca26\"], [1.0, \"#f0f921\"]], \"type\": \"heatmap\"}], \"heatmapgl\": [{\"colorbar\": {\"outlinewidth\": 0, \"ticks\": \"\"}, \"colorscale\": [[0.0, \"#0d0887\"], [0.1111111111111111, \"#46039f\"], [0.2222222222222222, \"#7201a8\"], [0.3333333333333333, \"#9c179e\"], [0.4444444444444444, \"#bd3786\"], [0.5555555555555556, \"#d8576b\"], [0.6666666666666666, \"#ed7953\"], [0.7777777777777778, \"#fb9f3a\"], [0.8888888888888888, \"#fdca26\"], [1.0, \"#f0f921\"]], \"type\": \"heatmapgl\"}], \"histogram\": [{\"marker\": {\"colorbar\": {\"outlinewidth\": 0, \"ticks\": \"\"}}, \"type\": \"histogram\"}], \"histogram2d\": [{\"colorbar\": {\"outlinewidth\": 0, \"ticks\": \"\"}, \"colorscale\": [[0.0, \"#0d0887\"], [0.1111111111111111, \"#46039f\"], [0.2222222222222222, \"#7201a8\"], [0.3333333333333333, \"#9c179e\"], [0.4444444444444444, \"#bd3786\"], [0.5555555555555556, \"#d8576b\"], [0.6666666666666666, \"#ed7953\"], [0.7777777777777778, \"#fb9f3a\"], [0.8888888888888888, \"#fdca26\"], [1.0, \"#f0f921\"]], \"type\": \"histogram2d\"}], \"histogram2dcontour\": [{\"colorbar\": {\"outlinewidth\": 0, \"ticks\": \"\"}, \"colorscale\": [[0.0, \"#0d0887\"], [0.1111111111111111, \"#46039f\"], [0.2222222222222222, \"#7201a8\"], [0.3333333333333333, \"#9c179e\"], [0.4444444444444444, \"#bd3786\"], [0.5555555555555556, \"#d8576b\"], [0.6666666666666666, \"#ed7953\"], [0.7777777777777778, \"#fb9f3a\"], [0.8888888888888888, \"#fdca26\"], [1.0, \"#f0f921\"]], \"type\": \"histogram2dcontour\"}], \"mesh3d\": [{\"colorbar\": {\"outlinewidth\": 0, \"ticks\": \"\"}, \"type\": \"mesh3d\"}], \"parcoords\": [{\"line\": {\"colorbar\": {\"outlinewidth\": 0, \"ticks\": \"\"}}, \"type\": \"parcoords\"}], \"pie\": [{\"automargin\": true, \"type\": \"pie\"}], \"scatter\": [{\"marker\": {\"colorbar\": {\"outlinewidth\": 0, \"ticks\": \"\"}}, \"type\": \"scatter\"}], \"scatter3d\": [{\"line\": {\"colorbar\": {\"outlinewidth\": 0, \"ticks\": \"\"}}, \"marker\": {\"colorbar\": {\"outlinewidth\": 0, \"ticks\": \"\"}}, \"type\": \"scatter3d\"}], \"scattercarpet\": [{\"marker\": {\"colorbar\": {\"outlinewidth\": 0, \"ticks\": \"\"}}, \"type\": \"scattercarpet\"}], \"scattergeo\": [{\"marker\": {\"colorbar\": {\"outlinewidth\": 0, \"ticks\": \"\"}}, \"type\": \"scattergeo\"}], \"scattergl\": [{\"marker\": {\"colorbar\": {\"outlinewidth\": 0, \"ticks\": \"\"}}, \"type\": \"scattergl\"}], \"scattermapbox\": [{\"marker\": {\"colorbar\": {\"outlinewidth\": 0, \"ticks\": \"\"}}, \"type\": \"scattermapbox\"}], \"scatterpolar\": [{\"marker\": {\"colorbar\": {\"outlinewidth\": 0, \"ticks\": \"\"}}, \"type\": \"scatterpolar\"}], \"scatterpolargl\": [{\"marker\": {\"colorbar\": {\"outlinewidth\": 0, \"ticks\": \"\"}}, \"type\": \"scatterpolargl\"}], \"scatterternary\": [{\"marker\": {\"colorbar\": {\"outlinewidth\": 0, \"ticks\": \"\"}}, \"type\": \"scatterternary\"}], \"surface\": [{\"colorbar\": {\"outlinewidth\": 0, \"ticks\": \"\"}, \"colorscale\": [[0.0, \"#0d0887\"], [0.1111111111111111, \"#46039f\"], [0.2222222222222222, \"#7201a8\"], [0.3333333333333333, \"#9c179e\"], [0.4444444444444444, \"#bd3786\"], [0.5555555555555556, \"#d8576b\"], [0.6666666666666666, \"#ed7953\"], [0.7777777777777778, \"#fb9f3a\"], [0.8888888888888888, \"#fdca26\"], [1.0, \"#f0f921\"]], \"type\": \"surface\"}], \"table\": [{\"cells\": {\"fill\": {\"color\": \"#EBF0F8\"}, \"line\": {\"color\": \"white\"}}, \"header\": {\"fill\": {\"color\": \"#C8D4E3\"}, \"line\": {\"color\": \"white\"}}, \"type\": \"table\"}]}, \"layout\": {\"annotationdefaults\": {\"arrowcolor\": \"#2a3f5f\", \"arrowhead\": 0, \"arrowwidth\": 1}, \"coloraxis\": {\"colorbar\": {\"outlinewidth\": 0, \"ticks\": \"\"}}, \"colorscale\": {\"diverging\": [[0, \"#8e0152\"], [0.1, \"#c51b7d\"], [0.2, \"#de77ae\"], [0.3, \"#f1b6da\"], [0.4, \"#fde0ef\"], [0.5, \"#f7f7f7\"], [0.6, \"#e6f5d0\"], [0.7, \"#b8e186\"], [0.8, \"#7fbc41\"], [0.9, \"#4d9221\"], [1, \"#276419\"]], \"sequential\": [[0.0, \"#0d0887\"], [0.1111111111111111, \"#46039f\"], [0.2222222222222222, \"#7201a8\"], [0.3333333333333333, \"#9c179e\"], [0.4444444444444444, \"#bd3786\"], [0.5555555555555556, \"#d8576b\"], [0.6666666666666666, \"#ed7953\"], [0.7777777777777778, \"#fb9f3a\"], [0.8888888888888888, \"#fdca26\"], [1.0, \"#f0f921\"]], \"sequentialminus\": [[0.0, \"#0d0887\"], [0.1111111111111111, \"#46039f\"], [0.2222222222222222, \"#7201a8\"], [0.3333333333333333, \"#9c179e\"], [0.4444444444444444, \"#bd3786\"], [0.5555555555555556, \"#d8576b\"], [0.6666666666666666, \"#ed7953\"], [0.7777777777777778, \"#fb9f3a\"], [0.8888888888888888, \"#fdca26\"], [1.0, \"#f0f921\"]]}, \"colorway\": [\"#636efa\", \"#EF553B\", \"#00cc96\", \"#ab63fa\", \"#FFA15A\", \"#19d3f3\", \"#FF6692\", \"#B6E880\", \"#FF97FF\", \"#FECB52\"], \"font\": {\"color\": \"#2a3f5f\"}, \"geo\": {\"bgcolor\": \"white\", \"lakecolor\": \"white\", \"landcolor\": \"#E5ECF6\", \"showlakes\": true, \"showland\": true, \"subunitcolor\": \"white\"}, \"hoverlabel\": {\"align\": \"left\"}, \"hovermode\": \"closest\", \"mapbox\": {\"style\": \"light\"}, \"paper_bgcolor\": \"white\", \"plot_bgcolor\": \"#E5ECF6\", \"polar\": {\"angularaxis\": {\"gridcolor\": \"white\", \"linecolor\": \"white\", \"ticks\": \"\"}, \"bgcolor\": \"#E5ECF6\", \"radialaxis\": {\"gridcolor\": \"white\", \"linecolor\": \"white\", \"ticks\": \"\"}}, \"scene\": {\"xaxis\": {\"backgroundcolor\": \"#E5ECF6\", \"gridcolor\": \"white\", \"gridwidth\": 2, \"linecolor\": \"white\", \"showbackground\": true, \"ticks\": \"\", \"zerolinecolor\": \"white\"}, \"yaxis\": {\"backgroundcolor\": \"#E5ECF6\", \"gridcolor\": \"white\", \"gridwidth\": 2, \"linecolor\": \"white\", \"showbackground\": true, \"ticks\": \"\", \"zerolinecolor\": \"white\"}, \"zaxis\": {\"backgroundcolor\": \"#E5ECF6\", \"gridcolor\": \"white\", \"gridwidth\": 2, \"linecolor\": \"white\", \"showbackground\": true, \"ticks\": \"\", \"zerolinecolor\": \"white\"}}, \"shapedefaults\": {\"line\": {\"color\": \"#2a3f5f\"}}, \"ternary\": {\"aaxis\": {\"gridcolor\": \"white\", \"linecolor\": \"white\", \"ticks\": \"\"}, \"baxis\": {\"gridcolor\": \"white\", \"linecolor\": \"white\", \"ticks\": \"\"}, \"bgcolor\": \"#E5ECF6\", \"caxis\": {\"gridcolor\": \"white\", \"linecolor\": \"white\", \"ticks\": \"\"}}, \"title\": {\"x\": 0.05}, \"xaxis\": {\"automargin\": true, \"gridcolor\": \"white\", \"linecolor\": \"white\", \"ticks\": \"\", \"title\": {\"standoff\": 15}, \"zerolinecolor\": \"white\", \"zerolinewidth\": 2}, \"yaxis\": {\"automargin\": true, \"gridcolor\": \"white\", \"linecolor\": \"white\", \"ticks\": \"\", \"title\": {\"standoff\": 15}, \"zerolinecolor\": \"white\", \"zerolinewidth\": 2}}}, \"title\": {\"text\": \"Bus\"}, \"xaxis\": {\"anchor\": \"y\", \"domain\": [0.0, 1.0], \"title\": {\"text\": \"Word\"}}, \"yaxis\": {\"anchor\": \"x\", \"domain\": [0.0, 1.0], \"title\": {\"text\": \"Frequency\"}}},\n",
              "                        {\"responsive\": true}\n",
              "                    ).then(function(){\n",
              "                            \n",
              "var gd = document.getElementById('eba331cf-4165-460d-8e43-92349efd7ae2');\n",
              "var x = new MutationObserver(function (mutations, observer) {{\n",
              "        var display = window.getComputedStyle(gd).display;\n",
              "        if (!display || display === 'none') {{\n",
              "            console.log([gd, 'removed!']);\n",
              "            Plotly.purge(gd);\n",
              "            observer.disconnect();\n",
              "        }}\n",
              "}});\n",
              "\n",
              "// Listen for the removal of the full notebook cells\n",
              "var notebookContainer = gd.closest('#notebook-container');\n",
              "if (notebookContainer) {{\n",
              "    x.observe(notebookContainer, {childList: true});\n",
              "}}\n",
              "\n",
              "// Listen for the clearing of the current output cell\n",
              "var outputEl = gd.closest('.output');\n",
              "if (outputEl) {{\n",
              "    x.observe(outputEl, {childList: true});\n",
              "}}\n",
              "\n",
              "                        })\n",
              "                };\n",
              "                });\n",
              "            </script>\n",
              "        </div>"
            ]
          },
          "metadata": {
            "tags": []
          }
        },
        {
          "output_type": "display_data",
          "data": {
            "application/vnd.plotly.v1+json": {
              "config": {
                "plotlyServerURL": "https://plot.ly"
              },
              "data": [
                {
                  "alignmentgroup": "True",
                  "hovertemplate": "Sentiment=Positive<br>Word=%{x}<br>Frequency=%{y}<extra></extra>",
                  "legendgroup": "Positive",
                  "marker": {
                    "color": "#636efa"
                  },
                  "name": "Positive",
                  "offsetgroup": "Positive",
                  "orientation": "v",
                  "showlegend": true,
                  "textposition": "auto",
                  "type": "bar",
                  "x": [
                    "guide",
                    "air",
                    "best",
                    "new",
                    "major",
                    "well",
                    "good",
                    "recommend",
                    "friendly",
                    "great",
                    "special",
                    "time",
                    "compassion",
                    "service",
                    "excellent"
                  ],
                  "xaxis": "x",
                  "y": [
                    3,
                    3,
                    2,
                    2,
                    1,
                    1,
                    1,
                    1,
                    1,
                    1,
                    1,
                    1,
                    1,
                    1,
                    1
                  ],
                  "yaxis": "y"
                },
                {
                  "alignmentgroup": "True",
                  "hovertemplate": "Sentiment=Negative<br>Word=%{x}<br>Frequency=%{y}<extra></extra>",
                  "legendgroup": "Negative",
                  "marker": {
                    "color": "#EF553B"
                  },
                  "name": "Negative",
                  "offsetgroup": "Negative",
                  "orientation": "v",
                  "showlegend": true,
                  "textposition": "auto",
                  "type": "bar",
                  "x": [
                    "spoiled"
                  ],
                  "xaxis": "x",
                  "y": [
                    1
                  ],
                  "yaxis": "y"
                }
              ],
              "layout": {
                "barmode": "relative",
                "legend": {
                  "title": {
                    "text": "Sentiment"
                  },
                  "tracegroupgap": 0
                },
                "margin": {
                  "t": 60
                },
                "template": {
                  "data": {
                    "bar": [
                      {
                        "error_x": {
                          "color": "#2a3f5f"
                        },
                        "error_y": {
                          "color": "#2a3f5f"
                        },
                        "marker": {
                          "line": {
                            "color": "#E5ECF6",
                            "width": 0.5
                          }
                        },
                        "type": "bar"
                      }
                    ],
                    "barpolar": [
                      {
                        "marker": {
                          "line": {
                            "color": "#E5ECF6",
                            "width": 0.5
                          }
                        },
                        "type": "barpolar"
                      }
                    ],
                    "carpet": [
                      {
                        "aaxis": {
                          "endlinecolor": "#2a3f5f",
                          "gridcolor": "white",
                          "linecolor": "white",
                          "minorgridcolor": "white",
                          "startlinecolor": "#2a3f5f"
                        },
                        "baxis": {
                          "endlinecolor": "#2a3f5f",
                          "gridcolor": "white",
                          "linecolor": "white",
                          "minorgridcolor": "white",
                          "startlinecolor": "#2a3f5f"
                        },
                        "type": "carpet"
                      }
                    ],
                    "choropleth": [
                      {
                        "colorbar": {
                          "outlinewidth": 0,
                          "ticks": ""
                        },
                        "type": "choropleth"
                      }
                    ],
                    "contour": [
                      {
                        "colorbar": {
                          "outlinewidth": 0,
                          "ticks": ""
                        },
                        "colorscale": [
                          [
                            0,
                            "#0d0887"
                          ],
                          [
                            0.1111111111111111,
                            "#46039f"
                          ],
                          [
                            0.2222222222222222,
                            "#7201a8"
                          ],
                          [
                            0.3333333333333333,
                            "#9c179e"
                          ],
                          [
                            0.4444444444444444,
                            "#bd3786"
                          ],
                          [
                            0.5555555555555556,
                            "#d8576b"
                          ],
                          [
                            0.6666666666666666,
                            "#ed7953"
                          ],
                          [
                            0.7777777777777778,
                            "#fb9f3a"
                          ],
                          [
                            0.8888888888888888,
                            "#fdca26"
                          ],
                          [
                            1,
                            "#f0f921"
                          ]
                        ],
                        "type": "contour"
                      }
                    ],
                    "contourcarpet": [
                      {
                        "colorbar": {
                          "outlinewidth": 0,
                          "ticks": ""
                        },
                        "type": "contourcarpet"
                      }
                    ],
                    "heatmap": [
                      {
                        "colorbar": {
                          "outlinewidth": 0,
                          "ticks": ""
                        },
                        "colorscale": [
                          [
                            0,
                            "#0d0887"
                          ],
                          [
                            0.1111111111111111,
                            "#46039f"
                          ],
                          [
                            0.2222222222222222,
                            "#7201a8"
                          ],
                          [
                            0.3333333333333333,
                            "#9c179e"
                          ],
                          [
                            0.4444444444444444,
                            "#bd3786"
                          ],
                          [
                            0.5555555555555556,
                            "#d8576b"
                          ],
                          [
                            0.6666666666666666,
                            "#ed7953"
                          ],
                          [
                            0.7777777777777778,
                            "#fb9f3a"
                          ],
                          [
                            0.8888888888888888,
                            "#fdca26"
                          ],
                          [
                            1,
                            "#f0f921"
                          ]
                        ],
                        "type": "heatmap"
                      }
                    ],
                    "heatmapgl": [
                      {
                        "colorbar": {
                          "outlinewidth": 0,
                          "ticks": ""
                        },
                        "colorscale": [
                          [
                            0,
                            "#0d0887"
                          ],
                          [
                            0.1111111111111111,
                            "#46039f"
                          ],
                          [
                            0.2222222222222222,
                            "#7201a8"
                          ],
                          [
                            0.3333333333333333,
                            "#9c179e"
                          ],
                          [
                            0.4444444444444444,
                            "#bd3786"
                          ],
                          [
                            0.5555555555555556,
                            "#d8576b"
                          ],
                          [
                            0.6666666666666666,
                            "#ed7953"
                          ],
                          [
                            0.7777777777777778,
                            "#fb9f3a"
                          ],
                          [
                            0.8888888888888888,
                            "#fdca26"
                          ],
                          [
                            1,
                            "#f0f921"
                          ]
                        ],
                        "type": "heatmapgl"
                      }
                    ],
                    "histogram": [
                      {
                        "marker": {
                          "colorbar": {
                            "outlinewidth": 0,
                            "ticks": ""
                          }
                        },
                        "type": "histogram"
                      }
                    ],
                    "histogram2d": [
                      {
                        "colorbar": {
                          "outlinewidth": 0,
                          "ticks": ""
                        },
                        "colorscale": [
                          [
                            0,
                            "#0d0887"
                          ],
                          [
                            0.1111111111111111,
                            "#46039f"
                          ],
                          [
                            0.2222222222222222,
                            "#7201a8"
                          ],
                          [
                            0.3333333333333333,
                            "#9c179e"
                          ],
                          [
                            0.4444444444444444,
                            "#bd3786"
                          ],
                          [
                            0.5555555555555556,
                            "#d8576b"
                          ],
                          [
                            0.6666666666666666,
                            "#ed7953"
                          ],
                          [
                            0.7777777777777778,
                            "#fb9f3a"
                          ],
                          [
                            0.8888888888888888,
                            "#fdca26"
                          ],
                          [
                            1,
                            "#f0f921"
                          ]
                        ],
                        "type": "histogram2d"
                      }
                    ],
                    "histogram2dcontour": [
                      {
                        "colorbar": {
                          "outlinewidth": 0,
                          "ticks": ""
                        },
                        "colorscale": [
                          [
                            0,
                            "#0d0887"
                          ],
                          [
                            0.1111111111111111,
                            "#46039f"
                          ],
                          [
                            0.2222222222222222,
                            "#7201a8"
                          ],
                          [
                            0.3333333333333333,
                            "#9c179e"
                          ],
                          [
                            0.4444444444444444,
                            "#bd3786"
                          ],
                          [
                            0.5555555555555556,
                            "#d8576b"
                          ],
                          [
                            0.6666666666666666,
                            "#ed7953"
                          ],
                          [
                            0.7777777777777778,
                            "#fb9f3a"
                          ],
                          [
                            0.8888888888888888,
                            "#fdca26"
                          ],
                          [
                            1,
                            "#f0f921"
                          ]
                        ],
                        "type": "histogram2dcontour"
                      }
                    ],
                    "mesh3d": [
                      {
                        "colorbar": {
                          "outlinewidth": 0,
                          "ticks": ""
                        },
                        "type": "mesh3d"
                      }
                    ],
                    "parcoords": [
                      {
                        "line": {
                          "colorbar": {
                            "outlinewidth": 0,
                            "ticks": ""
                          }
                        },
                        "type": "parcoords"
                      }
                    ],
                    "pie": [
                      {
                        "automargin": true,
                        "type": "pie"
                      }
                    ],
                    "scatter": [
                      {
                        "marker": {
                          "colorbar": {
                            "outlinewidth": 0,
                            "ticks": ""
                          }
                        },
                        "type": "scatter"
                      }
                    ],
                    "scatter3d": [
                      {
                        "line": {
                          "colorbar": {
                            "outlinewidth": 0,
                            "ticks": ""
                          }
                        },
                        "marker": {
                          "colorbar": {
                            "outlinewidth": 0,
                            "ticks": ""
                          }
                        },
                        "type": "scatter3d"
                      }
                    ],
                    "scattercarpet": [
                      {
                        "marker": {
                          "colorbar": {
                            "outlinewidth": 0,
                            "ticks": ""
                          }
                        },
                        "type": "scattercarpet"
                      }
                    ],
                    "scattergeo": [
                      {
                        "marker": {
                          "colorbar": {
                            "outlinewidth": 0,
                            "ticks": ""
                          }
                        },
                        "type": "scattergeo"
                      }
                    ],
                    "scattergl": [
                      {
                        "marker": {
                          "colorbar": {
                            "outlinewidth": 0,
                            "ticks": ""
                          }
                        },
                        "type": "scattergl"
                      }
                    ],
                    "scattermapbox": [
                      {
                        "marker": {
                          "colorbar": {
                            "outlinewidth": 0,
                            "ticks": ""
                          }
                        },
                        "type": "scattermapbox"
                      }
                    ],
                    "scatterpolar": [
                      {
                        "marker": {
                          "colorbar": {
                            "outlinewidth": 0,
                            "ticks": ""
                          }
                        },
                        "type": "scatterpolar"
                      }
                    ],
                    "scatterpolargl": [
                      {
                        "marker": {
                          "colorbar": {
                            "outlinewidth": 0,
                            "ticks": ""
                          }
                        },
                        "type": "scatterpolargl"
                      }
                    ],
                    "scatterternary": [
                      {
                        "marker": {
                          "colorbar": {
                            "outlinewidth": 0,
                            "ticks": ""
                          }
                        },
                        "type": "scatterternary"
                      }
                    ],
                    "surface": [
                      {
                        "colorbar": {
                          "outlinewidth": 0,
                          "ticks": ""
                        },
                        "colorscale": [
                          [
                            0,
                            "#0d0887"
                          ],
                          [
                            0.1111111111111111,
                            "#46039f"
                          ],
                          [
                            0.2222222222222222,
                            "#7201a8"
                          ],
                          [
                            0.3333333333333333,
                            "#9c179e"
                          ],
                          [
                            0.4444444444444444,
                            "#bd3786"
                          ],
                          [
                            0.5555555555555556,
                            "#d8576b"
                          ],
                          [
                            0.6666666666666666,
                            "#ed7953"
                          ],
                          [
                            0.7777777777777778,
                            "#fb9f3a"
                          ],
                          [
                            0.8888888888888888,
                            "#fdca26"
                          ],
                          [
                            1,
                            "#f0f921"
                          ]
                        ],
                        "type": "surface"
                      }
                    ],
                    "table": [
                      {
                        "cells": {
                          "fill": {
                            "color": "#EBF0F8"
                          },
                          "line": {
                            "color": "white"
                          }
                        },
                        "header": {
                          "fill": {
                            "color": "#C8D4E3"
                          },
                          "line": {
                            "color": "white"
                          }
                        },
                        "type": "table"
                      }
                    ]
                  },
                  "layout": {
                    "annotationdefaults": {
                      "arrowcolor": "#2a3f5f",
                      "arrowhead": 0,
                      "arrowwidth": 1
                    },
                    "coloraxis": {
                      "colorbar": {
                        "outlinewidth": 0,
                        "ticks": ""
                      }
                    },
                    "colorscale": {
                      "diverging": [
                        [
                          0,
                          "#8e0152"
                        ],
                        [
                          0.1,
                          "#c51b7d"
                        ],
                        [
                          0.2,
                          "#de77ae"
                        ],
                        [
                          0.3,
                          "#f1b6da"
                        ],
                        [
                          0.4,
                          "#fde0ef"
                        ],
                        [
                          0.5,
                          "#f7f7f7"
                        ],
                        [
                          0.6,
                          "#e6f5d0"
                        ],
                        [
                          0.7,
                          "#b8e186"
                        ],
                        [
                          0.8,
                          "#7fbc41"
                        ],
                        [
                          0.9,
                          "#4d9221"
                        ],
                        [
                          1,
                          "#276419"
                        ]
                      ],
                      "sequential": [
                        [
                          0,
                          "#0d0887"
                        ],
                        [
                          0.1111111111111111,
                          "#46039f"
                        ],
                        [
                          0.2222222222222222,
                          "#7201a8"
                        ],
                        [
                          0.3333333333333333,
                          "#9c179e"
                        ],
                        [
                          0.4444444444444444,
                          "#bd3786"
                        ],
                        [
                          0.5555555555555556,
                          "#d8576b"
                        ],
                        [
                          0.6666666666666666,
                          "#ed7953"
                        ],
                        [
                          0.7777777777777778,
                          "#fb9f3a"
                        ],
                        [
                          0.8888888888888888,
                          "#fdca26"
                        ],
                        [
                          1,
                          "#f0f921"
                        ]
                      ],
                      "sequentialminus": [
                        [
                          0,
                          "#0d0887"
                        ],
                        [
                          0.1111111111111111,
                          "#46039f"
                        ],
                        [
                          0.2222222222222222,
                          "#7201a8"
                        ],
                        [
                          0.3333333333333333,
                          "#9c179e"
                        ],
                        [
                          0.4444444444444444,
                          "#bd3786"
                        ],
                        [
                          0.5555555555555556,
                          "#d8576b"
                        ],
                        [
                          0.6666666666666666,
                          "#ed7953"
                        ],
                        [
                          0.7777777777777778,
                          "#fb9f3a"
                        ],
                        [
                          0.8888888888888888,
                          "#fdca26"
                        ],
                        [
                          1,
                          "#f0f921"
                        ]
                      ]
                    },
                    "colorway": [
                      "#636efa",
                      "#EF553B",
                      "#00cc96",
                      "#ab63fa",
                      "#FFA15A",
                      "#19d3f3",
                      "#FF6692",
                      "#B6E880",
                      "#FF97FF",
                      "#FECB52"
                    ],
                    "font": {
                      "color": "#2a3f5f"
                    },
                    "geo": {
                      "bgcolor": "white",
                      "lakecolor": "white",
                      "landcolor": "#E5ECF6",
                      "showlakes": true,
                      "showland": true,
                      "subunitcolor": "white"
                    },
                    "hoverlabel": {
                      "align": "left"
                    },
                    "hovermode": "closest",
                    "mapbox": {
                      "style": "light"
                    },
                    "paper_bgcolor": "white",
                    "plot_bgcolor": "#E5ECF6",
                    "polar": {
                      "angularaxis": {
                        "gridcolor": "white",
                        "linecolor": "white",
                        "ticks": ""
                      },
                      "bgcolor": "#E5ECF6",
                      "radialaxis": {
                        "gridcolor": "white",
                        "linecolor": "white",
                        "ticks": ""
                      }
                    },
                    "scene": {
                      "xaxis": {
                        "backgroundcolor": "#E5ECF6",
                        "gridcolor": "white",
                        "gridwidth": 2,
                        "linecolor": "white",
                        "showbackground": true,
                        "ticks": "",
                        "zerolinecolor": "white"
                      },
                      "yaxis": {
                        "backgroundcolor": "#E5ECF6",
                        "gridcolor": "white",
                        "gridwidth": 2,
                        "linecolor": "white",
                        "showbackground": true,
                        "ticks": "",
                        "zerolinecolor": "white"
                      },
                      "zaxis": {
                        "backgroundcolor": "#E5ECF6",
                        "gridcolor": "white",
                        "gridwidth": 2,
                        "linecolor": "white",
                        "showbackground": true,
                        "ticks": "",
                        "zerolinecolor": "white"
                      }
                    },
                    "shapedefaults": {
                      "line": {
                        "color": "#2a3f5f"
                      }
                    },
                    "ternary": {
                      "aaxis": {
                        "gridcolor": "white",
                        "linecolor": "white",
                        "ticks": ""
                      },
                      "baxis": {
                        "gridcolor": "white",
                        "linecolor": "white",
                        "ticks": ""
                      },
                      "bgcolor": "#E5ECF6",
                      "caxis": {
                        "gridcolor": "white",
                        "linecolor": "white",
                        "ticks": ""
                      }
                    },
                    "title": {
                      "x": 0.05
                    },
                    "xaxis": {
                      "automargin": true,
                      "gridcolor": "white",
                      "linecolor": "white",
                      "ticks": "",
                      "title": {
                        "standoff": 15
                      },
                      "zerolinecolor": "white",
                      "zerolinewidth": 2
                    },
                    "yaxis": {
                      "automargin": true,
                      "gridcolor": "white",
                      "linecolor": "white",
                      "ticks": "",
                      "title": {
                        "standoff": 15
                      },
                      "zerolinecolor": "white",
                      "zerolinewidth": 2
                    }
                  }
                },
                "title": {
                  "text": "Airline"
                },
                "xaxis": {
                  "anchor": "y",
                  "domain": [
                    0,
                    1
                  ],
                  "title": {
                    "text": "Word"
                  }
                },
                "yaxis": {
                  "anchor": "x",
                  "domain": [
                    0,
                    1
                  ],
                  "title": {
                    "text": "Frequency"
                  }
                }
              }
            },
            "text/html": [
              "<div>\n",
              "        \n",
              "        \n",
              "            <div id=\"e8268500-e7c6-4cfe-9faf-059db9a876f3\" class=\"plotly-graph-div\" style=\"height:525px; width:100%;\"></div>\n",
              "            <script type=\"text/javascript\">\n",
              "                require([\"plotly\"], function(Plotly) {\n",
              "                    window.PLOTLYENV=window.PLOTLYENV || {};\n",
              "                    \n",
              "                if (document.getElementById(\"e8268500-e7c6-4cfe-9faf-059db9a876f3\")) {\n",
              "                    Plotly.newPlot(\n",
              "                        'e8268500-e7c6-4cfe-9faf-059db9a876f3',\n",
              "                        [{\"alignmentgroup\": \"True\", \"hovertemplate\": \"Sentiment=Positive<br>Word=%{x}<br>Frequency=%{y}<extra></extra>\", \"legendgroup\": \"Positive\", \"marker\": {\"color\": \"#636efa\"}, \"name\": \"Positive\", \"offsetgroup\": \"Positive\", \"orientation\": \"v\", \"showlegend\": true, \"textposition\": \"auto\", \"type\": \"bar\", \"x\": [\"guide\", \"air\", \"best\", \"new\", \"major\", \"well\", \"good\", \"recommend\", \"friendly\", \"great\", \"special\", \"time\", \"compassion\", \"service\", \"excellent\"], \"xaxis\": \"x\", \"y\": [3, 3, 2, 2, 1, 1, 1, 1, 1, 1, 1, 1, 1, 1, 1], \"yaxis\": \"y\"}, {\"alignmentgroup\": \"True\", \"hovertemplate\": \"Sentiment=Negative<br>Word=%{x}<br>Frequency=%{y}<extra></extra>\", \"legendgroup\": \"Negative\", \"marker\": {\"color\": \"#EF553B\"}, \"name\": \"Negative\", \"offsetgroup\": \"Negative\", \"orientation\": \"v\", \"showlegend\": true, \"textposition\": \"auto\", \"type\": \"bar\", \"x\": [\"spoiled\"], \"xaxis\": \"x\", \"y\": [1], \"yaxis\": \"y\"}],\n",
              "                        {\"barmode\": \"relative\", \"legend\": {\"title\": {\"text\": \"Sentiment\"}, \"tracegroupgap\": 0}, \"margin\": {\"t\": 60}, \"template\": {\"data\": {\"bar\": [{\"error_x\": {\"color\": \"#2a3f5f\"}, \"error_y\": {\"color\": \"#2a3f5f\"}, \"marker\": {\"line\": {\"color\": \"#E5ECF6\", \"width\": 0.5}}, \"type\": \"bar\"}], \"barpolar\": [{\"marker\": {\"line\": {\"color\": \"#E5ECF6\", \"width\": 0.5}}, \"type\": \"barpolar\"}], \"carpet\": [{\"aaxis\": {\"endlinecolor\": \"#2a3f5f\", \"gridcolor\": \"white\", \"linecolor\": \"white\", \"minorgridcolor\": \"white\", \"startlinecolor\": \"#2a3f5f\"}, \"baxis\": {\"endlinecolor\": \"#2a3f5f\", \"gridcolor\": \"white\", \"linecolor\": \"white\", \"minorgridcolor\": \"white\", \"startlinecolor\": \"#2a3f5f\"}, \"type\": \"carpet\"}], \"choropleth\": [{\"colorbar\": {\"outlinewidth\": 0, \"ticks\": \"\"}, \"type\": \"choropleth\"}], \"contour\": [{\"colorbar\": {\"outlinewidth\": 0, \"ticks\": \"\"}, \"colorscale\": [[0.0, \"#0d0887\"], [0.1111111111111111, \"#46039f\"], [0.2222222222222222, \"#7201a8\"], [0.3333333333333333, \"#9c179e\"], [0.4444444444444444, \"#bd3786\"], [0.5555555555555556, \"#d8576b\"], [0.6666666666666666, \"#ed7953\"], [0.7777777777777778, \"#fb9f3a\"], [0.8888888888888888, \"#fdca26\"], [1.0, \"#f0f921\"]], \"type\": \"contour\"}], \"contourcarpet\": [{\"colorbar\": {\"outlinewidth\": 0, \"ticks\": \"\"}, \"type\": \"contourcarpet\"}], \"heatmap\": [{\"colorbar\": {\"outlinewidth\": 0, \"ticks\": \"\"}, \"colorscale\": [[0.0, \"#0d0887\"], [0.1111111111111111, \"#46039f\"], [0.2222222222222222, \"#7201a8\"], [0.3333333333333333, \"#9c179e\"], [0.4444444444444444, \"#bd3786\"], [0.5555555555555556, \"#d8576b\"], [0.6666666666666666, \"#ed7953\"], [0.7777777777777778, \"#fb9f3a\"], [0.8888888888888888, \"#fdca26\"], [1.0, \"#f0f921\"]], \"type\": \"heatmap\"}], \"heatmapgl\": [{\"colorbar\": {\"outlinewidth\": 0, \"ticks\": \"\"}, \"colorscale\": [[0.0, \"#0d0887\"], [0.1111111111111111, \"#46039f\"], [0.2222222222222222, \"#7201a8\"], [0.3333333333333333, \"#9c179e\"], [0.4444444444444444, \"#bd3786\"], [0.5555555555555556, \"#d8576b\"], [0.6666666666666666, \"#ed7953\"], [0.7777777777777778, \"#fb9f3a\"], [0.8888888888888888, \"#fdca26\"], [1.0, \"#f0f921\"]], \"type\": \"heatmapgl\"}], \"histogram\": [{\"marker\": {\"colorbar\": {\"outlinewidth\": 0, \"ticks\": \"\"}}, \"type\": \"histogram\"}], \"histogram2d\": [{\"colorbar\": {\"outlinewidth\": 0, \"ticks\": \"\"}, \"colorscale\": [[0.0, \"#0d0887\"], [0.1111111111111111, \"#46039f\"], [0.2222222222222222, \"#7201a8\"], [0.3333333333333333, \"#9c179e\"], [0.4444444444444444, \"#bd3786\"], [0.5555555555555556, \"#d8576b\"], [0.6666666666666666, \"#ed7953\"], [0.7777777777777778, \"#fb9f3a\"], [0.8888888888888888, \"#fdca26\"], [1.0, \"#f0f921\"]], \"type\": \"histogram2d\"}], \"histogram2dcontour\": [{\"colorbar\": {\"outlinewidth\": 0, \"ticks\": \"\"}, \"colorscale\": [[0.0, \"#0d0887\"], [0.1111111111111111, \"#46039f\"], [0.2222222222222222, \"#7201a8\"], [0.3333333333333333, \"#9c179e\"], [0.4444444444444444, \"#bd3786\"], [0.5555555555555556, \"#d8576b\"], [0.6666666666666666, \"#ed7953\"], [0.7777777777777778, \"#fb9f3a\"], [0.8888888888888888, \"#fdca26\"], [1.0, \"#f0f921\"]], \"type\": \"histogram2dcontour\"}], \"mesh3d\": [{\"colorbar\": {\"outlinewidth\": 0, \"ticks\": \"\"}, \"type\": \"mesh3d\"}], \"parcoords\": [{\"line\": {\"colorbar\": {\"outlinewidth\": 0, \"ticks\": \"\"}}, \"type\": \"parcoords\"}], \"pie\": [{\"automargin\": true, \"type\": \"pie\"}], \"scatter\": [{\"marker\": {\"colorbar\": {\"outlinewidth\": 0, \"ticks\": \"\"}}, \"type\": \"scatter\"}], \"scatter3d\": [{\"line\": {\"colorbar\": {\"outlinewidth\": 0, \"ticks\": \"\"}}, \"marker\": {\"colorbar\": {\"outlinewidth\": 0, \"ticks\": \"\"}}, \"type\": \"scatter3d\"}], \"scattercarpet\": [{\"marker\": {\"colorbar\": {\"outlinewidth\": 0, \"ticks\": \"\"}}, \"type\": \"scattercarpet\"}], \"scattergeo\": [{\"marker\": {\"colorbar\": {\"outlinewidth\": 0, \"ticks\": \"\"}}, \"type\": \"scattergeo\"}], \"scattergl\": [{\"marker\": {\"colorbar\": {\"outlinewidth\": 0, \"ticks\": \"\"}}, \"type\": \"scattergl\"}], \"scattermapbox\": [{\"marker\": {\"colorbar\": {\"outlinewidth\": 0, \"ticks\": \"\"}}, \"type\": \"scattermapbox\"}], \"scatterpolar\": [{\"marker\": {\"colorbar\": {\"outlinewidth\": 0, \"ticks\": \"\"}}, \"type\": \"scatterpolar\"}], \"scatterpolargl\": [{\"marker\": {\"colorbar\": {\"outlinewidth\": 0, \"ticks\": \"\"}}, \"type\": \"scatterpolargl\"}], \"scatterternary\": [{\"marker\": {\"colorbar\": {\"outlinewidth\": 0, \"ticks\": \"\"}}, \"type\": \"scatterternary\"}], \"surface\": [{\"colorbar\": {\"outlinewidth\": 0, \"ticks\": \"\"}, \"colorscale\": [[0.0, \"#0d0887\"], [0.1111111111111111, \"#46039f\"], [0.2222222222222222, \"#7201a8\"], [0.3333333333333333, \"#9c179e\"], [0.4444444444444444, \"#bd3786\"], [0.5555555555555556, \"#d8576b\"], [0.6666666666666666, \"#ed7953\"], [0.7777777777777778, \"#fb9f3a\"], [0.8888888888888888, \"#fdca26\"], [1.0, \"#f0f921\"]], \"type\": \"surface\"}], \"table\": [{\"cells\": {\"fill\": {\"color\": \"#EBF0F8\"}, \"line\": {\"color\": \"white\"}}, \"header\": {\"fill\": {\"color\": \"#C8D4E3\"}, \"line\": {\"color\": \"white\"}}, \"type\": \"table\"}]}, \"layout\": {\"annotationdefaults\": {\"arrowcolor\": \"#2a3f5f\", \"arrowhead\": 0, \"arrowwidth\": 1}, \"coloraxis\": {\"colorbar\": {\"outlinewidth\": 0, \"ticks\": \"\"}}, \"colorscale\": {\"diverging\": [[0, \"#8e0152\"], [0.1, \"#c51b7d\"], [0.2, \"#de77ae\"], [0.3, \"#f1b6da\"], [0.4, \"#fde0ef\"], [0.5, \"#f7f7f7\"], [0.6, \"#e6f5d0\"], [0.7, \"#b8e186\"], [0.8, \"#7fbc41\"], [0.9, \"#4d9221\"], [1, \"#276419\"]], \"sequential\": [[0.0, \"#0d0887\"], [0.1111111111111111, \"#46039f\"], [0.2222222222222222, \"#7201a8\"], [0.3333333333333333, \"#9c179e\"], [0.4444444444444444, \"#bd3786\"], [0.5555555555555556, \"#d8576b\"], [0.6666666666666666, \"#ed7953\"], [0.7777777777777778, \"#fb9f3a\"], [0.8888888888888888, \"#fdca26\"], [1.0, \"#f0f921\"]], \"sequentialminus\": [[0.0, \"#0d0887\"], [0.1111111111111111, \"#46039f\"], [0.2222222222222222, \"#7201a8\"], [0.3333333333333333, \"#9c179e\"], [0.4444444444444444, \"#bd3786\"], [0.5555555555555556, \"#d8576b\"], [0.6666666666666666, \"#ed7953\"], [0.7777777777777778, \"#fb9f3a\"], [0.8888888888888888, \"#fdca26\"], [1.0, \"#f0f921\"]]}, \"colorway\": [\"#636efa\", \"#EF553B\", \"#00cc96\", \"#ab63fa\", \"#FFA15A\", \"#19d3f3\", \"#FF6692\", \"#B6E880\", \"#FF97FF\", \"#FECB52\"], \"font\": {\"color\": \"#2a3f5f\"}, \"geo\": {\"bgcolor\": \"white\", \"lakecolor\": \"white\", \"landcolor\": \"#E5ECF6\", \"showlakes\": true, \"showland\": true, \"subunitcolor\": \"white\"}, \"hoverlabel\": {\"align\": \"left\"}, \"hovermode\": \"closest\", \"mapbox\": {\"style\": \"light\"}, \"paper_bgcolor\": \"white\", \"plot_bgcolor\": \"#E5ECF6\", \"polar\": {\"angularaxis\": {\"gridcolor\": \"white\", \"linecolor\": \"white\", \"ticks\": \"\"}, \"bgcolor\": \"#E5ECF6\", \"radialaxis\": {\"gridcolor\": \"white\", \"linecolor\": \"white\", \"ticks\": \"\"}}, \"scene\": {\"xaxis\": {\"backgroundcolor\": \"#E5ECF6\", \"gridcolor\": \"white\", \"gridwidth\": 2, \"linecolor\": \"white\", \"showbackground\": true, \"ticks\": \"\", \"zerolinecolor\": \"white\"}, \"yaxis\": {\"backgroundcolor\": \"#E5ECF6\", \"gridcolor\": \"white\", \"gridwidth\": 2, \"linecolor\": \"white\", \"showbackground\": true, \"ticks\": \"\", \"zerolinecolor\": \"white\"}, \"zaxis\": {\"backgroundcolor\": \"#E5ECF6\", \"gridcolor\": \"white\", \"gridwidth\": 2, \"linecolor\": \"white\", \"showbackground\": true, \"ticks\": \"\", \"zerolinecolor\": \"white\"}}, \"shapedefaults\": {\"line\": {\"color\": \"#2a3f5f\"}}, \"ternary\": {\"aaxis\": {\"gridcolor\": \"white\", \"linecolor\": \"white\", \"ticks\": \"\"}, \"baxis\": {\"gridcolor\": \"white\", \"linecolor\": \"white\", \"ticks\": \"\"}, \"bgcolor\": \"#E5ECF6\", \"caxis\": {\"gridcolor\": \"white\", \"linecolor\": \"white\", \"ticks\": \"\"}}, \"title\": {\"x\": 0.05}, \"xaxis\": {\"automargin\": true, \"gridcolor\": \"white\", \"linecolor\": \"white\", \"ticks\": \"\", \"title\": {\"standoff\": 15}, \"zerolinecolor\": \"white\", \"zerolinewidth\": 2}, \"yaxis\": {\"automargin\": true, \"gridcolor\": \"white\", \"linecolor\": \"white\", \"ticks\": \"\", \"title\": {\"standoff\": 15}, \"zerolinecolor\": \"white\", \"zerolinewidth\": 2}}}, \"title\": {\"text\": \"Airline\"}, \"xaxis\": {\"anchor\": \"y\", \"domain\": [0.0, 1.0], \"title\": {\"text\": \"Word\"}}, \"yaxis\": {\"anchor\": \"x\", \"domain\": [0.0, 1.0], \"title\": {\"text\": \"Frequency\"}}},\n",
              "                        {\"responsive\": true}\n",
              "                    ).then(function(){\n",
              "                            \n",
              "var gd = document.getElementById('e8268500-e7c6-4cfe-9faf-059db9a876f3');\n",
              "var x = new MutationObserver(function (mutations, observer) {{\n",
              "        var display = window.getComputedStyle(gd).display;\n",
              "        if (!display || display === 'none') {{\n",
              "            console.log([gd, 'removed!']);\n",
              "            Plotly.purge(gd);\n",
              "            observer.disconnect();\n",
              "        }}\n",
              "}});\n",
              "\n",
              "// Listen for the removal of the full notebook cells\n",
              "var notebookContainer = gd.closest('#notebook-container');\n",
              "if (notebookContainer) {{\n",
              "    x.observe(notebookContainer, {childList: true});\n",
              "}}\n",
              "\n",
              "// Listen for the clearing of the current output cell\n",
              "var outputEl = gd.closest('.output');\n",
              "if (outputEl) {{\n",
              "    x.observe(outputEl, {childList: true});\n",
              "}}\n",
              "\n",
              "                        })\n",
              "                };\n",
              "                });\n",
              "            </script>\n",
              "        </div>"
            ]
          },
          "metadata": {
            "tags": []
          }
        }
      ]
    },
    {
      "cell_type": "markdown",
      "metadata": {
        "id": "ebfySY3IVgbe",
        "colab_type": "text"
      },
      "source": [
        "# Q9a) Determine the nature of Article (Neg,Pos,Neutral)"
      ]
    },
    {
      "cell_type": "code",
      "metadata": {
        "id": "_9764KxMVgbf",
        "colab_type": "code",
        "colab": {},
        "outputId": "b82d1d5a-6850-435d-cfe5-91d557be5289"
      },
      "source": [
        "percent_of_pos = {}\n",
        "for transport in pos_neg_words.keys():\n",
        "    count = pos_neg_words[transport].groupby(\"Sentiment\") [\"Frequency\"].sum()\n",
        "    if count[\"Positive\"] >= count[\"Negative\"]:\n",
        "        print(transport+\": Positive\")\n",
        "    else:\n",
        "        print(transport+\"Negative\")\n",
        "    percent_of_pos.update({transport:count[\"Positive\"]/(count[\"Positive\"]+count[\"Negative\"])})\n",
        "    print(\" Positive: \"+str(count[\"Positive\"])+\" Negative: \"+str(count[\"Negative\"]))\n",
        "    #Percentage of Postive: = count[\"Positive\"]/(count[\"Positive\"]+count[\"Negative\"]\n",
        "    print(\" Percentage of Postive: \"+str(percent_of_pos[transport]))"
      ],
      "execution_count": null,
      "outputs": [
        {
          "output_type": "stream",
          "text": [
            "Grab: Positive\n",
            " Positive: 45 Negative: 7\n",
            " Percentage of Postive: 0.8653846153846154\n",
            "Taxi: Positive\n",
            " Positive: 35 Negative: 9\n",
            " Percentage of Postive: 0.7954545454545454\n",
            "Bus: Positive\n",
            " Positive: 45 Negative: 15\n",
            " Percentage of Postive: 0.75\n",
            "Airline: Positive\n",
            " Positive: 21 Negative: 1\n",
            " Percentage of Postive: 0.9545454545454546\n"
          ],
          "name": "stdout"
        }
      ]
    },
    {
      "cell_type": "markdown",
      "metadata": {
        "id": "8ii3ghYPVgbk",
        "colab_type": "text"
      },
      "source": [
        "# Q9b) Accuracy of Determination of Articles Above\n",
        "### 1) It is not accurate because:\n",
        "####     a) I had analysed 1 article only for each transportation.\n",
        "####     b) bias exists when I took an article with a better review."
      ]
    },
    {
      "cell_type": "markdown",
      "metadata": {
        "id": "GNjcmeUDVgbl",
        "colab_type": "text"
      },
      "source": [
        "# Q9c) Conclusion\n",
        "### Grab: Positive\n",
        "### Taxi: Positive\n",
        "### Bus: Positive\n",
        "### Airline:Positive"
      ]
    },
    {
      "cell_type": "markdown",
      "metadata": {
        "id": "pA242oguVgbn",
        "colab_type": "text"
      },
      "source": [
        "# Q10a) Calculate Distance for All Options"
      ]
    },
    {
      "cell_type": "code",
      "metadata": {
        "id": "arNzWLF7Vgbo",
        "colab_type": "code",
        "colab": {}
      },
      "source": [
        "options = pd.DataFrame([0]*5, columns= [\"Distance\"],index=[ \"Option \"+str(i+1) for i in range(5)])\n",
        "\n",
        "#Option 1: UM Grab to Subang Airport -> Flight to Penang Airport -> Taxi To Penang War Museum\n",
        "options.iloc[0]+=distances_matrix.loc[\"UM\",\"Subang Airport\"]+ distances_matrix.loc[\"Subang Airport\",\"Penang Airport\"]+\\\n",
        "distances_matrix.loc[\"Subang Airport\",\"Museum\"]\n",
        "\n",
        "#Option 2: UM Grab to Subang Airport -> Flight to Penang Airport -> Bus To Bus Stop near Penang War Museum -> Taxi To Penang War Museum\n",
        "options.iloc[1]+=distances_matrix.loc[\"UM\",\"Subang Airport\"]+ distances_matrix.loc[\"Subang Airport\",\"Penang Airport\"]+\\\n",
        "distances_matrix.loc[\"Penang Airport\",\"Nearest Bus Stop To Museum\"]+distances_matrix.loc[\"Nearest Bus Stop To Museum\",\"Museum\"]\n",
        "\n",
        "#Option 3: UM Grab to TBS - > Bus to Subang Airport -> Flight to Penang Airport -> Taxi To Penang War Museum\n",
        "options.iloc[2]+=distances_matrix.loc[\"UM\",\"TBS\"]+ distances_matrix.loc[\"TBS\",\"Subang Airport\"]+\\\n",
        "distances_matrix.loc[\"Subang Airport\",\"Penang Airport\"]+ distances_matrix.loc[\"Penang Airport\",\"Museum\"]\n",
        "\n",
        "#Option 4: UM Grab to KL Sentral -> Bus to Subang Airport -> Flight to Penang Airport -> Taxi To Penang War Museum\n",
        "options.iloc[3]+=distances_matrix.loc[\"UM\",\"KL Sentral\"]+ distances_matrix.loc[\"KL Sentral\",\"Subang Airport\"]+\\\n",
        "distances_matrix.loc[\"Subang Airport\",\"Penang Airport\"]+ distances_matrix.loc[\"Penang Airport\",\"Museum\"]\n",
        "\n",
        "#Option 5: UM Grab to One Utama -> Bus to Subang Airport -> Flight to Penang Airport -> Taxi To Penang War Museum\n",
        "options.iloc[4]+=distances_matrix.loc[\"UM\",\"One Utama\"]+ distances_matrix.loc[\"One Utama\",\"Subang Airport\"]+\\\n",
        "distances_matrix.loc[\"Subang Airport\",\"Penang Airport\"]+distances_matrix.loc[\"Penang Airport\",\"Museum\"]"
      ],
      "execution_count": null,
      "outputs": []
    },
    {
      "cell_type": "markdown",
      "metadata": {
        "id": "FswuSeuPVgbs",
        "colab_type": "text"
      },
      "source": [
        "# Q10b) Calculate Sentiment for Each Transport for All Options"
      ]
    },
    {
      "cell_type": "code",
      "metadata": {
        "id": "FN8I4zeHVgbs",
        "colab_type": "code",
        "colab": {}
      },
      "source": [
        "options[\"Sentiment Score\"] = 0\n",
        "\n",
        "#Option 1: UM Grab to Subang Airport -> Flight to Penang Airport -> Taxi To Penang War Museum\n",
        "options.iloc[0,1]+= percent_of_pos[\"Grab\"] +percent_of_pos[\"Airline\"]+percent_of_pos[\"Taxi\"]\n",
        "\n",
        "#Option 2: UM Grab to Subang Airport -> Flight to Penang Airport -> Bus To Bus Stop near Penang War Museum -> Taxi To Penang War Museum\n",
        "options.iloc[1,1]+= percent_of_pos[\"Grab\"] +percent_of_pos[\"Airline\"]+percent_of_pos[\"Bus\"]+percent_of_pos[\"Taxi\"]\n",
        "\n",
        "#Option 3: UM Grab to TBS - > Bus to Subang Airport -> Flight to Penang Airport -> Taxi To Penang War Museum\n",
        "options.iloc[2,1]+= percent_of_pos[\"Grab\"] +percent_of_pos[\"Bus\"]+percent_of_pos[\"Airline\"]+percent_of_pos[\"Taxi\"]\n",
        "\n",
        "#Option 4: UM Grab to KL Sentral -> Bus to Subang Airport -> Flight to Penang Airport -> Taxi To Penang War Museum\n",
        "options.iloc[3,1]+= percent_of_pos[\"Grab\"] +percent_of_pos[\"Bus\"] +percent_of_pos[\"Airline\"]+percent_of_pos[\"Taxi\"]\n",
        "\n",
        "#Option 5: UM Grab to One Utama -> Bus to Subang Airport -> Flight to Penang Airport -> Taxi To Penang War Museum\n",
        "options.iloc[4,1]+= percent_of_pos[\"Grab\"] +percent_of_pos[\"Bus\"] +percent_of_pos[\"Airline\"]+percent_of_pos[\"Taxi\"]\n"
      ],
      "execution_count": null,
      "outputs": []
    },
    {
      "cell_type": "markdown",
      "metadata": {
        "id": "i_i8e6xBVgbw",
        "colab_type": "text"
      },
      "source": [
        "# Q10c) Summary"
      ]
    },
    {
      "cell_type": "code",
      "metadata": {
        "id": "dLuafmILVgb0",
        "colab_type": "code",
        "colab": {},
        "outputId": "d7b0c9b0-5565-4cc8-b4f8-d2a23d77fd8c"
      },
      "source": [
        "options[\"Total Score\"] = options[\"Distance\"] - options[\"Sentiment Score\"]\n",
        "options"
      ],
      "execution_count": null,
      "outputs": [
        {
          "output_type": "execute_result",
          "data": {
            "text/html": [
              "<div>\n",
              "<style scoped>\n",
              "    .dataframe tbody tr th:only-of-type {\n",
              "        vertical-align: middle;\n",
              "    }\n",
              "\n",
              "    .dataframe tbody tr th {\n",
              "        vertical-align: top;\n",
              "    }\n",
              "\n",
              "    .dataframe thead th {\n",
              "        text-align: right;\n",
              "    }\n",
              "</style>\n",
              "<table border=\"1\" class=\"dataframe\">\n",
              "  <thead>\n",
              "    <tr style=\"text-align: right;\">\n",
              "      <th></th>\n",
              "      <th>Distance</th>\n",
              "      <th>Sentiment Score</th>\n",
              "      <th>Total Score</th>\n",
              "    </tr>\n",
              "  </thead>\n",
              "  <tbody>\n",
              "    <tr>\n",
              "      <th>Option 1</th>\n",
              "      <td>289.731757</td>\n",
              "      <td>2.615385</td>\n",
              "      <td>287.116373</td>\n",
              "    </tr>\n",
              "    <tr>\n",
              "      <th>Option 2</th>\n",
              "      <td>293.607502</td>\n",
              "      <td>3.365385</td>\n",
              "      <td>290.242117</td>\n",
              "    </tr>\n",
              "    <tr>\n",
              "      <th>Option 3</th>\n",
              "      <td>307.917430</td>\n",
              "      <td>3.365385</td>\n",
              "      <td>304.552045</td>\n",
              "    </tr>\n",
              "    <tr>\n",
              "      <th>Option 4</th>\n",
              "      <td>299.795377</td>\n",
              "      <td>3.365385</td>\n",
              "      <td>296.429993</td>\n",
              "    </tr>\n",
              "    <tr>\n",
              "      <th>Option 5</th>\n",
              "      <td>293.535116</td>\n",
              "      <td>3.365385</td>\n",
              "      <td>290.169731</td>\n",
              "    </tr>\n",
              "  </tbody>\n",
              "</table>\n",
              "</div>"
            ],
            "text/plain": [
              "            Distance  Sentiment Score  Total Score\n",
              "Option 1  289.731757         2.615385   287.116373\n",
              "Option 2  293.607502         3.365385   290.242117\n",
              "Option 3  307.917430         3.365385   304.552045\n",
              "Option 4  299.795377         3.365385   296.429993\n",
              "Option 5  293.535116         3.365385   290.169731"
            ]
          },
          "metadata": {
            "tags": []
          },
          "execution_count": 18
        }
      ]
    }
  ]
}